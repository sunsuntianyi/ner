{
 "cells": [
  {
   "cell_type": "code",
   "execution_count": 1,
   "metadata": {},
   "outputs": [],
   "source": [
    "import pandas as pd\n",
    "import string\n",
    "from collections import Iterable\n",
    "from nltk.tag import ClassifierBasedTagger\n",
    "from nltk.chunk import ChunkParserI, conlltags2tree\n",
    "from nltk.stem.snowball import SnowballStemmer\n",
    "from nltk import pos_tag, word_tokenize\n",
    "from spacy import displacy\n",
    "\n",
    "from newspaper import Article\n",
    "import re\n",
    "\n",
    "class EntityChunker(ChunkParserI):\n",
    "    def __init__(self, train_sents, **kwargs):\n",
    "        assert isinstance(train_sents, Iterable)\n",
    "\n",
    "        self.feature_detector = features\n",
    "        self.tagger = ClassifierBasedTagger(\n",
    "            train=train_sents,\n",
    "            feature_detector=features,\n",
    "            **kwargs)\n",
    "\n",
    "    def parse(self, tagged_sent):\n",
    "        chunks = self.tagger.tag(tagged_sent)\n",
    "        iob_triplets = [(w, t, c) for ((w, t), c) in chunks]\n",
    "        \n",
    "        return iob_triplets\n",
    "\n",
    "\n",
    "def features(tokens, index, history):\n",
    "    \"\"\"\n",
    "    'tokens'  = a POS-tagged sentence [(w1, t1), ...]\n",
    "    'index'   = the index of the token we want to extract features for\n",
    "    'history' = the previous predicted IOB tags\n",
    "    \"\"\"\n",
    "\n",
    "    # init the stemmer\n",
    "    stemmer = SnowballStemmer('english')\n",
    "\n",
    "    # Pad the sequence with placeholders\n",
    "    tokens = [('[START2]', '[START2]'), ('[START1]', '[START1]')] + list(tokens) + [('[END1]', '[END1]'),\n",
    "                                                                                    ('[END2]', '[END2]')]\n",
    "    history = ['[START2]', '[START1]'] + list(history)\n",
    "\n",
    "    # shift the index with 2, to accommodate the padding\n",
    "    index += 2\n",
    "\n",
    "    word, pos = tokens[index]\n",
    "    prevword, prevpos = tokens[index - 1]\n",
    "    prevprevword, prevprevpos = tokens[index - 2]\n",
    "    nextword, nextpos = tokens[index + 1]\n",
    "    nextnextword, nextnextpos = tokens[index + 2]\n",
    "    previob = history[index - 1]\n",
    "    contains_dash = '-' in word\n",
    "    contains_dot = '.' in word\n",
    "    allascii = all([True for c in word if c in string.ascii_lowercase])\n",
    "\n",
    "    allcaps = word == word.capitalize()\n",
    "    capitalized = word[0] in string.ascii_uppercase\n",
    "\n",
    "    prevallcaps = prevword == prevword.capitalize()\n",
    "    prevcapitalized = prevword[0] in string.ascii_uppercase\n",
    "\n",
    "    nextallcaps = prevword == prevword.capitalize()\n",
    "    nextcapitalized = prevword[0] in string.ascii_uppercase\n",
    "\n",
    "    return {\n",
    "        'word': word,\n",
    "        'lemma': stemmer.stem(word),\n",
    "        'pos': pos,\n",
    "        'all-ascii': allascii,\n",
    "\n",
    "        'next-word': nextword,\n",
    "        'next-lemma': stemmer.stem(nextword),\n",
    "        'next-pos': nextpos,\n",
    "\n",
    "        'next-next-word': nextnextword,\n",
    "        'nextnextpos': nextnextpos,\n",
    "\n",
    "        'prev-word': prevword,\n",
    "        'prev-lemma': stemmer.stem(prevword),\n",
    "        'prev-pos': prevpos,\n",
    "\n",
    "        'prev-prev-word': prevprevword,\n",
    "        'prev-prev-pos': prevprevpos,\n",
    "\n",
    "        'prev-iob': previob,\n",
    "\n",
    "        'contains-dash': contains_dash,\n",
    "        'contains-dot': contains_dot,\n",
    "\n",
    "        'all-caps': allcaps,\n",
    "        'capitalized': capitalized,\n",
    "\n",
    "        'prev-all-caps': prevallcaps,\n",
    "        'prev-capitalized': prevcapitalized,\n",
    "\n",
    "        'next-all-caps': nextallcaps,\n",
    "        'next-capitalized': nextcapitalized,\n",
    "    }"
   ]
  },
  {
   "cell_type": "code",
   "execution_count": 2,
   "metadata": {},
   "outputs": [
    {
     "data": {
      "text/html": [
       "<div>\n",
       "<style scoped>\n",
       "    .dataframe tbody tr th:only-of-type {\n",
       "        vertical-align: middle;\n",
       "    }\n",
       "\n",
       "    .dataframe tbody tr th {\n",
       "        vertical-align: top;\n",
       "    }\n",
       "\n",
       "    .dataframe thead th {\n",
       "        text-align: right;\n",
       "    }\n",
       "</style>\n",
       "<table border=\"1\" class=\"dataframe\">\n",
       "  <thead>\n",
       "    <tr style=\"text-align: right;\">\n",
       "      <th></th>\n",
       "      <th>Sentence</th>\n",
       "      <th>Word</th>\n",
       "      <th>POS</th>\n",
       "      <th>Tag</th>\n",
       "    </tr>\n",
       "  </thead>\n",
       "  <tbody>\n",
       "    <tr>\n",
       "      <th>1</th>\n",
       "      <td>1</td>\n",
       "      <td>of</td>\n",
       "      <td>IN</td>\n",
       "      <td>O</td>\n",
       "    </tr>\n",
       "    <tr>\n",
       "      <th>2</th>\n",
       "      <td>1</td>\n",
       "      <td>demonstrators</td>\n",
       "      <td>NNS</td>\n",
       "      <td>O</td>\n",
       "    </tr>\n",
       "    <tr>\n",
       "      <th>3</th>\n",
       "      <td>1</td>\n",
       "      <td>have</td>\n",
       "      <td>VBP</td>\n",
       "      <td>O</td>\n",
       "    </tr>\n",
       "    <tr>\n",
       "      <th>4</th>\n",
       "      <td>1</td>\n",
       "      <td>marched</td>\n",
       "      <td>VBN</td>\n",
       "      <td>O</td>\n",
       "    </tr>\n",
       "    <tr>\n",
       "      <th>5</th>\n",
       "      <td>1</td>\n",
       "      <td>through</td>\n",
       "      <td>IN</td>\n",
       "      <td>O</td>\n",
       "    </tr>\n",
       "    <tr>\n",
       "      <th>6</th>\n",
       "      <td>1</td>\n",
       "      <td>London</td>\n",
       "      <td>NNP</td>\n",
       "      <td>B-geo</td>\n",
       "    </tr>\n",
       "    <tr>\n",
       "      <th>7</th>\n",
       "      <td>1</td>\n",
       "      <td>to</td>\n",
       "      <td>TO</td>\n",
       "      <td>O</td>\n",
       "    </tr>\n",
       "    <tr>\n",
       "      <th>8</th>\n",
       "      <td>1</td>\n",
       "      <td>protest</td>\n",
       "      <td>VB</td>\n",
       "      <td>O</td>\n",
       "    </tr>\n",
       "    <tr>\n",
       "      <th>9</th>\n",
       "      <td>1</td>\n",
       "      <td>the</td>\n",
       "      <td>DT</td>\n",
       "      <td>O</td>\n",
       "    </tr>\n",
       "  </tbody>\n",
       "</table>\n",
       "</div>"
      ],
      "text/plain": [
       "   Sentence           Word  POS    Tag\n",
       "1         1             of   IN      O\n",
       "2         1  demonstrators  NNS      O\n",
       "3         1           have  VBP      O\n",
       "4         1        marched  VBN      O\n",
       "5         1        through   IN      O\n",
       "6         1         London  NNP  B-geo\n",
       "7         1             to   TO      O\n",
       "8         1        protest   VB      O\n",
       "9         1            the   DT      O"
      ]
     },
     "execution_count": 2,
     "metadata": {},
     "output_type": "execute_result"
    }
   ],
   "source": [
    "# Read data\n",
    "data_file_path = '/Users/TonY/Desktop/sfl/Dataset_01-29-2019.txt'\n",
    "data = pd.read_csv(data_file_path, delimiter='\\t',\n",
    "                   header=0, index_col=0,\n",
    "                   names=['Sentence', 'Word', 'POS', 'Tag'],\n",
    "                   encoding='unicode_escape')\n",
    "# Check NA\n",
    "data.isna().any()\n",
    "\n",
    "# Check datatype\n",
    "data.dtypes\n",
    "\n",
    "# Change float to int\n",
    "data.Sentence = data.Sentence.astype(int)\n",
    "data[1:10]"
   ]
  },
  {
   "cell_type": "code",
   "execution_count": 3,
   "metadata": {},
   "outputs": [
    {
     "data": {
      "text/plain": [
       "O        56217\n",
       "B-geo     2070\n",
       "B-org     1237\n",
       "I-per     1234\n",
       "B-gpe     1230\n",
       "B-tim     1160\n",
       "B-per     1107\n",
       "I-org      926\n",
       "I-geo      414\n",
       "I-tim      334\n",
       "B-art       53\n",
       "B-eve       45\n",
       "I-eve       37\n",
       "I-gpe       34\n",
       "I-art       34\n",
       "B-nat       20\n",
       "I-nat        9\n",
       "Name: Tag, dtype: int64"
      ]
     },
     "execution_count": 3,
     "metadata": {},
     "output_type": "execute_result"
    }
   ],
   "source": [
    "# Total number of Sentences\n",
    "max(data.Sentence)\n",
    "\n",
    "# Tag Count by category\n",
    "# ART, EVE, NAT has too few data points\n",
    "data.Tag.value_counts()"
   ]
  },
  {
   "cell_type": "code",
   "execution_count": 4,
   "metadata": {},
   "outputs": [
    {
     "name": "stdout",
     "output_type": "stream",
     "text": [
      "0.8520664938233948\n"
     ]
    }
   ],
   "source": [
    "sentence_arr = data.Sentence.unique()\n",
    "token = []\n",
    "\n",
    "for sentence in sentence_arr:\n",
    "    temp_data = data[data['Sentence'] == sentence]\n",
    "    curr_index = temp_data.index\n",
    "    one_sentence = []\n",
    "    for index in curr_index:\n",
    "        one_sentence.append(((temp_data.Word[index], temp_data.POS[index]), temp_data.Tag[index]))\n",
    "    token.append(one_sentence)\n",
    "\n",
    "training_samples = token[:int(len(token) * 0.9)]\n",
    "test_samples = token[:int(len(token) * 0.1)]\n",
    "\n",
    "chunker = EntityChunker(training_samples[:2000])\n",
    "\n",
    "# Accuracy\n",
    "score = chunker.evaluate([conlltags2tree([(w, t, iob) for (w, t), iob in iobs]) for iobs in test_samples[:500]])\n",
    "print(score.accuracy())"
   ]
  },
  {
   "cell_type": "code",
   "execution_count": 10,
   "metadata": {},
   "outputs": [],
   "source": [
    "\n",
    "def url2text(url):\n",
    "    \"\"\"\n",
    "    This function takes in an url of the news article and output as string of text.\n",
    "    Returns a string with formated data, pads before and after each special symbol\n",
    "    \"\"\"\n",
    "    toi_article = Article(url, language=\"en\") # en for English\n",
    "    toi_article.download() \n",
    "  \n",
    "    #To parse the article \n",
    "    toi_article.parse()\n",
    "    \n",
    "    #To extract text \n",
    "    test_sentence = toi_article.text\n",
    "    # Padding one space before and after the special symbol, not pad if already padded\n",
    "    test_sentence = re.sub('(?<! )(?=[.,!?%#^&*@$:;()\"\\'`-])|(?<=[.,!?%#^&*@$:;()\"\\'`-])(?! )', r' ', test_sentence)\n",
    "    \n",
    "    return test_sentence\n",
    "\n",
    "\n",
    "# test_sentence = \"Georgia's Augusta National Golf Club is included in the slight risk area Sunday as the Masters concludes.\"\n",
    "\n",
    "# # ori = ['.', ',', '(', ')', '!', '']\n",
    "# # test_sentence.replace('.', ' .', test_sentence.count('.'))\n",
    "# test_sentence.replace(',', ' ,', test_sentence.count(','))\n",
    "\n",
    "\n",
    "# test_sentence = 'an enhanced risk(level 3 out of 5)stretches from Atlanta to Cleveland.'\n",
    "# test_sentence = re.sub('(?<=\\w)([''])', r' \\1', test_sentence)\n",
    "# test_sentence = re.sub(r\"(?<!\\s)\\(\", r' (', test_sentence) # => \" (some text)\"\n",
    "\n",
    "# Padding one space before and after the special symbol, not pad if already padded\n",
    "# test_sentence = re.sub('(?<! )(?=[.,!?()\"\\'`])|(?<=[.,!?()\"\\'`])(?! )', r' ', test_sentence)\n",
    "# print(test_sentence)\n",
    "\n",
    "\n",
    "# IOB\n",
    "\n",
    "def render_nltk_ner(test_sentence):\n",
    "    \"\"\"\n",
    "    This function serves to take the text output of the function \"url2text\", \n",
    "    restructure the data and then renders using SpaCy API. \n",
    "    It only shows the rendered text\"\n",
    "    \"\"\"\n",
    "    for line in test_sentence.splitlines():\n",
    "        iob_out = chunker.parse(pos_tag(word_tokenize(line)))\n",
    "#         # Print iob token\n",
    "#         print(iob_out)\n",
    "\n",
    "        ent_hash = {}\n",
    "        ent_list = []\n",
    "        hash_list = []\n",
    "        sentence = []\n",
    "\n",
    "        start_index = 0\n",
    "        for i, iob in enumerate(iob_out):\n",
    "            sentence.append(iob[0])\n",
    "            sentence_full = ' '.join(map(str, sentence))\n",
    "            if iob[2].startswith('B-'):\n",
    "                temp = [iob_out[i][0]]\n",
    "                try:\n",
    "                    iob_out[i+1][2]\n",
    "                    if iob_out[i+1][2] == 'O':\n",
    "                        word = ' '.join(map(str, temp))\n",
    "                        ent_hash = {'word': word,\n",
    "                                    \"start\": len(sentence_full) - len(word),\n",
    "                                    \"end\": len(sentence_full),\n",
    "                                    \"label\": iob_out[i][2][2:].upper()}\n",
    "\n",
    "                        hash_list.append(ent_hash)\n",
    "                except IndexError:\n",
    "                     break\n",
    "                        \n",
    "            elif iob[2].startswith('I-'):\n",
    "                temp.append(iob_out[i][0])\n",
    "                try:\n",
    "                    iob_out[i+1][2]\n",
    "                    if iob_out[i+1][2] == 'O':\n",
    "                        word = ' '.join(map(str, temp))\n",
    "                        ent_hash = {'word': word,\n",
    "                                    \"start\": len(sentence_full) - len(word),\n",
    "                                    \"end\": len(sentence_full),\n",
    "                                    \"label\": iob_out[i][2][2:].upper()}\n",
    "                        hash_list.append(ent_hash)\n",
    "                except IndexError:\n",
    "                     break\n",
    "                    \n",
    "\n",
    "        ent = {'text': line,\n",
    "               'ents': hash_list,\n",
    "               'title': None}\n",
    "\n",
    "        displacy.render(ent, manual=True, style=\"ent\", jupyter=True)\n",
    "        \n",
    "    return \n",
    "\n",
    "\n",
    "def render_nltk_ner_with_iob(test_sentence):\n",
    "    \"\"\"\n",
    "    This function serves to take the text output of the function \"url2text\", \n",
    "    restructure the data and then renders using SpaCy API. \n",
    "    It shows both iob token and the rendered text\"\n",
    "    \"\"\"\n",
    "    \n",
    "    for line in test_sentence.splitlines():\n",
    "        iob_out = chunker.parse(pos_tag(word_tokenize(line)))\n",
    "        # Print iob token\n",
    "        print(iob_out)\n",
    "\n",
    "        ent_hash = {}\n",
    "        ent_list = []\n",
    "        hash_list = []\n",
    "        sentence = []\n",
    "\n",
    "        start_index = 0\n",
    "        for i, iob in enumerate(iob_out):\n",
    "            sentence.append(iob[0])\n",
    "            sentence_full = ' '.join(map(str, sentence))\n",
    "            if iob[2].startswith('B-'):\n",
    "                temp = [iob_out[i][0]]\n",
    "                try:\n",
    "                    iob_out[i+1][2]\n",
    "                    if iob_out[i+1][2] == 'O':\n",
    "                        word = ' '.join(map(str, temp))\n",
    "                        ent_hash = {'word': word,\n",
    "                                    \"start\": len(sentence_full) - len(word),\n",
    "                                    \"end\": len(sentence_full),\n",
    "                                    \"label\": iob_out[i][2][2:].upper()}\n",
    "\n",
    "                        hash_list.append(ent_hash)\n",
    "                except IndexError:\n",
    "                     break\n",
    "                        \n",
    "            elif iob[2].startswith('I-'):\n",
    "                temp.append(iob_out[i][0])\n",
    "                try:\n",
    "                    iob_out[i+1][2]\n",
    "                    if iob_out[i+1][2] == 'O':\n",
    "                        word = ' '.join(map(str, temp))\n",
    "                        ent_hash = {'word': word,\n",
    "                                    \"start\": len(sentence_full) - len(word),\n",
    "                                    \"end\": len(sentence_full),\n",
    "                                    \"label\": iob_out[i][2][2:].upper()}\n",
    "                        hash_list.append(ent_hash)\n",
    "                except IndexError:\n",
    "                     break\n",
    "                    \n",
    "\n",
    "        ent = {'text': line,\n",
    "               'ents': hash_list,\n",
    "               'title': None}\n",
    "\n",
    "        displacy.render(ent, manual=True, style=\"ent\", jupyter=True)\n",
    "        \n",
    "    return "
   ]
  },
  {
   "cell_type": "code",
   "execution_count": 11,
   "metadata": {},
   "outputs": [
    {
     "data": {
      "text/html": [
       "<div class=\"entities\" style=\"line-height: 2.5\"> ( CNN ) Tax day isn ' t until\n",
       "<mark class=\"entity\" style=\"background: #ddd; padding: 0.45em 0.6em; margin: 0 0.25em; line-height: 1; border-radius: 0.35em; box-decoration-break: clone; -webkit-box-decoration-break: clone\">\n",
       "     Monda\n",
       "    <span style=\"font-size: 0.8em; font-weight: bold; line-height: 1; border-radius: 0.35em; text-transform: uppercase; vertical-align: middle; margin-left: 0.5rem\">TIM</span>\n",
       "</mark>\n",
       "y , but there have already been some surprises for\n",
       "<mark class=\"entity\" style=\"background: #feca74; padding: 0.45em 0.6em; margin: 0 0.25em; line-height: 1; border-radius: 0.35em; box-decoration-break: clone; -webkit-box-decoration-break: clone\">\n",
       "     American\n",
       "    <span style=\"font-size: 0.8em; font-weight: bold; line-height: 1; border-radius: 0.35em; text-transform: uppercase; vertical-align: middle; margin-left: 0.5rem\">GPE</span>\n",
       "</mark>\n",
       "s filing their first income tax returns under\n",
       "<mark class=\"entity\" style=\"background: #ddd; padding: 0.45em 0.6em; margin: 0 0.25em; line-height: 1; border-radius: 0.35em; box-decoration-break: clone; -webkit-box-decoration-break: clone\">\n",
       "     President Donald Trump ' s 2017 la\n",
       "    <span style=\"font-size: 0.8em; font-weight: bold; line-height: 1; border-radius: 0.35em; text-transform: uppercase; vertical-align: middle; margin-left: 0.5rem\">TIM</span>\n",
       "</mark>\n",
       "w . </div>"
      ],
      "text/plain": [
       "<IPython.core.display.HTML object>"
      ]
     },
     "metadata": {},
     "output_type": "display_data"
    },
    {
     "data": {
      "text/html": [
       "<div class=\"entities\" style=\"line-height: 2.5\"></div>"
      ],
      "text/plain": [
       "<IPython.core.display.HTML object>"
      ]
     },
     "metadata": {},
     "output_type": "display_data"
    },
    {
     "data": {
      "text/html": [
       "<div class=\"entities\" style=\"line-height: 2.5\">\n",
       "<mark class=\"entity\" style=\"background: #ddd; padding: 0.45em 0.6em; margin: 0 0.25em; line-height: 1; border-radius: 0.35em; box-decoration-break: clone; -webkit-box-decoration-break: clone\">\n",
       "    Let '\n",
       "    <span style=\"font-size: 0.8em; font-weight: bold; line-height: 1; border-radius: 0.35em; text-transform: uppercase; vertical-align: middle; margin-left: 0.5rem\">PER</span>\n",
       "</mark>\n",
       " s start with the big one . While most \n",
       "<mark class=\"entity\" style=\"background: #feca74; padding: 0.45em 0.6em; margin: 0 0.25em; line-height: 1; border-radius: 0.35em; box-decoration-break: clone; -webkit-box-decoration-break: clone\">\n",
       "    Americans\n",
       "    <span style=\"font-size: 0.8em; font-weight: bold; line-height: 1; border-radius: 0.35em; text-transform: uppercase; vertical-align: middle; margin-left: 0.5rem\">GPE</span>\n",
       "</mark>\n",
       " are paying less in taxes overall , many have been startled to find that their refunds have barely changed or are down - - making them feel like they lost , even if they ' re still coming out ahead . </div>"
      ],
      "text/plain": [
       "<IPython.core.display.HTML object>"
      ]
     },
     "metadata": {},
     "output_type": "display_data"
    },
    {
     "data": {
      "text/html": [
       "<div class=\"entities\" style=\"line-height: 2.5\"></div>"
      ],
      "text/plain": [
       "<IPython.core.display.HTML object>"
      ]
     },
     "metadata": {},
     "output_type": "display_data"
    },
    {
     "data": {
      "text/html": [
       "<div class=\"entities\" style=\"line-height: 2.5\">\n",
       "<mark class=\"entity\" style=\"background: #feca74; padding: 0.45em 0.6em; margin: 0 0.25em; line-height: 1; border-radius: 0.35em; box-decoration-break: clone; -webkit-box-decoration-break: clone\">\n",
       "    Below\n",
       "    <span style=\"font-size: 0.8em; font-weight: bold; line-height: 1; border-radius: 0.35em; text-transform: uppercase; vertical-align: middle; margin-left: 0.5rem\">GPE</span>\n",
       "</mark>\n",
       " are some other ways to look at who is winning and losing under the law . And please take note : \n",
       "<mark class=\"entity\" style=\"background: #ddd; padding: 0.45em 0.6em; margin: 0 0.25em; line-height: 1; border-radius: 0.35em; box-decoration-break: clone; -webkit-box-decoration-break: clone\">\n",
       "    It '\n",
       "    <span style=\"font-size: 0.8em; font-weight: bold; line-height: 1; border-radius: 0.35em; text-transform: uppercase; vertical-align: middle; margin-left: 0.5rem\">NAT</span>\n",
       "</mark>\n",
       " s possible to both win and lose at the same time . </div>"
      ],
      "text/plain": [
       "<IPython.core.display.HTML object>"
      ]
     },
     "metadata": {},
     "output_type": "display_data"
    },
    {
     "data": {
      "text/html": [
       "<div class=\"entities\" style=\"line-height: 2.5\"></div>"
      ],
      "text/plain": [
       "<IPython.core.display.HTML object>"
      ]
     },
     "metadata": {},
     "output_type": "display_data"
    },
    {
     "data": {
      "text/html": [
       "<div class=\"entities\" style=\"line-height: 2.5\">Winning : \n",
       "<mark class=\"entity\" style=\"background: #ddd; padding: 0.45em 0.6em; margin: 0 0.25em; line-height: 1; border-radius: 0.35em; box-decoration-break: clone; -webkit-box-decoration-break: clone\">\n",
       "    Most US\n",
       "    <span style=\"font-size: 0.8em; font-weight: bold; line-height: 1; border-radius: 0.35em; text-transform: uppercase; vertical-align: middle; margin-left: 0.5rem\">EVE</span>\n",
       "</mark>\n",
       " taxpayers</div>"
      ],
      "text/plain": [
       "<IPython.core.display.HTML object>"
      ]
     },
     "metadata": {},
     "output_type": "display_data"
    },
    {
     "data": {
      "text/html": [
       "<div class=\"entities\" style=\"line-height: 2.5\"></div>"
      ],
      "text/plain": [
       "<IPython.core.display.HTML object>"
      ]
     },
     "metadata": {},
     "output_type": "display_data"
    },
    {
     "data": {
      "text/html": [
       "<div class=\"entities\" style=\"line-height: 2.5\">The vast majority of \n",
       "<mark class=\"entity\" style=\"background: #feca74; padding: 0.45em 0.6em; margin: 0 0.25em; line-height: 1; border-radius: 0.35em; box-decoration-break: clone; -webkit-box-decoration-break: clone\">\n",
       "    American\n",
       "    <span style=\"font-size: 0.8em; font-weight: bold; line-height: 1; border-radius: 0.35em; text-transform: uppercase; vertical-align: middle; margin-left: 0.5rem\">GPE</span>\n",
       "</mark>\n",
       " tax filers \n",
       "<mark class=\"entity\" style=\"background: #ddd; padding: 0.45em 0.6em; margin: 0 0.25em; line-height: 1; border-radius: 0.35em; box-decoration-break: clone; -webkit-box-decoration-break: clone\">\n",
       "    - - more\n",
       "    <span style=\"font-size: 0.8em; font-weight: bold; line-height: 1; border-radius: 0.35em; text-transform: uppercase; vertical-align: middle; margin-left: 0.5rem\">TIM</span>\n",
       "</mark>\n",
       " than 65 % - - will see their overall tax burden decrease by at least $ \n",
       "<mark class=\"entity\" style=\"background: #ddd; padding: 0.45em 0.6em; margin: 0 0.25em; line-height: 1; border-radius: 0.35em; box-decoration-break: clone; -webkit-box-decoration-break: clone\">\n",
       "    100\n",
       "    <span style=\"font-size: 0.8em; font-weight: bold; line-height: 1; border-radius: 0.35em; text-transform: uppercase; vertical-align: middle; margin-left: 0.5rem\">TIM</span>\n",
       "</mark>\n",
       " , according to the congressional Joint Committee on \n",
       "<mark class=\"entity\" style=\"background: #ddd; padding: 0.45em 0.6em; margin: 0 0.25em; line-height: 1; border-radius: 0.35em; box-decoration-break: clone; -webkit-box-decoration-break: clone\">\n",
       "    Taxation\n",
       "    <span style=\"font-size: 0.8em; font-weight: bold; line-height: 1; border-radius: 0.35em; text-transform: uppercase; vertical-align: middle; margin-left: 0.5rem\">TIM</span>\n",
       "</mark>\n",
       " . \n",
       "<mark class=\"entity\" style=\"background: #ddd; padding: 0.45em 0.6em; margin: 0 0.25em; line-height: 1; border-radius: 0.35em; box-decoration-break: clone; -webkit-box-decoration-break: clone\">\n",
       "    See page 7\n",
       "    <span style=\"font-size: 0.8em; font-weight: bold; line-height: 1; border-radius: 0.35em; text-transform: uppercase; vertical-align: middle; margin-left: 0.5rem\">TIM</span>\n",
       "</mark>\n",
       " of this helpful analysis</div>"
      ],
      "text/plain": [
       "<IPython.core.display.HTML object>"
      ]
     },
     "metadata": {},
     "output_type": "display_data"
    },
    {
     "data": {
      "text/html": [
       "<div class=\"entities\" style=\"line-height: 2.5\"></div>"
      ],
      "text/plain": [
       "<IPython.core.display.HTML object>"
      ]
     },
     "metadata": {},
     "output_type": "display_data"
    },
    {
     "data": {
      "text/html": [
       "<div class=\"entities\" style=\"line-height: 2.5\">\n",
       "<mark class=\"entity\" style=\"background: #ddd; padding: 0.45em 0.6em; margin: 0 0.25em; line-height: 1; border-radius: 0.35em; box-decoration-break: clone; -webkit-box-decoration-break: clone\">\n",
       "    Slightly\n",
       "    <span style=\"font-size: 0.8em; font-weight: bold; line-height: 1; border-radius: 0.35em; text-transform: uppercase; vertical-align: middle; margin-left: 0.5rem\">PER</span>\n",
       "</mark>\n",
       " less than 30 % of filers will see very little change in their tax liability and a small percentage , about 6 % , will see an increase . These tax rate cuts for individual filers are not permanent like the corporate tax cuts , but they ' ll be in place until \n",
       "<mark class=\"entity\" style=\"background: #ddd; padding: 0.45em 0.6em; margin: 0 0.25em; line-height: 1; border-radius: 0.35em; box-decoration-break: clone; -webkit-box-decoration-break: clone\">\n",
       "    2025\n",
       "    <span style=\"font-size: 0.8em; font-weight: bold; line-height: 1; border-radius: 0.35em; text-transform: uppercase; vertical-align: middle; margin-left: 0.5rem\">TIM</span>\n",
       "</mark>\n",
       " . </div>"
      ],
      "text/plain": [
       "<IPython.core.display.HTML object>"
      ]
     },
     "metadata": {},
     "output_type": "display_data"
    },
    {
     "data": {
      "text/html": [
       "<div class=\"entities\" style=\"line-height: 2.5\"></div>"
      ],
      "text/plain": [
       "<IPython.core.display.HTML object>"
      ]
     },
     "metadata": {},
     "output_type": "display_data"
    },
    {
     "data": {
      "text/html": [
       "<div class=\"entities\" style=\"line-height: 2.5\">But while most \n",
       "<mark class=\"entity\" style=\"background: #feca74; padding: 0.45em 0.6em; margin: 0 0.25em; line-height: 1; border-radius: 0.35em; box-decoration-break: clone; -webkit-box-decoration-break: clone\">\n",
       "    Americans\n",
       "    <span style=\"font-size: 0.8em; font-weight: bold; line-height: 1; border-radius: 0.35em; text-transform: uppercase; vertical-align: middle; margin-left: 0.5rem\">GPE</span>\n",
       "</mark>\n",
       " got a tax cut , most people don ' t \n",
       "<mark class=\"entity\" style=\"background: #ddd; padding: 0.45em 0.6em; margin: 0 0.25em; line-height: 1; border-radius: 0.35em; box-decoration-break: clone; -webkit-box-decoration-break: clone\">\n",
       "    seem\n",
       "    <span style=\"font-size: 0.8em; font-weight: bold; line-height: 1; border-radius: 0.35em; text-transform: uppercase; vertical-align: middle; margin-left: 0.5rem\">TIM</span>\n",
       "</mark>\n",
       " to understand they got one . According to an \n",
       "<mark class=\"entity\" style=\"background: #7aecec; padding: 0.45em 0.6em; margin: 0 0.25em; line-height: 1; border-radius: 0.35em; box-decoration-break: clone; -webkit-box-decoration-break: clone\">\n",
       "    NBC News/Wall Street Journal\n",
       "    <span style=\"font-size: 0.8em; font-weight: bold; line-height: 1; border-radius: 0.35em; text-transform: uppercase; vertical-align: middle; margin-left: 0.5rem\">ORG</span>\n",
       "</mark>\n",
       " poll out this week , only 17 % of \n",
       "<mark class=\"entity\" style=\"background: #ddd; padding: 0.45em 0.6em; margin: 0 0.25em; line-height: 1; border-radius: 0.35em; box-decoration-break: clone; -webkit-box-decoration-break: clone\">\n",
       "    Americans\n",
       "    <span style=\"font-size: 0.8em; font-weight: bold; line-height: 1; border-radius: 0.35em; text-transform: uppercase; vertical-align: middle; margin-left: 0.5rem\">GEO</span>\n",
       "</mark>\n",
       " think they ' re getting a tax cut while 28 % said they will pay more . </div>"
      ],
      "text/plain": [
       "<IPython.core.display.HTML object>"
      ]
     },
     "metadata": {},
     "output_type": "display_data"
    },
    {
     "data": {
      "text/html": [
       "<div class=\"entities\" style=\"line-height: 2.5\"></div>"
      ],
      "text/plain": [
       "<IPython.core.display.HTML object>"
      ]
     },
     "metadata": {},
     "output_type": "display_data"
    },
    {
     "data": {
      "text/html": [
       "<div class=\"entities\" style=\"line-height: 2.5\">Winning : \n",
       "<mark class=\"entity\" style=\"background: #ddd; padding: 0.45em 0.6em; margin: 0 0.25em; line-height: 1; border-radius: 0.35em; box-decoration-break: clone; -webkit-box-decoration-break: clone\">\n",
       "    Most\n",
       "    <span style=\"font-size: 0.8em; font-weight: bold; line-height: 1; border-radius: 0.35em; text-transform: uppercase; vertical-align: middle; margin-left: 0.5rem\">EVE</span>\n",
       "</mark>\n",
       " rich people</div>"
      ],
      "text/plain": [
       "<IPython.core.display.HTML object>"
      ]
     },
     "metadata": {},
     "output_type": "display_data"
    },
    {
     "data": {
      "text/html": [
       "<div class=\"entities\" style=\"line-height: 2.5\"></div>"
      ],
      "text/plain": [
       "<IPython.core.display.HTML object>"
      ]
     },
     "metadata": {},
     "output_type": "display_data"
    },
    {
     "data": {
      "text/html": [
       "<div class=\"entities\" style=\"line-height: 2.5\">The new tax law ' s benefits are tilted toward the wealthy , who will generally see greater benefits than other \n",
       "<mark class=\"entity\" style=\"background: #ddd; padding: 0.45em 0.6em; margin: 0 0.25em; line-height: 1; border-radius: 0.35em; box-decoration-break: clone; -webkit-box-decoration-break: clone\">\n",
       "    Americans\n",
       "    <span style=\"font-size: 0.8em; font-weight: bold; line-height: 1; border-radius: 0.35em; text-transform: uppercase; vertical-align: middle; margin-left: 0.5rem\">GEO</span>\n",
       "</mark>\n",
       " . </div>"
      ],
      "text/plain": [
       "<IPython.core.display.HTML object>"
      ]
     },
     "metadata": {},
     "output_type": "display_data"
    },
    {
     "data": {
      "text/html": [
       "<div class=\"entities\" style=\"line-height: 2.5\"></div>"
      ],
      "text/plain": [
       "<IPython.core.display.HTML object>"
      ]
     },
     "metadata": {},
     "output_type": "display_data"
    },
    {
     "data": {
      "text/html": [
       "<div class=\"entities\" style=\"line-height: 2.5\">largest cuts will go to the people who pay the most in tax , according to the \n",
       "<mark class=\"entity\" style=\"background: #7aecec; padding: 0.45em 0.6em; margin: 0 0.25em; line-height: 1; border-radius: 0.35em; box-decoration-break: clone; -webkit-box-decoration-break: clone\">\n",
       "    Thelargest cuts\n",
       "    <span style=\"font-size: 0.8em; font-weight: bold; line-height: 1; border-radius: 0.35em; text-transform: uppercase; vertical-align: middle; margin-left: 0.5rem\">ORG</span>\n",
       "</mark>\n",
       " will go to the people who pay the most in tax , according to the \n",
       "<mark class=\"entity\" style=\"background: #7aecec; padding: 0.45em 0.6em; margin: 0 0.25em; line-height: 1; border-radius: 0.35em; box-decoration-break: clone; -webkit-box-decoration-break: clone\">\n",
       "    Tax Policy Center\n",
       "    <span style=\"font-size: 0.8em; font-weight: bold; line-height: 1; border-radius: 0.35em; text-transform: uppercase; vertical-align: middle; margin-left: 0.5rem\">ORG</span>\n",
       "</mark>\n",
       " , a think tank , which suggested that tax filers in the \n",
       "<mark class=\"entity\" style=\"background: #ddd; padding: 0.45em 0.6em; margin: 0 0.25em; line-height: 1; border-radius: 0.35em; box-decoration-break: clone; -webkit-box-decoration-break: clone\">\n",
       "    95th to 99th percentile of\n",
       "    <span style=\"font-size: 0.8em; font-weight: bold; line-height: 1; border-radius: 0.35em; text-transform: uppercase; vertical-align: middle; margin-left: 0.5rem\">TIM</span>\n",
       "</mark>\n",
       "\n",
       "<mark class=\"entity\" style=\"background: #ddd; padding: 0.45em 0.6em; margin: 0 0.25em; line-height: 1; border-radius: 0.35em; box-decoration-break: clone; -webkit-box-decoration-break: clone\">\n",
       "    9th percentile of income - -\n",
       "    <span style=\"font-size: 0.8em; font-weight: bold; line-height: 1; border-radius: 0.35em; text-transform: uppercase; vertical-align: middle; margin-left: 0.5rem\">TIM</span>\n",
       "</mark>\n",
       " roughly between \n",
       "<mark class=\"entity\" style=\"background: #ddd; padding: 0.45em 0.6em; margin: 0 0.25em; line-height: 1; border-radius: 0.35em; box-decoration-break: clone; -webkit-box-decoration-break: clone\">\n",
       "    $ 308 , 000\n",
       "    <span style=\"font-size: 0.8em; font-weight: bold; line-height: 1; border-radius: 0.35em; text-transform: uppercase; vertical-align: middle; margin-left: 0.5rem\">TIM</span>\n",
       "</mark>\n",
       " and $ \n",
       "<mark class=\"entity\" style=\"background: #ddd; padding: 0.45em 0.6em; margin: 0 0.25em; line-height: 1; border-radius: 0.35em; box-decoration-break: clone; -webkit-box-decoration-break: clone\">\n",
       "    733 , 000 - -\n",
       "    <span style=\"font-size: 0.8em; font-weight: bold; line-height: 1; border-radius: 0.35em; text-transform: uppercase; vertical-align: middle; margin-left: 0.5rem\">TIM</span>\n",
       "</mark>\n",
       " would see the largest benefit as a portion of after - tax income . </div>"
      ],
      "text/plain": [
       "<IPython.core.display.HTML object>"
      ]
     },
     "metadata": {},
     "output_type": "display_data"
    },
    {
     "data": {
      "text/html": [
       "<div class=\"entities\" style=\"line-height: 2.5\"></div>"
      ],
      "text/plain": [
       "<IPython.core.display.HTML object>"
      ]
     },
     "metadata": {},
     "output_type": "display_data"
    },
    {
     "data": {
      "text/html": [
       "<div class=\"entities\" style=\"line-height: 2.5\">\n",
       "<mark class=\"entity\" style=\"background: #feca74; padding: 0.45em 0.6em; margin: 0 0.25em; line-height: 1; border-radius: 0.35em; box-decoration-break: clone; -webkit-box-decoration-break: clone\">\n",
       "    Most\n",
       "    <span style=\"font-size: 0.8em; font-weight: bold; line-height: 1; border-radius: 0.35em; text-transform: uppercase; vertical-align: middle; margin-left: 0.5rem\">GPE</span>\n",
       "</mark>\n",
       " people in the bottom \n",
       "<mark class=\"entity\" style=\"background: #ddd; padding: 0.45em 0.6em; margin: 0 0.25em; line-height: 1; border-radius: 0.35em; box-decoration-break: clone; -webkit-box-decoration-break: clone\">\n",
       "    20 %\n",
       "    <span style=\"font-size: 0.8em; font-weight: bold; line-height: 1; border-radius: 0.35em; text-transform: uppercase; vertical-align: middle; margin-left: 0.5rem\">TIM</span>\n",
       "</mark>\n",
       " income - wise will see little or no change in their tax liability , according to that report . </div>"
      ],
      "text/plain": [
       "<IPython.core.display.HTML object>"
      ]
     },
     "metadata": {},
     "output_type": "display_data"
    },
    {
     "data": {
      "text/html": [
       "<div class=\"entities\" style=\"line-height: 2.5\"></div>"
      ],
      "text/plain": [
       "<IPython.core.display.HTML object>"
      ]
     },
     "metadata": {},
     "output_type": "display_data"
    },
    {
     "data": {
      "text/html": [
       "<div class=\"entities\" style=\"line-height: 2.5\">\n",
       "<mark class=\"entity\" style=\"background: #ddd; padding: 0.45em 0.6em; margin: 0 0.25em; line-height: 1; border-radius: 0.35em; box-decoration-break: clone; -webkit-box-decoration-break: clone\">\n",
       "    Losing :\n",
       "    <span style=\"font-size: 0.8em; font-weight: bold; line-height: 1; border-radius: 0.35em; text-transform: uppercase; vertical-align: middle; margin-left: 0.5rem\">PER</span>\n",
       "</mark>\n",
       " Some rich people , probably in \n",
       "<mark class=\"entity\" style=\"background: #ddd; padding: 0.45em 0.6em; margin: 0 0.25em; line-height: 1; border-radius: 0.35em; box-decoration-break: clone; -webkit-box-decoration-break: clone\">\n",
       "    blue\n",
       "    <span style=\"font-size: 0.8em; font-weight: bold; line-height: 1; border-radius: 0.35em; text-transform: uppercase; vertical-align: middle; margin-left: 0.5rem\">GEO</span>\n",
       "</mark>\n",
       " states</div>"
      ],
      "text/plain": [
       "<IPython.core.display.HTML object>"
      ]
     },
     "metadata": {},
     "output_type": "display_data"
    },
    {
     "data": {
      "text/html": [
       "<div class=\"entities\" style=\"line-height: 2.5\"></div>"
      ],
      "text/plain": [
       "<IPython.core.display.HTML object>"
      ]
     },
     "metadata": {},
     "output_type": "display_data"
    },
    {
     "data": {
      "text/html": [
       "<div class=\"entities\" style=\"line-height: 2.5\">About 14 % of rich people making more than $ 1 million will see a tax increase . \n",
       "<mark class=\"entity\" style=\"background: #ddd; padding: 0.45em 0.6em; margin: 0 0.25em; line-height: 1; border-radius: 0.35em; box-decoration-break: clone; -webkit-box-decoration-break: clone\">\n",
       "    They '\n",
       "    <span style=\"font-size: 0.8em; font-weight: bold; line-height: 1; border-radius: 0.35em; text-transform: uppercase; vertical-align: middle; margin-left: 0.5rem\">NAT</span>\n",
       "</mark>\n",
       " re likely to be concentrated in states with high state and local taxes and they possibly have multiple homes . They used to be able to deduct a lot more of their state and local income taxes from their federal returns . Now those deductions are capped at $ \n",
       "<mark class=\"entity\" style=\"background: #ddd; padding: 0.45em 0.6em; margin: 0 0.25em; line-height: 1; border-radius: 0.35em; box-decoration-break: clone; -webkit-box-decoration-break: clone\">\n",
       "    10 , 000\n",
       "    <span style=\"font-size: 0.8em; font-weight: bold; line-height: 1; border-radius: 0.35em; text-transform: uppercase; vertical-align: middle; margin-left: 0.5rem\">TIM</span>\n",
       "</mark>\n",
       " . </div>"
      ],
      "text/plain": [
       "<IPython.core.display.HTML object>"
      ]
     },
     "metadata": {},
     "output_type": "display_data"
    },
    {
     "data": {
      "text/html": [
       "<div class=\"entities\" style=\"line-height: 2.5\"></div>"
      ],
      "text/plain": [
       "<IPython.core.display.HTML object>"
      ]
     },
     "metadata": {},
     "output_type": "display_data"
    },
    {
     "data": {
      "text/html": [
       "<div class=\"entities\" style=\"line-height: 2.5\">\n",
       "<mark class=\"entity\" style=\"background: #ddd; padding: 0.45em 0.6em; margin: 0 0.25em; line-height: 1; border-radius: 0.35em; box-decoration-break: clone; -webkit-box-decoration-break: clone\">\n",
       "    Really winning\n",
       "    <span style=\"font-size: 0.8em; font-weight: bold; line-height: 1; border-radius: 0.35em; text-transform: uppercase; vertical-align: middle; margin-left: 0.5rem\">PER</span>\n",
       "</mark>\n",
       " : Heirs of rich people</div>"
      ],
      "text/plain": [
       "<IPython.core.display.HTML object>"
      ]
     },
     "metadata": {},
     "output_type": "display_data"
    },
    {
     "data": {
      "text/html": [
       "<div class=\"entities\" style=\"line-height: 2.5\"></div>"
      ],
      "text/plain": [
       "<IPython.core.display.HTML object>"
      ]
     },
     "metadata": {},
     "output_type": "display_data"
    },
    {
     "data": {
      "text/html": [
       "<div class=\"entities\" style=\"line-height: 2.5\">The law more than doubled the amount that can pass to family members without triggering the estate tax , from about $ 5 million to more than $ 11 million for individuals and $ 22 million for married \n",
       "<mark class=\"entity\" style=\"background: #ddd; padding: 0.45em 0.6em; margin: 0 0.25em; line-height: 1; border-radius: 0.35em; box-decoration-break: clone; -webkit-box-decoration-break: clone\">\n",
       "    couples\n",
       "    <span style=\"font-size: 0.8em; font-weight: bold; line-height: 1; border-radius: 0.35em; text-transform: uppercase; vertical-align: middle; margin-left: 0.5rem\">TIM</span>\n",
       "</mark>\n",
       " . That affects a relatively small number of \n",
       "<mark class=\"entity\" style=\"background: #ddd; padding: 0.45em 0.6em; margin: 0 0.25em; line-height: 1; border-radius: 0.35em; box-decoration-break: clone; -webkit-box-decoration-break: clone\">\n",
       "    Americans\n",
       "    <span style=\"font-size: 0.8em; font-weight: bold; line-height: 1; border-radius: 0.35em; text-transform: uppercase; vertical-align: middle; margin-left: 0.5rem\">GEO</span>\n",
       "</mark>\n",
       " , but it means they ' ll be able to keep more of an estate . </div>"
      ],
      "text/plain": [
       "<IPython.core.display.HTML object>"
      ]
     },
     "metadata": {},
     "output_type": "display_data"
    },
    {
     "data": {
      "text/html": [
       "<div class=\"entities\" style=\"line-height: 2.5\"></div>"
      ],
      "text/plain": [
       "<IPython.core.display.HTML object>"
      ]
     },
     "metadata": {},
     "output_type": "display_data"
    },
    {
     "data": {
      "text/html": [
       "<div class=\"entities\" style=\"line-height: 2.5\">\n",
       "<mark class=\"entity\" style=\"background: #ddd; padding: 0.45em 0.6em; margin: 0 0.25em; line-height: 1; border-radius: 0.35em; box-decoration-break: clone; -webkit-box-decoration-break: clone\">\n",
       "    Still\n",
       "    <span style=\"font-size: 0.8em; font-weight: bold; line-height: 1; border-radius: 0.35em; text-transform: uppercase; vertical-align: middle; margin-left: 0.5rem\">PER</span>\n",
       "</mark>\n",
       " winning \n",
       "<mark class=\"entity\" style=\"background: #ddd; padding: 0.45em 0.6em; margin: 0 0.25em; line-height: 1; border-radius: 0.35em; box-decoration-break: clone; -webkit-box-decoration-break: clone\">\n",
       "    :\n",
       "    <span style=\"font-size: 0.8em; font-weight: bold; line-height: 1; border-radius: 0.35em; text-transform: uppercase; vertical-align: middle; margin-left: 0.5rem\">TIM</span>\n",
       "</mark>\n",
       " Investors</div>"
      ],
      "text/plain": [
       "<IPython.core.display.HTML object>"
      ]
     },
     "metadata": {},
     "output_type": "display_data"
    },
    {
     "data": {
      "text/html": [
       "<div class=\"entities\" style=\"line-height: 2.5\"></div>"
      ],
      "text/plain": [
       "<IPython.core.display.HTML object>"
      ]
     },
     "metadata": {},
     "output_type": "display_data"
    },
    {
     "data": {
      "text/html": [
       "<div class=\"entities\" style=\"line-height: 2.5\">The rates for capital gains taxes did not change in the tax law and remain lower than the rates for wage income . So people making money primarily off investments will continue to pay less in taxes than people who depend mostly on \n",
       "<mark class=\"entity\" style=\"background: #ddd; padding: 0.45em 0.6em; margin: 0 0.25em; line-height: 1; border-radius: 0.35em; box-decoration-break: clone; -webkit-box-decoration-break: clone\">\n",
       "    salary income\n",
       "    <span style=\"font-size: 0.8em; font-weight: bold; line-height: 1; border-radius: 0.35em; text-transform: uppercase; vertical-align: middle; margin-left: 0.5rem\">TIM</span>\n",
       "</mark>\n",
       " . </div>"
      ],
      "text/plain": [
       "<IPython.core.display.HTML object>"
      ]
     },
     "metadata": {},
     "output_type": "display_data"
    },
    {
     "data": {
      "text/html": [
       "<div class=\"entities\" style=\"line-height: 2.5\"></div>"
      ],
      "text/plain": [
       "<IPython.core.display.HTML object>"
      ]
     },
     "metadata": {},
     "output_type": "display_data"
    },
    {
     "data": {
      "text/html": [
       "<div class=\"entities\" style=\"line-height: 2.5\">\n",
       "<mark class=\"entity\" style=\"background: #ddd; padding: 0.45em 0.6em; margin: 0 0.25em; line-height: 1; border-radius: 0.35em; box-decoration-break: clone; -webkit-box-decoration-break: clone\">\n",
       "    Winning : Trump , maybe\n",
       "    <span style=\"font-size: 0.8em; font-weight: bold; line-height: 1; border-radius: 0.35em; text-transform: uppercase; vertical-align: middle; margin-left: 0.5rem\">TIM</span>\n",
       "</mark>\n",
       " , although some other business owners won ' t win as much</div>"
      ],
      "text/plain": [
       "<IPython.core.display.HTML object>"
      ]
     },
     "metadata": {},
     "output_type": "display_data"
    },
    {
     "data": {
      "text/html": [
       "<div class=\"entities\" style=\"line-height: 2.5\"></div>"
      ],
      "text/plain": [
       "<IPython.core.display.HTML object>"
      ]
     },
     "metadata": {},
     "output_type": "display_data"
    },
    {
     "data": {
      "text/html": [
       "<div class=\"entities\" style=\"line-height: 2.5\">\n",
       "<mark class=\"entity\" style=\"background: #feca74; padding: 0.45em 0.6em; margin: 0 0.25em; line-height: 1; border-radius: 0.35em; box-decoration-break: clone; -webkit-box-decoration-break: clone\">\n",
       "    Most\n",
       "    <span style=\"font-size: 0.8em; font-weight: bold; line-height: 1; border-radius: 0.35em; text-transform: uppercase; vertical-align: middle; margin-left: 0.5rem\">GPE</span>\n",
       "</mark>\n",
       " small business owners ( and a lot of not - so - small business owners ) include their profits on personal income tax returns instead of paying as corporations . \n",
       "<mark class=\"entity\" style=\"background: #ddd; padding: 0.45em 0.6em; margin: 0 0.25em; line-height: 1; border-radius: 0.35em; box-decoration-break: clone; -webkit-box-decoration-break: clone\">\n",
       "    Trump is\n",
       "    <span style=\"font-size: 0.8em; font-weight: bold; line-height: 1; border-radius: 0.35em; text-transform: uppercase; vertical-align: middle; margin-left: 0.5rem\">PER</span>\n",
       "</mark>\n",
       " presumably among these , although it ' s \n",
       "<mark class=\"entity\" style=\"background: #ddd; padding: 0.45em 0.6em; margin: 0 0.25em; line-height: 1; border-radius: 0.35em; box-decoration-break: clone; -webkit-box-decoration-break: clone\">\n",
       "    impossible\n",
       "    <span style=\"font-size: 0.8em; font-weight: bold; line-height: 1; border-radius: 0.35em; text-transform: uppercase; vertical-align: middle; margin-left: 0.5rem\">TIM</span>\n",
       "</mark>\n",
       " to know since he has kept his tax returns from public view . </div>"
      ],
      "text/plain": [
       "<IPython.core.display.HTML object>"
      ]
     },
     "metadata": {},
     "output_type": "display_data"
    },
    {
     "data": {
      "text/html": [
       "<div class=\"entities\" style=\"line-height: 2.5\"></div>"
      ],
      "text/plain": [
       "<IPython.core.display.HTML object>"
      ]
     },
     "metadata": {},
     "output_type": "display_data"
    },
    {
     "data": {
      "text/html": [
       "<div class=\"entities\" style=\"line-height: 2.5\">Under the law , which the \n",
       "<mark class=\"entity\" style=\"background: #7aecec; padding: 0.45em 0.6em; margin: 0 0.25em; line-height: 1; border-radius: 0.35em; box-decoration-break: clone; -webkit-box-decoration-break: clone\">\n",
       "    IRS\n",
       "    <span style=\"font-size: 0.8em; font-weight: bold; line-height: 1; border-radius: 0.35em; text-transform: uppercase; vertical-align: middle; margin-left: 0.5rem\">ORG</span>\n",
       "</mark>\n",
       " clarified in \n",
       "<mark class=\"entity\" style=\"background: #ddd; padding: 0.45em 0.6em; margin: 0 0.25em; line-height: 1; border-radius: 0.35em; box-decoration-break: clone; -webkit-box-decoration-break: clone\">\n",
       "    January ,\n",
       "    <span style=\"font-size: 0.8em; font-weight: bold; line-height: 1; border-radius: 0.35em; text-transform: uppercase; vertical-align: middle; margin-left: 0.5rem\">TIM</span>\n",
       "</mark>\n",
       " certain types of business owners get a 20 % tax \n",
       "<mark class=\"entity\" style=\"background: #ddd; padding: 0.45em 0.6em; margin: 0 0.25em; line-height: 1; border-radius: 0.35em; box-decoration-break: clone; -webkit-box-decoration-break: clone\">\n",
       "    deduction\n",
       "    <span style=\"font-size: 0.8em; font-weight: bold; line-height: 1; border-radius: 0.35em; text-transform: uppercase; vertical-align: middle; margin-left: 0.5rem\">TIM</span>\n",
       "</mark>\n",
       " . \n",
       "<mark class=\"entity\" style=\"background: #feca74; padding: 0.45em 0.6em; margin: 0 0.25em; line-height: 1; border-radius: 0.35em; box-decoration-break: clone; -webkit-box-decoration-break: clone\">\n",
       "    Doctors\n",
       "    <span style=\"font-size: 0.8em; font-weight: bold; line-height: 1; border-radius: 0.35em; text-transform: uppercase; vertical-align: middle; margin-left: 0.5rem\">GPE</span>\n",
       "</mark>\n",
       " and lawyers lost out on that exemption , however , along with Major League Baseball team \n",
       "<mark class=\"entity\" style=\"background: #ddd; padding: 0.45em 0.6em; margin: 0 0.25em; line-height: 1; border-radius: 0.35em; box-decoration-break: clone; -webkit-box-decoration-break: clone\">\n",
       "    owners\n",
       "    <span style=\"font-size: 0.8em; font-weight: bold; line-height: 1; border-radius: 0.35em; text-transform: uppercase; vertical-align: middle; margin-left: 0.5rem\">TIM</span>\n",
       "</mark>\n",
       " . </div>"
      ],
      "text/plain": [
       "<IPython.core.display.HTML object>"
      ]
     },
     "metadata": {},
     "output_type": "display_data"
    },
    {
     "data": {
      "text/html": [
       "<div class=\"entities\" style=\"line-height: 2.5\"></div>"
      ],
      "text/plain": [
       "<IPython.core.display.HTML object>"
      ]
     },
     "metadata": {},
     "output_type": "display_data"
    },
    {
     "data": {
      "text/html": [
       "<div class=\"entities\" style=\"line-height: 2.5\">\n",
       "<mark class=\"entity\" style=\"background: #ddd; padding: 0.45em 0.6em; margin: 0 0.25em; line-height: 1; border-radius: 0.35em; box-decoration-break: clone; -webkit-box-decoration-break: clone\">\n",
       "    Winning\n",
       "    <span style=\"font-size: 0.8em; font-weight: bold; line-height: 1; border-radius: 0.35em; text-transform: uppercase; vertical-align: middle; margin-left: 0.5rem\">PER</span>\n",
       "</mark>\n",
       " : \n",
       "<mark class=\"entity\" style=\"background: #feca74; padding: 0.45em 0.6em; margin: 0 0.25em; line-height: 1; border-radius: 0.35em; box-decoration-break: clone; -webkit-box-decoration-break: clone\">\n",
       "    Red state\n",
       "    <span style=\"font-size: 0.8em; font-weight: bold; line-height: 1; border-radius: 0.35em; text-transform: uppercase; vertical-align: middle; margin-left: 0.5rem\">GPE</span>\n",
       "</mark>\n",
       " filers who depend on refunds</div>"
      ],
      "text/plain": [
       "<IPython.core.display.HTML object>"
      ]
     },
     "metadata": {},
     "output_type": "display_data"
    },
    {
     "data": {
      "text/html": [
       "<div class=\"entities\" style=\"line-height: 2.5\"></div>"
      ],
      "text/plain": [
       "<IPython.core.display.HTML object>"
      ]
     },
     "metadata": {},
     "output_type": "display_data"
    },
    {
     "data": {
      "text/html": [
       "<div class=\"entities\" style=\"line-height: 2.5\">According to preliminary data from H & \n",
       "<mark class=\"entity\" style=\"background: #ddd; padding: 0.45em 0.6em; margin: 0 0.25em; line-height: 1; border-radius: 0.35em; box-decoration-break: clone; -webkit-box-decoration-break: clone\">\n",
       "    R Block\n",
       "    <span style=\"font-size: 0.8em; font-weight: bold; line-height: 1; border-radius: 0.35em; text-transform: uppercase; vertical-align: middle; margin-left: 0.5rem\">PER</span>\n",
       "</mark>\n",
       " , it is mostly red states , those that voted for Trump in \n",
       "<mark class=\"entity\" style=\"background: #ddd; padding: 0.45em 0.6em; margin: 0 0.25em; line-height: 1; border-radius: 0.35em; box-decoration-break: clone; -webkit-box-decoration-break: clone\">\n",
       "    2016\n",
       "    <span style=\"font-size: 0.8em; font-weight: bold; line-height: 1; border-radius: 0.35em; text-transform: uppercase; vertical-align: middle; margin-left: 0.5rem\">TIM</span>\n",
       "</mark>\n",
       " , who are getting the largest bump in tax refunds . </div>"
      ],
      "text/plain": [
       "<IPython.core.display.HTML object>"
      ]
     },
     "metadata": {},
     "output_type": "display_data"
    },
    {
     "data": {
      "text/html": [
       "<div class=\"entities\" style=\"line-height: 2.5\"></div>"
      ],
      "text/plain": [
       "<IPython.core.display.HTML object>"
      ]
     },
     "metadata": {},
     "output_type": "display_data"
    },
    {
     "data": {
      "text/html": [
       "<div class=\"entities\" style=\"line-height: 2.5\">Losing : \n",
       "<mark class=\"entity\" style=\"background: #feca74; padding: 0.45em 0.6em; margin: 0 0.25em; line-height: 1; border-radius: 0.35em; box-decoration-break: clone; -webkit-box-decoration-break: clone\">\n",
       "    Blue state\n",
       "    <span style=\"font-size: 0.8em; font-weight: bold; line-height: 1; border-radius: 0.35em; text-transform: uppercase; vertical-align: middle; margin-left: 0.5rem\">GPE</span>\n",
       "</mark>\n",
       " filers who depend on refunds</div>"
      ],
      "text/plain": [
       "<IPython.core.display.HTML object>"
      ]
     },
     "metadata": {},
     "output_type": "display_data"
    },
    {
     "data": {
      "text/html": [
       "<div class=\"entities\" style=\"line-height: 2.5\"></div>"
      ],
      "text/plain": [
       "<IPython.core.display.HTML object>"
      ]
     },
     "metadata": {},
     "output_type": "display_data"
    },
    {
     "data": {
      "text/html": [
       "<div class=\"entities\" style=\"line-height: 2.5\">\n",
       "<mark class=\"entity\" style=\"background: #7aecec; padding: 0.45em 0.6em; margin: 0 0.25em; line-height: 1; border-radius: 0.35em; box-decoration-break: clone; -webkit-box-decoration-break: clone\">\n",
       "    That H & R Block preliminary\n",
       "    <span style=\"font-size: 0.8em; font-weight: bold; line-height: 1; border-radius: 0.35em; text-transform: uppercase; vertical-align: middle; margin-left: 0.5rem\">ORG</span>\n",
       "</mark>\n",
       " data shows that every one of the states where refund\n",
       "<mark class=\"entity\" style=\"background: #ddd; padding: 0.45em 0.6em; margin: 0 0.25em; line-height: 1; border-radius: 0.35em; box-decoration-break: clone; -webkit-box-decoration-break: clone\">\n",
       "    s are shrinking is blue . Of course\n",
       "    <span style=\"font-size: 0.8em; font-weight: bold; line-height: 1; border-radius: 0.35em; text-transform: uppercase; vertical-align: middle; margin-left: 0.5rem\">TIM</span>\n",
       "</mark>\n",
       " , experts say you should aim to have no refund and no tax bill on tax day . But a lot of \n",
       "<mark class=\"entity\" style=\"background: #feca74; padding: 0.45em 0.6em; margin: 0 0.25em; line-height: 1; border-radius: 0.35em; box-decoration-break: clone; -webkit-box-decoration-break: clone\">\n",
       "    Americans\n",
       "    <span style=\"font-size: 0.8em; font-weight: bold; line-height: 1; border-radius: 0.35em; text-transform: uppercase; vertical-align: middle; margin-left: 0.5rem\">GPE</span>\n",
       "</mark>\n",
       " rely on the refunds as a sort of forced savings plan . </div>"
      ],
      "text/plain": [
       "<IPython.core.display.HTML object>"
      ]
     },
     "metadata": {},
     "output_type": "display_data"
    },
    {
     "data": {
      "text/html": [
       "<div class=\"entities\" style=\"line-height: 2.5\"></div>"
      ],
      "text/plain": [
       "<IPython.core.display.HTML object>"
      ]
     },
     "metadata": {},
     "output_type": "display_data"
    },
    {
     "data": {
      "text/html": [
       "<div class=\"entities\" style=\"line-height: 2.5\">In the preliminary \n",
       "<mark class=\"entity\" style=\"background: #7aecec; padding: 0.45em 0.6em; margin: 0 0.25em; line-height: 1; border-radius: 0.35em; box-decoration-break: clone; -webkit-box-decoration-break: clone\">\n",
       "    H & R Block data\n",
       "    <span style=\"font-size: 0.8em; font-weight: bold; line-height: 1; border-radius: 0.35em; text-transform: uppercase; vertical-align: middle; margin-left: 0.5rem\">ORG</span>\n",
       "</mark>\n",
       " , some of the states with the largest decreases in tax liability are blue states with high state and local taxes , like New Jersey , \n",
       "<mark class=\"entity\" style=\"background: #ddd; padding: 0.45em 0.6em; margin: 0 0.25em; line-height: 1; border-radius: 0.35em; box-decoration-break: clone; -webkit-box-decoration-break: clone\">\n",
       "    California\n",
       "    <span style=\"font-size: 0.8em; font-weight: bold; line-height: 1; border-radius: 0.35em; text-transform: uppercase; vertical-align: middle; margin-left: 0.5rem\">GEO</span>\n",
       "</mark>\n",
       " and \n",
       "<mark class=\"entity\" style=\"background: #ddd; padding: 0.45em 0.6em; margin: 0 0.25em; line-height: 1; border-radius: 0.35em; box-decoration-break: clone; -webkit-box-decoration-break: clone\">\n",
       "    Massachusetts\n",
       "    <span style=\"font-size: 0.8em; font-weight: bold; line-height: 1; border-radius: 0.35em; text-transform: uppercase; vertical-align: middle; margin-left: 0.5rem\">GEO</span>\n",
       "</mark>\n",
       " . \n",
       "<mark class=\"entity\" style=\"background: #ddd; padding: 0.45em 0.6em; margin: 0 0.25em; line-height: 1; border-radius: 0.35em; box-decoration-break: clone; -webkit-box-decoration-break: clone\">\n",
       "    Filers\n",
       "    <span style=\"font-size: 0.8em; font-weight: bold; line-height: 1; border-radius: 0.35em; text-transform: uppercase; vertical-align: middle; margin-left: 0.5rem\">TIM</span>\n",
       "</mark>\n",
       " in these high tax states averaged some of the largest tax cuts . They also saw some of the largest average decreases in \n",
       "<mark class=\"entity\" style=\"background: #ddd; padding: 0.45em 0.6em; margin: 0 0.25em; line-height: 1; border-radius: 0.35em; box-decoration-break: clone; -webkit-box-decoration-break: clone\">\n",
       "    refunds\n",
       "    <span style=\"font-size: 0.8em; font-weight: bold; line-height: 1; border-radius: 0.35em; text-transform: uppercase; vertical-align: middle; margin-left: 0.5rem\">TIM</span>\n",
       "</mark>\n",
       " . </div>"
      ],
      "text/plain": [
       "<IPython.core.display.HTML object>"
      ]
     },
     "metadata": {},
     "output_type": "display_data"
    },
    {
     "data": {
      "text/html": [
       "<div class=\"entities\" style=\"line-height: 2.5\"></div>"
      ],
      "text/plain": [
       "<IPython.core.display.HTML object>"
      ]
     },
     "metadata": {},
     "output_type": "display_data"
    },
    {
     "data": {
      "text/html": [
       "<div class=\"entities\" style=\"line-height: 2.5\">Losing : \n",
       "<mark class=\"entity\" style=\"background: #ddd; padding: 0.45em 0.6em; margin: 0 0.25em; line-height: 1; border-radius: 0.35em; box-decoration-break: clone; -webkit-box-decoration-break: clone\">\n",
       "    People\n",
       "    <span style=\"font-size: 0.8em; font-weight: bold; line-height: 1; border-radius: 0.35em; text-transform: uppercase; vertical-align: middle; margin-left: 0.5rem\">NAT</span>\n",
       "</mark>\n",
       " who thought a tax cut would mean a bigger refund</div>"
      ],
      "text/plain": [
       "<IPython.core.display.HTML object>"
      ]
     },
     "metadata": {},
     "output_type": "display_data"
    },
    {
     "data": {
      "text/html": [
       "<div class=\"entities\" style=\"line-height: 2.5\"></div>"
      ],
      "text/plain": [
       "<IPython.core.display.HTML object>"
      ]
     },
     "metadata": {},
     "output_type": "display_data"
    },
    {
     "data": {
      "text/html": [
       "<div class=\"entities\" style=\"line-height: 2.5\">According to preliminary \n",
       "<mark class=\"entity\" style=\"background: #ddd; padding: 0.45em 0.6em; margin: 0 0.25em; line-height: 1; border-radius: 0.35em; box-decoration-break: clone; -webkit-box-decoration-break: clone\">\n",
       "    2018 tax\n",
       "    <span style=\"font-size: 0.8em; font-weight: bold; line-height: 1; border-radius: 0.35em; text-transform: uppercase; vertical-align: middle; margin-left: 0.5rem\">TIM</span>\n",
       "</mark>\n",
       " filing season data from H & \n",
       "<mark class=\"entity\" style=\"background: #ddd; padding: 0.45em 0.6em; margin: 0 0.25em; line-height: 1; border-radius: 0.35em; box-decoration-break: clone; -webkit-box-decoration-break: clone\">\n",
       "    R Block\n",
       "    <span style=\"font-size: 0.8em; font-weight: bold; line-height: 1; border-radius: 0.35em; text-transform: uppercase; vertical-align: middle; margin-left: 0.5rem\">PER</span>\n",
       "</mark>\n",
       " , one of the nation ' s largest tax preparers , the average tax filing they ' \n",
       "<mark class=\"entity\" style=\"background: #ddd; padding: 0.45em 0.6em; margin: 0 0.25em; line-height: 1; border-radius: 0.35em; box-decoration-break: clone; -webkit-box-decoration-break: clone\">\n",
       "    ve\n",
       "    <span style=\"font-size: 0.8em; font-weight: bold; line-height: 1; border-radius: 0.35em; text-transform: uppercase; vertical-align: middle; margin-left: 0.5rem\">EVE</span>\n",
       "</mark>\n",
       " processed so far shows a \n",
       "<mark class=\"entity\" style=\"background: #ddd; padding: 0.45em 0.6em; margin: 0 0.25em; line-height: 1; border-radius: 0.35em; box-decoration-break: clone; -webkit-box-decoration-break: clone\">\n",
       "    24\n",
       "    <span style=\"font-size: 0.8em; font-weight: bold; line-height: 1; border-radius: 0.35em; text-transform: uppercase; vertical-align: middle; margin-left: 0.5rem\">TIM</span>\n",
       "</mark>\n",
       "\n",
       "<mark class=\"entity\" style=\"background: #ddd; padding: 0.45em 0.6em; margin: 0 0.25em; line-height: 1; border-radius: 0.35em; box-decoration-break: clone; -webkit-box-decoration-break: clone\">\n",
       "     . 9 %\n",
       "    <span style=\"font-size: 0.8em; font-weight: bold; line-height: 1; border-radius: 0.35em; text-transform: uppercase; vertical-align: middle; margin-left: 0.5rem\">TIM</span>\n",
       "</mark>\n",
       " drop in tax liability . But because of the way the \n",
       "<mark class=\"entity\" style=\"background: #7aecec; padding: 0.45em 0.6em; margin: 0 0.25em; line-height: 1; border-radius: 0.35em; box-decoration-break: clone; -webkit-box-decoration-break: clone\">\n",
       "    IRS\n",
       "    <span style=\"font-size: 0.8em; font-weight: bold; line-height: 1; border-radius: 0.35em; text-transform: uppercase; vertical-align: middle; margin-left: 0.5rem\">ORG</span>\n",
       "</mark>\n",
       " changed its paycheck withholding , that cut was spread over the course of the year and refunds , on average , have barely moved . </div>"
      ],
      "text/plain": [
       "<IPython.core.display.HTML object>"
      ]
     },
     "metadata": {},
     "output_type": "display_data"
    },
    {
     "data": {
      "text/html": [
       "<div class=\"entities\" style=\"line-height: 2.5\"></div>"
      ],
      "text/plain": [
       "<IPython.core.display.HTML object>"
      ]
     },
     "metadata": {},
     "output_type": "display_data"
    },
    {
     "data": {
      "text/html": [
       "<div class=\"entities\" style=\"line-height: 2.5\">The government paid $ \n",
       "<mark class=\"entity\" style=\"background: #ddd; padding: 0.45em 0.6em; margin: 0 0.25em; line-height: 1; border-radius: 0.35em; box-decoration-break: clone; -webkit-box-decoration-break: clone\">\n",
       "    6\n",
       "    <span style=\"font-size: 0.8em; font-weight: bold; line-height: 1; border-radius: 0.35em; text-transform: uppercase; vertical-align: middle; margin-left: 0.5rem\">TIM</span>\n",
       "</mark>\n",
       " billion less in refunds through \n",
       "<mark class=\"entity\" style=\"background: #ddd; padding: 0.45em 0.6em; margin: 0 0.25em; line-height: 1; border-radius: 0.35em; box-decoration-break: clone; -webkit-box-decoration-break: clone\">\n",
       "    March 29\n",
       "    <span style=\"font-size: 0.8em; font-weight: bold; line-height: 1; border-radius: 0.35em; text-transform: uppercase; vertical-align: middle; margin-left: 0.5rem\">TIM</span>\n",
       "</mark>\n",
       " , according to the \n",
       "<mark class=\"entity\" style=\"background: #7aecec; padding: 0.45em 0.6em; margin: 0 0.25em; line-height: 1; border-radius: 0.35em; box-decoration-break: clone; -webkit-box-decoration-break: clone\">\n",
       "    IRS\n",
       "    <span style=\"font-size: 0.8em; font-weight: bold; line-height: 1; border-radius: 0.35em; text-transform: uppercase; vertical-align: middle; margin-left: 0.5rem\">ORG</span>\n",
       "</mark>\n",
       " , although the average refund , according to its data , is $ \n",
       "<mark class=\"entity\" style=\"background: #ddd; padding: 0.45em 0.6em; margin: 0 0.25em; line-height: 1; border-radius: 0.35em; box-decoration-break: clone; -webkit-box-decoration-break: clone\">\n",
       "    2 , 873\n",
       "    <span style=\"font-size: 0.8em; font-weight: bold; line-height: 1; border-radius: 0.35em; text-transform: uppercase; vertical-align: middle; margin-left: 0.5rem\">TIM</span>\n",
       "</mark>\n",
       " and has shrunk less than 1 % compared with last year . </div>"
      ],
      "text/plain": [
       "<IPython.core.display.HTML object>"
      ]
     },
     "metadata": {},
     "output_type": "display_data"
    },
    {
     "data": {
      "text/html": [
       "<div class=\"entities\" style=\"line-height: 2.5\"></div>"
      ],
      "text/plain": [
       "<IPython.core.display.HTML object>"
      ]
     },
     "metadata": {},
     "output_type": "display_data"
    },
    {
     "data": {
      "text/html": [
       "<div class=\"entities\" style=\"line-height: 2.5\">Losing : People who aren \n",
       "<mark class=\"entity\" style=\"background: #ddd; padding: 0.45em 0.6em; margin: 0 0.25em; line-height: 1; border-radius: 0.35em; box-decoration-break: clone; -webkit-box-decoration-break: clone\">\n",
       "    ' t\n",
       "    <span style=\"font-size: 0.8em; font-weight: bold; line-height: 1; border-radius: 0.35em; text-transform: uppercase; vertical-align: middle; margin-left: 0.5rem\">TIM</span>\n",
       "</mark>\n",
       " getting a refund but maybe thought they would</div>"
      ],
      "text/plain": [
       "<IPython.core.display.HTML object>"
      ]
     },
     "metadata": {},
     "output_type": "display_data"
    },
    {
     "data": {
      "text/html": [
       "<div class=\"entities\" style=\"line-height: 2.5\"></div>"
      ],
      "text/plain": [
       "<IPython.core.display.HTML object>"
      ]
     },
     "metadata": {},
     "output_type": "display_data"
    },
    {
     "data": {
      "text/html": [
       "<div class=\"entities\" style=\"line-height: 2.5\">The government is paying out \n",
       "<mark class=\"entity\" style=\"background: #ddd; padding: 0.45em 0.6em; margin: 0 0.25em; line-height: 1; border-radius: 0.35em; box-decoration-break: clone; -webkit-box-decoration-break: clone\">\n",
       "    fewer\n",
       "    <span style=\"font-size: 0.8em; font-weight: bold; line-height: 1; border-radius: 0.35em; text-transform: uppercase; vertical-align: middle; margin-left: 0.5rem\">TIM</span>\n",
       "</mark>\n",
       " refunds this year under the new tax law , according to preliminary \n",
       "<mark class=\"entity\" style=\"background: #7aecec; padding: 0.45em 0.6em; margin: 0 0.25em; line-height: 1; border-radius: 0.35em; box-decoration-break: clone; -webkit-box-decoration-break: clone\">\n",
       "    IRS\n",
       "    <span style=\"font-size: 0.8em; font-weight: bold; line-height: 1; border-radius: 0.35em; text-transform: uppercase; vertical-align: middle; margin-left: 0.5rem\">ORG</span>\n",
       "</mark>\n",
       " data on filings through \n",
       "<mark class=\"entity\" style=\"background: #ddd; padding: 0.45em 0.6em; margin: 0 0.25em; line-height: 1; border-radius: 0.35em; box-decoration-break: clone; -webkit-box-decoration-break: clone\">\n",
       "    March 29\n",
       "    <span style=\"font-size: 0.8em; font-weight: bold; line-height: 1; border-radius: 0.35em; text-transform: uppercase; vertical-align: middle; margin-left: 0.5rem\">TIM</span>\n",
       "</mark>\n",
       " . There have \n",
       "<mark class=\"entity\" style=\"background: #ddd; padding: 0.45em 0.6em; margin: 0 0.25em; line-height: 1; border-radius: 0.35em; box-decoration-break: clone; -webkit-box-decoration-break: clone\">\n",
       "    been 2 . 2 % fewer refunds\n",
       "    <span style=\"font-size: 0.8em; font-weight: bold; line-height: 1; border-radius: 0.35em; text-transform: uppercase; vertical-align: middle; margin-left: 0.5rem\">TIM</span>\n",
       "</mark>\n",
       " than last year , according to the \n",
       "<mark class=\"entity\" style=\"background: #ddd; padding: 0.45em 0.6em; margin: 0 0.25em; line-height: 1; border-radius: 0.35em; box-decoration-break: clone; -webkit-box-decoration-break: clone\">\n",
       "    IRS\n",
       "    <span style=\"font-size: 0.8em; font-weight: bold; line-height: 1; border-radius: 0.35em; text-transform: uppercase; vertical-align: middle; margin-left: 0.5rem\">GEO</span>\n",
       "</mark>\n",
       " , but only \n",
       "<mark class=\"entity\" style=\"background: #ddd; padding: 0.45em 0.6em; margin: 0 0.25em; line-height: 1; border-radius: 0.35em; box-decoration-break: clone; -webkit-box-decoration-break: clone\">\n",
       "    1 . 4 % fewer returns\n",
       "    <span style=\"font-size: 0.8em; font-weight: bold; line-height: 1; border-radius: 0.35em; text-transform: uppercase; vertical-align: middle; margin-left: 0.5rem\">TIM</span>\n",
       "</mark>\n",
       " processed . </div>"
      ],
      "text/plain": [
       "<IPython.core.display.HTML object>"
      ]
     },
     "metadata": {},
     "output_type": "display_data"
    },
    {
     "data": {
      "text/html": [
       "<div class=\"entities\" style=\"line-height: 2.5\"></div>"
      ],
      "text/plain": [
       "<IPython.core.display.HTML object>"
      ]
     },
     "metadata": {},
     "output_type": "display_data"
    },
    {
     "data": {
      "text/html": [
       "<div class=\"entities\" style=\"line-height: 2.5\">Winning : \n",
       "<mark class=\"entity\" style=\"background: #ddd; padding: 0.45em 0.6em; margin: 0 0.25em; line-height: 1; border-radius: 0.35em; box-decoration-break: clone; -webkit-box-decoration-break: clone\">\n",
       "    People\n",
       "    <span style=\"font-size: 0.8em; font-weight: bold; line-height: 1; border-radius: 0.35em; text-transform: uppercase; vertical-align: middle; margin-left: 0.5rem\">NAT</span>\n",
       "</mark>\n",
       " doing their own taxes</div>"
      ],
      "text/plain": [
       "<IPython.core.display.HTML object>"
      ]
     },
     "metadata": {},
     "output_type": "display_data"
    },
    {
     "data": {
      "text/html": [
       "<div class=\"entities\" style=\"line-height: 2.5\"></div>"
      ],
      "text/plain": [
       "<IPython.core.display.HTML object>"
      ]
     },
     "metadata": {},
     "output_type": "display_data"
    },
    {
     "data": {
      "text/html": [
       "<div class=\"entities\" style=\"line-height: 2.5\">There was a \n",
       "<mark class=\"entity\" style=\"background: #ddd; padding: 0.45em 0.6em; margin: 0 0.25em; line-height: 1; border-radius: 0.35em; box-decoration-break: clone; -webkit-box-decoration-break: clone\">\n",
       "    2\n",
       "    <span style=\"font-size: 0.8em; font-weight: bold; line-height: 1; border-radius: 0.35em; text-transform: uppercase; vertical-align: middle; margin-left: 0.5rem\">TIM</span>\n",
       "</mark>\n",
       " . \n",
       "<mark class=\"entity\" style=\"background: #ddd; padding: 0.45em 0.6em; margin: 0 0.25em; line-height: 1; border-radius: 0.35em; box-decoration-break: clone; -webkit-box-decoration-break: clone\">\n",
       "    3 %\n",
       "    <span style=\"font-size: 0.8em; font-weight: bold; line-height: 1; border-radius: 0.35em; text-transform: uppercase; vertical-align: middle; margin-left: 0.5rem\">TIM</span>\n",
       "</mark>\n",
       " increase in the number of e - filed tax returns \n",
       "<mark class=\"entity\" style=\"background: #ddd; padding: 0.45em 0.6em; margin: 0 0.25em; line-height: 1; border-radius: 0.35em; box-decoration-break: clone; -webkit-box-decoration-break: clone\">\n",
       "    self -\n",
       "    <span style=\"font-size: 0.8em; font-weight: bold; line-height: 1; border-radius: 0.35em; text-transform: uppercase; vertical-align: middle; margin-left: 0.5rem\">TIM</span>\n",
       "</mark>\n",
       " prepared by the filer , according to that \n",
       "<mark class=\"entity\" style=\"background: #7aecec; padding: 0.45em 0.6em; margin: 0 0.25em; line-height: 1; border-radius: 0.35em; box-decoration-break: clone; -webkit-box-decoration-break: clone\">\n",
       "    IRS\n",
       "    <span style=\"font-size: 0.8em; font-weight: bold; line-height: 1; border-radius: 0.35em; text-transform: uppercase; vertical-align: middle; margin-left: 0.5rem\">ORG</span>\n",
       "</mark>\n",
       " data from \n",
       "<mark class=\"entity\" style=\"background: #ddd; padding: 0.45em 0.6em; margin: 0 0.25em; line-height: 1; border-radius: 0.35em; box-decoration-break: clone; -webkit-box-decoration-break: clone\">\n",
       "    March 29\n",
       "    <span style=\"font-size: 0.8em; font-weight: bold; line-height: 1; border-radius: 0.35em; text-transform: uppercase; vertical-align: middle; margin-left: 0.5rem\">TIM</span>\n",
       "</mark>\n",
       " . At more than \n",
       "<mark class=\"entity\" style=\"background: #ddd; padding: 0.45em 0.6em; margin: 0 0.25em; line-height: 1; border-radius: 0.35em; box-decoration-break: clone; -webkit-box-decoration-break: clone\">\n",
       "    358 million\n",
       "    <span style=\"font-size: 0.8em; font-weight: bold; line-height: 1; border-radius: 0.35em; text-transform: uppercase; vertical-align: middle; margin-left: 0.5rem\">TIM</span>\n",
       "</mark>\n",
       " , visits to \n",
       "<mark class=\"entity\" style=\"background: #ddd; padding: 0.45em 0.6em; margin: 0 0.25em; line-height: 1; border-radius: 0.35em; box-decoration-break: clone; -webkit-box-decoration-break: clone\">\n",
       "    IRS\n",
       "    <span style=\"font-size: 0.8em; font-weight: bold; line-height: 1; border-radius: 0.35em; text-transform: uppercase; vertical-align: middle; margin-left: 0.5rem\">GEO</span>\n",
       "</mark>\n",
       " . gov are up more than 10 % this year . That said , the new tax law preserves the deduction people can take for hiring an accountant ( assuming they are not taking the \n",
       "<mark class=\"entity\" style=\"background: #ddd; padding: 0.45em 0.6em; margin: 0 0.25em; line-height: 1; border-radius: 0.35em; box-decoration-break: clone; -webkit-box-decoration-break: clone\">\n",
       "    standard deduction )\n",
       "    <span style=\"font-size: 0.8em; font-weight: bold; line-height: 1; border-radius: 0.35em; text-transform: uppercase; vertical-align: middle; margin-left: 0.5rem\">TIM</span>\n",
       "</mark>\n",
       " . </div>"
      ],
      "text/plain": [
       "<IPython.core.display.HTML object>"
      ]
     },
     "metadata": {},
     "output_type": "display_data"
    },
    {
     "data": {
      "text/html": [
       "<div class=\"entities\" style=\"line-height: 2.5\"></div>"
      ],
      "text/plain": [
       "<IPython.core.display.HTML object>"
      ]
     },
     "metadata": {},
     "output_type": "display_data"
    },
    {
     "data": {
      "text/html": [
       "<div class=\"entities\" style=\"line-height: 2.5\">\n",
       "<mark class=\"entity\" style=\"background: #feca74; padding: 0.45em 0.6em; margin: 0 0.25em; line-height: 1; border-radius: 0.35em; box-decoration-break: clone; -webkit-box-decoration-break: clone\">\n",
       "    Winning :\n",
       "    <span style=\"font-size: 0.8em; font-weight: bold; line-height: 1; border-radius: 0.35em; text-transform: uppercase; vertical-align: middle; margin-left: 0.5rem\">GPE</span>\n",
       "</mark>\n",
       " People taking the standard deduction</div>"
      ],
      "text/plain": [
       "<IPython.core.display.HTML object>"
      ]
     },
     "metadata": {},
     "output_type": "display_data"
    },
    {
     "data": {
      "text/html": [
       "<div class=\"entities\" style=\"line-height: 2.5\"></div>"
      ],
      "text/plain": [
       "<IPython.core.display.HTML object>"
      ]
     },
     "metadata": {},
     "output_type": "display_data"
    },
    {
     "data": {
      "text/html": [
       "<div class=\"entities\" style=\"line-height: 2.5\">\n",
       "<mark class=\"entity\" style=\"background: #feca74; padding: 0.45em 0.6em; margin: 0 0.25em; line-height: 1; border-radius: 0.35em; box-decoration-break: clone; -webkit-box-decoration-break: clone\">\n",
       "    Taxes\n",
       "    <span style=\"font-size: 0.8em; font-weight: bold; line-height: 1; border-radius: 0.35em; text-transform: uppercase; vertical-align: middle; margin-left: 0.5rem\">GPE</span>\n",
       "</mark>\n",
       " should get easier since the standard deduction nearly doubled to $ \n",
       "<mark class=\"entity\" style=\"background: #ddd; padding: 0.45em 0.6em; margin: 0 0.25em; line-height: 1; border-radius: 0.35em; box-decoration-break: clone; -webkit-box-decoration-break: clone\">\n",
       "    12\n",
       "    <span style=\"font-size: 0.8em; font-weight: bold; line-height: 1; border-radius: 0.35em; text-transform: uppercase; vertical-align: middle; margin-left: 0.5rem\">TIM</span>\n",
       "</mark>\n",
       " , 200 for individuals and $ \n",
       "<mark class=\"entity\" style=\"background: #ddd; padding: 0.45em 0.6em; margin: 0 0.25em; line-height: 1; border-radius: 0.35em; box-decoration-break: clone; -webkit-box-decoration-break: clone\">\n",
       "    24 ,\n",
       "    <span style=\"font-size: 0.8em; font-weight: bold; line-height: 1; border-radius: 0.35em; text-transform: uppercase; vertical-align: middle; margin-left: 0.5rem\">TIM</span>\n",
       "</mark>\n",
       " 400 for \n",
       "<mark class=\"entity\" style=\"background: #ddd; padding: 0.45em 0.6em; margin: 0 0.25em; line-height: 1; border-radius: 0.35em; box-decoration-break: clone; -webkit-box-decoration-break: clone\">\n",
       "    married couples\n",
       "    <span style=\"font-size: 0.8em; font-weight: bold; line-height: 1; border-radius: 0.35em; text-transform: uppercase; vertical-align: middle; margin-left: 0.5rem\">TIM</span>\n",
       "</mark>\n",
       " . That means that most \n",
       "<mark class=\"entity\" style=\"background: #ddd; padding: 0.45em 0.6em; margin: 0 0.25em; line-height: 1; border-radius: 0.35em; box-decoration-break: clone; -webkit-box-decoration-break: clone\">\n",
       "    Americans\n",
       "    <span style=\"font-size: 0.8em; font-weight: bold; line-height: 1; border-radius: 0.35em; text-transform: uppercase; vertical-align: middle; margin-left: 0.5rem\">GEO</span>\n",
       "</mark>\n",
       " will not itemize their tax returns and that caps on state and local tax deductions may not affect as many people as feared . </div>"
      ],
      "text/plain": [
       "<IPython.core.display.HTML object>"
      ]
     },
     "metadata": {},
     "output_type": "display_data"
    },
    {
     "data": {
      "text/html": [
       "<div class=\"entities\" style=\"line-height: 2.5\"></div>"
      ],
      "text/plain": [
       "<IPython.core.display.HTML object>"
      ]
     },
     "metadata": {},
     "output_type": "display_data"
    },
    {
     "data": {
      "text/html": [
       "<div class=\"entities\" style=\"line-height: 2.5\">Losing : \n",
       "<mark class=\"entity\" style=\"background: #ddd; padding: 0.45em 0.6em; margin: 0 0.25em; line-height: 1; border-radius: 0.35em; box-decoration-break: clone; -webkit-box-decoration-break: clone\">\n",
       "    Washington\n",
       "    <span style=\"font-size: 0.8em; font-weight: bold; line-height: 1; border-radius: 0.35em; text-transform: uppercase; vertical-align: middle; margin-left: 0.5rem\">GEO</span>\n",
       "</mark>\n",
       " , \n",
       "<mark class=\"entity\" style=\"background: #ddd; padding: 0.45em 0.6em; margin: 0 0.25em; line-height: 1; border-radius: 0.35em; box-decoration-break: clone; -webkit-box-decoration-break: clone\">\n",
       "    DC\n",
       "    <span style=\"font-size: 0.8em; font-weight: bold; line-height: 1; border-radius: 0.35em; text-transform: uppercase; vertical-align: middle; margin-left: 0.5rem\">GEO</span>\n",
       "</mark>\n",
       " , tax filers</div>"
      ],
      "text/plain": [
       "<IPython.core.display.HTML object>"
      ]
     },
     "metadata": {},
     "output_type": "display_data"
    },
    {
     "data": {
      "text/html": [
       "<div class=\"entities\" style=\"line-height: 2.5\"></div>"
      ],
      "text/plain": [
       "<IPython.core.display.HTML object>"
      ]
     },
     "metadata": {},
     "output_type": "display_data"
    },
    {
     "data": {
      "text/html": [
       "<div class=\"entities\" style=\"line-height: 2.5\">The capital is seeing the largest average refund drop , at 6 . 1 % . It is also seeing the smallest decrease in average tax liability , 18 % - - which is indeed a cut , but the smallest , on average , in the country . </div>"
      ],
      "text/plain": [
       "<IPython.core.display.HTML object>"
      ]
     },
     "metadata": {},
     "output_type": "display_data"
    },
    {
     "data": {
      "text/html": [
       "<div class=\"entities\" style=\"line-height: 2.5\"></div>"
      ],
      "text/plain": [
       "<IPython.core.display.HTML object>"
      ]
     },
     "metadata": {},
     "output_type": "display_data"
    },
    {
     "data": {
      "text/html": [
       "<div class=\"entities\" style=\"line-height: 2.5\">\n",
       "<mark class=\"entity\" style=\"background: #ddd; padding: 0.45em 0.6em; margin: 0 0.25em; line-height: 1; border-radius: 0.35em; box-decoration-break: clone; -webkit-box-decoration-break: clone\">\n",
       "    Winning forever :\n",
       "    <span style=\"font-size: 0.8em; font-weight: bold; line-height: 1; border-radius: 0.35em; text-transform: uppercase; vertical-align: middle; margin-left: 0.5rem\">TIM</span>\n",
       "</mark>\n",
       " Corporations</div>"
      ],
      "text/plain": [
       "<IPython.core.display.HTML object>"
      ]
     },
     "metadata": {},
     "output_type": "display_data"
    },
    {
     "data": {
      "text/html": [
       "<div class=\"entities\" style=\"line-height: 2.5\"></div>"
      ],
      "text/plain": [
       "<IPython.core.display.HTML object>"
      ]
     },
     "metadata": {},
     "output_type": "display_data"
    },
    {
     "data": {
      "text/html": [
       "<div class=\"entities\" style=\"line-height: 2.5\">They got a massive rate cut , from 35 % to 21 % , starting in \n",
       "<mark class=\"entity\" style=\"background: #ddd; padding: 0.45em 0.6em; margin: 0 0.25em; line-height: 1; border-radius: 0.35em; box-decoration-break: clone; -webkit-box-decoration-break: clone\">\n",
       "    2018 that ' s permanently\n",
       "    <span style=\"font-size: 0.8em; font-weight: bold; line-height: 1; border-radius: 0.35em; text-transform: uppercase; vertical-align: middle; margin-left: 0.5rem\">TIM</span>\n",
       "</mark>\n",
       " enshrined in the new law . </div>"
      ],
      "text/plain": [
       "<IPython.core.display.HTML object>"
      ]
     },
     "metadata": {},
     "output_type": "display_data"
    },
    {
     "data": {
      "text/html": [
       "<div class=\"entities\" style=\"line-height: 2.5\"></div>"
      ],
      "text/plain": [
       "<IPython.core.display.HTML object>"
      ]
     },
     "metadata": {},
     "output_type": "display_data"
    },
    {
     "data": {
      "text/html": [
       "<div class=\"entities\" style=\"line-height: 2.5\">\n",
       "<mark class=\"entity\" style=\"background: #ddd; padding: 0.45em 0.6em; margin: 0 0.25em; line-height: 1; border-radius: 0.35em; box-decoration-break: clone; -webkit-box-decoration-break: clone\">\n",
       "    Losing :\n",
       "    <span style=\"font-size: 0.8em; font-weight: bold; line-height: 1; border-radius: 0.35em; text-transform: uppercase; vertical-align: middle; margin-left: 0.5rem\">PER</span>\n",
       "</mark>\n",
       " The \n",
       "<mark class=\"entity\" style=\"background: #7aecec; padding: 0.45em 0.6em; margin: 0 0.25em; line-height: 1; border-radius: 0.35em; box-decoration-break: clone; -webkit-box-decoration-break: clone\">\n",
       "    US\n",
       "    <span style=\"font-size: 0.8em; font-weight: bold; line-height: 1; border-radius: 0.35em; text-transform: uppercase; vertical-align: middle; margin-left: 0.5rem\">ORG</span>\n",
       "</mark>\n",
       " Treasury</div>"
      ],
      "text/plain": [
       "<IPython.core.display.HTML object>"
      ]
     },
     "metadata": {},
     "output_type": "display_data"
    }
   ],
   "source": [
    "url = \"https://www.cnn.com/2019/04/13/politics/tax-reform-winners-and-losers/index.html\"\n",
    "\n",
    "text = url2text(url)\n",
    "render_nltk_ner(text)\n"
   ]
  },
  {
   "cell_type": "code",
   "execution_count": 7,
   "metadata": {},
   "outputs": [
    {
     "name": "stdout",
     "output_type": "stream",
     "text": [
      "[('(', '(', 'B-per'), ('CNN', 'NNP', 'B-org'), (')', ')', 'I-org'), ('Tax', 'NNP', 'B-tim'), ('day', 'NN', 'I-tim'), ('isn', 'NN', 'I-tim'), (\"'\", \"''\", 'I-tim'), ('t', 'NN', 'I-tim'), ('until', 'IN', 'I-tim'), ('Monday', 'NNP', 'B-tim'), (',', ',', 'O'), ('but', 'CC', 'O'), ('there', 'RB', 'O'), ('have', 'VBP', 'O'), ('already', 'RB', 'O'), ('been', 'VBN', 'O'), ('some', 'DT', 'O'), ('surprises', 'NNS', 'O'), ('for', 'IN', 'O'), ('Americans', 'NNPS', 'B-gpe'), ('filing', 'VBG', 'O'), ('their', 'PRP$', 'O'), ('first', 'JJ', 'O'), ('income', 'NN', 'O'), ('tax', 'NN', 'O'), ('returns', 'NNS', 'O'), ('under', 'IN', 'O'), ('President', 'NNP', 'B-per'), ('Donald', 'NNP', 'I-per'), ('Trump', 'NNP', 'I-per'), (\"'\", 'POS', 'I-org'), ('s', 'NN', 'I-tim'), ('2017', 'CD', 'I-tim'), ('law', 'NN', 'I-tim'), ('.', '.', 'O')]\n"
     ]
    },
    {
     "data": {
      "text/html": [
       "<div class=\"entities\" style=\"line-height: 2.5\"> ( CNN ) Tax day isn ' t until\n",
       "<mark class=\"entity\" style=\"background: #ddd; padding: 0.45em 0.6em; margin: 0 0.25em; line-height: 1; border-radius: 0.35em; box-decoration-break: clone; -webkit-box-decoration-break: clone\">\n",
       "     Monda\n",
       "    <span style=\"font-size: 0.8em; font-weight: bold; line-height: 1; border-radius: 0.35em; text-transform: uppercase; vertical-align: middle; margin-left: 0.5rem\">TIM</span>\n",
       "</mark>\n",
       "y , but there have already been some surprises for\n",
       "<mark class=\"entity\" style=\"background: #feca74; padding: 0.45em 0.6em; margin: 0 0.25em; line-height: 1; border-radius: 0.35em; box-decoration-break: clone; -webkit-box-decoration-break: clone\">\n",
       "     American\n",
       "    <span style=\"font-size: 0.8em; font-weight: bold; line-height: 1; border-radius: 0.35em; text-transform: uppercase; vertical-align: middle; margin-left: 0.5rem\">GPE</span>\n",
       "</mark>\n",
       "s filing their first income tax returns under\n",
       "<mark class=\"entity\" style=\"background: #ddd; padding: 0.45em 0.6em; margin: 0 0.25em; line-height: 1; border-radius: 0.35em; box-decoration-break: clone; -webkit-box-decoration-break: clone\">\n",
       "     President Donald Trump ' s 2017 la\n",
       "    <span style=\"font-size: 0.8em; font-weight: bold; line-height: 1; border-radius: 0.35em; text-transform: uppercase; vertical-align: middle; margin-left: 0.5rem\">TIM</span>\n",
       "</mark>\n",
       "w . </div>"
      ],
      "text/plain": [
       "<IPython.core.display.HTML object>"
      ]
     },
     "metadata": {},
     "output_type": "display_data"
    },
    {
     "name": "stdout",
     "output_type": "stream",
     "text": [
      "[]\n"
     ]
    },
    {
     "data": {
      "text/html": [
       "<div class=\"entities\" style=\"line-height: 2.5\"></div>"
      ],
      "text/plain": [
       "<IPython.core.display.HTML object>"
      ]
     },
     "metadata": {},
     "output_type": "display_data"
    },
    {
     "name": "stdout",
     "output_type": "stream",
     "text": [
      "[('Let', 'VB', 'B-per'), (\"'\", \"''\", 'I-per'), ('s', 'JJ', 'O'), ('start', 'NN', 'O'), ('with', 'IN', 'O'), ('the', 'DT', 'O'), ('big', 'JJ', 'O'), ('one', 'NN', 'O'), ('.', '.', 'O'), ('While', 'IN', 'O'), ('most', 'JJS', 'O'), ('Americans', 'NNPS', 'B-gpe'), ('are', 'VBP', 'O'), ('paying', 'VBG', 'O'), ('less', 'RBR', 'O'), ('in', 'IN', 'O'), ('taxes', 'NNS', 'O'), ('overall', 'JJ', 'O'), (',', ',', 'O'), ('many', 'JJ', 'O'), ('have', 'VBP', 'O'), ('been', 'VBN', 'O'), ('startled', 'VBN', 'O'), ('to', 'TO', 'O'), ('find', 'VB', 'O'), ('that', 'DT', 'O'), ('their', 'PRP$', 'O'), ('refunds', 'NNS', 'O'), ('have', 'VBP', 'O'), ('barely', 'RB', 'O'), ('changed', 'VBN', 'O'), ('or', 'CC', 'O'), ('are', 'VBP', 'O'), ('down', 'RP', 'O'), ('-', ':', 'O'), ('-', ':', 'O'), ('making', 'VBG', 'O'), ('them', 'PRP', 'O'), ('feel', 'VBP', 'O'), ('like', 'IN', 'O'), ('they', 'PRP', 'O'), ('lost', 'VBD', 'O'), (',', ',', 'O'), ('even', 'RB', 'O'), ('if', 'IN', 'O'), ('they', 'PRP', 'O'), (\"'\", 'VBP', 'O'), ('re', 'NNS', 'O'), ('still', 'RB', 'O'), ('coming', 'VBG', 'O'), ('out', 'RP', 'O'), ('ahead', 'RB', 'O'), ('.', '.', 'O')]\n"
     ]
    },
    {
     "data": {
      "text/html": [
       "<div class=\"entities\" style=\"line-height: 2.5\">\n",
       "<mark class=\"entity\" style=\"background: #ddd; padding: 0.45em 0.6em; margin: 0 0.25em; line-height: 1; border-radius: 0.35em; box-decoration-break: clone; -webkit-box-decoration-break: clone\">\n",
       "    Let '\n",
       "    <span style=\"font-size: 0.8em; font-weight: bold; line-height: 1; border-radius: 0.35em; text-transform: uppercase; vertical-align: middle; margin-left: 0.5rem\">PER</span>\n",
       "</mark>\n",
       " s start with the big one . While most \n",
       "<mark class=\"entity\" style=\"background: #feca74; padding: 0.45em 0.6em; margin: 0 0.25em; line-height: 1; border-radius: 0.35em; box-decoration-break: clone; -webkit-box-decoration-break: clone\">\n",
       "    Americans\n",
       "    <span style=\"font-size: 0.8em; font-weight: bold; line-height: 1; border-radius: 0.35em; text-transform: uppercase; vertical-align: middle; margin-left: 0.5rem\">GPE</span>\n",
       "</mark>\n",
       " are paying less in taxes overall , many have been startled to find that their refunds have barely changed or are down - - making them feel like they lost , even if they ' re still coming out ahead . </div>"
      ],
      "text/plain": [
       "<IPython.core.display.HTML object>"
      ]
     },
     "metadata": {},
     "output_type": "display_data"
    },
    {
     "name": "stdout",
     "output_type": "stream",
     "text": [
      "[]\n"
     ]
    },
    {
     "data": {
      "text/html": [
       "<div class=\"entities\" style=\"line-height: 2.5\"></div>"
      ],
      "text/plain": [
       "<IPython.core.display.HTML object>"
      ]
     },
     "metadata": {},
     "output_type": "display_data"
    },
    {
     "name": "stdout",
     "output_type": "stream",
     "text": [
      "[('Below', 'NNP', 'B-gpe'), ('are', 'VBP', 'O'), ('some', 'DT', 'O'), ('other', 'JJ', 'O'), ('ways', 'NNS', 'O'), ('to', 'TO', 'O'), ('look', 'VB', 'O'), ('at', 'IN', 'O'), ('who', 'WP', 'O'), ('is', 'VBZ', 'O'), ('winning', 'VBG', 'O'), ('and', 'CC', 'O'), ('losing', 'VBG', 'O'), ('under', 'IN', 'O'), ('the', 'DT', 'O'), ('law', 'NN', 'O'), ('.', '.', 'O'), ('And', 'CC', 'O'), ('please', 'JJ', 'O'), ('take', 'VB', 'O'), ('note', 'NN', 'O'), (':', ':', 'O'), ('It', 'PRP', 'B-nat'), (\"'\", \"''\", 'I-nat'), ('s', 'RBR', 'O'), ('possible', 'JJ', 'O'), ('to', 'TO', 'O'), ('both', 'DT', 'O'), ('win', 'NNS', 'O'), ('and', 'CC', 'O'), ('lose', 'VB', 'O'), ('at', 'IN', 'O'), ('the', 'DT', 'O'), ('same', 'JJ', 'O'), ('time', 'NN', 'O'), ('.', '.', 'O')]\n"
     ]
    },
    {
     "data": {
      "text/html": [
       "<div class=\"entities\" style=\"line-height: 2.5\">\n",
       "<mark class=\"entity\" style=\"background: #feca74; padding: 0.45em 0.6em; margin: 0 0.25em; line-height: 1; border-radius: 0.35em; box-decoration-break: clone; -webkit-box-decoration-break: clone\">\n",
       "    Below\n",
       "    <span style=\"font-size: 0.8em; font-weight: bold; line-height: 1; border-radius: 0.35em; text-transform: uppercase; vertical-align: middle; margin-left: 0.5rem\">GPE</span>\n",
       "</mark>\n",
       " are some other ways to look at who is winning and losing under the law . And please take note : \n",
       "<mark class=\"entity\" style=\"background: #ddd; padding: 0.45em 0.6em; margin: 0 0.25em; line-height: 1; border-radius: 0.35em; box-decoration-break: clone; -webkit-box-decoration-break: clone\">\n",
       "    It '\n",
       "    <span style=\"font-size: 0.8em; font-weight: bold; line-height: 1; border-radius: 0.35em; text-transform: uppercase; vertical-align: middle; margin-left: 0.5rem\">NAT</span>\n",
       "</mark>\n",
       " s possible to both win and lose at the same time . </div>"
      ],
      "text/plain": [
       "<IPython.core.display.HTML object>"
      ]
     },
     "metadata": {},
     "output_type": "display_data"
    },
    {
     "name": "stdout",
     "output_type": "stream",
     "text": [
      "[]\n"
     ]
    },
    {
     "data": {
      "text/html": [
       "<div class=\"entities\" style=\"line-height: 2.5\"></div>"
      ],
      "text/plain": [
       "<IPython.core.display.HTML object>"
      ]
     },
     "metadata": {},
     "output_type": "display_data"
    },
    {
     "name": "stdout",
     "output_type": "stream",
     "text": [
      "[('Winning', 'VBG', 'B-per'), (':', ':', 'I-per'), ('Most', 'JJS', 'B-eve'), ('US', 'JJ', 'I-eve'), ('taxpayers', 'NNS', 'O')]\n"
     ]
    },
    {
     "data": {
      "text/html": [
       "<div class=\"entities\" style=\"line-height: 2.5\">Winning : \n",
       "<mark class=\"entity\" style=\"background: #ddd; padding: 0.45em 0.6em; margin: 0 0.25em; line-height: 1; border-radius: 0.35em; box-decoration-break: clone; -webkit-box-decoration-break: clone\">\n",
       "    Most US\n",
       "    <span style=\"font-size: 0.8em; font-weight: bold; line-height: 1; border-radius: 0.35em; text-transform: uppercase; vertical-align: middle; margin-left: 0.5rem\">EVE</span>\n",
       "</mark>\n",
       " taxpayers</div>"
      ],
      "text/plain": [
       "<IPython.core.display.HTML object>"
      ]
     },
     "metadata": {},
     "output_type": "display_data"
    },
    {
     "name": "stdout",
     "output_type": "stream",
     "text": [
      "[]\n"
     ]
    },
    {
     "data": {
      "text/html": [
       "<div class=\"entities\" style=\"line-height: 2.5\"></div>"
      ],
      "text/plain": [
       "<IPython.core.display.HTML object>"
      ]
     },
     "metadata": {},
     "output_type": "display_data"
    },
    {
     "name": "stdout",
     "output_type": "stream",
     "text": [
      "[('The', 'DT', 'O'), ('vast', 'JJ', 'O'), ('majority', 'NN', 'O'), ('of', 'IN', 'O'), ('American', 'JJ', 'B-gpe'), ('tax', 'NN', 'O'), ('filers', 'NNS', 'O'), ('-', ':', 'B-tim'), ('-', ':', 'I-tim'), ('more', 'JJR', 'I-tim'), ('than', 'IN', 'O'), ('65', 'CD', 'O'), ('%', 'NN', 'O'), ('-', ':', 'O'), ('-', ':', 'O'), ('will', 'MD', 'O'), ('see', 'VB', 'O'), ('their', 'PRP$', 'O'), ('overall', 'JJ', 'O'), ('tax', 'NN', 'O'), ('burden', 'NN', 'O'), ('decrease', 'NN', 'O'), ('by', 'IN', 'O'), ('at', 'IN', 'O'), ('least', 'JJS', 'O'), ('$', '$', 'O'), ('100', 'CD', 'B-tim'), (',', ',', 'O'), ('according', 'VBG', 'O'), ('to', 'TO', 'O'), ('the', 'DT', 'O'), ('congressional', 'JJ', 'B-org'), ('Joint', 'NNP', 'I-org'), ('Committee', 'NNP', 'I-org'), ('on', 'IN', 'I-org'), ('Taxation', 'NNP', 'B-tim'), ('.', '.', 'O'), ('See', 'NNP', 'B-per'), ('page', 'JJ', 'I-tim'), ('7', 'CD', 'I-tim'), ('of', 'IN', 'O'), ('this', 'DT', 'O'), ('helpful', 'JJ', 'O'), ('analysis', 'NN', 'O')]\n"
     ]
    },
    {
     "data": {
      "text/html": [
       "<div class=\"entities\" style=\"line-height: 2.5\">The vast majority of \n",
       "<mark class=\"entity\" style=\"background: #feca74; padding: 0.45em 0.6em; margin: 0 0.25em; line-height: 1; border-radius: 0.35em; box-decoration-break: clone; -webkit-box-decoration-break: clone\">\n",
       "    American\n",
       "    <span style=\"font-size: 0.8em; font-weight: bold; line-height: 1; border-radius: 0.35em; text-transform: uppercase; vertical-align: middle; margin-left: 0.5rem\">GPE</span>\n",
       "</mark>\n",
       " tax filers \n",
       "<mark class=\"entity\" style=\"background: #ddd; padding: 0.45em 0.6em; margin: 0 0.25em; line-height: 1; border-radius: 0.35em; box-decoration-break: clone; -webkit-box-decoration-break: clone\">\n",
       "    - - more\n",
       "    <span style=\"font-size: 0.8em; font-weight: bold; line-height: 1; border-radius: 0.35em; text-transform: uppercase; vertical-align: middle; margin-left: 0.5rem\">TIM</span>\n",
       "</mark>\n",
       " than 65 % - - will see their overall tax burden decrease by at least $ \n",
       "<mark class=\"entity\" style=\"background: #ddd; padding: 0.45em 0.6em; margin: 0 0.25em; line-height: 1; border-radius: 0.35em; box-decoration-break: clone; -webkit-box-decoration-break: clone\">\n",
       "    100\n",
       "    <span style=\"font-size: 0.8em; font-weight: bold; line-height: 1; border-radius: 0.35em; text-transform: uppercase; vertical-align: middle; margin-left: 0.5rem\">TIM</span>\n",
       "</mark>\n",
       " , according to the congressional Joint Committee on \n",
       "<mark class=\"entity\" style=\"background: #ddd; padding: 0.45em 0.6em; margin: 0 0.25em; line-height: 1; border-radius: 0.35em; box-decoration-break: clone; -webkit-box-decoration-break: clone\">\n",
       "    Taxation\n",
       "    <span style=\"font-size: 0.8em; font-weight: bold; line-height: 1; border-radius: 0.35em; text-transform: uppercase; vertical-align: middle; margin-left: 0.5rem\">TIM</span>\n",
       "</mark>\n",
       " . \n",
       "<mark class=\"entity\" style=\"background: #ddd; padding: 0.45em 0.6em; margin: 0 0.25em; line-height: 1; border-radius: 0.35em; box-decoration-break: clone; -webkit-box-decoration-break: clone\">\n",
       "    See page 7\n",
       "    <span style=\"font-size: 0.8em; font-weight: bold; line-height: 1; border-radius: 0.35em; text-transform: uppercase; vertical-align: middle; margin-left: 0.5rem\">TIM</span>\n",
       "</mark>\n",
       " of this helpful analysis</div>"
      ],
      "text/plain": [
       "<IPython.core.display.HTML object>"
      ]
     },
     "metadata": {},
     "output_type": "display_data"
    },
    {
     "name": "stdout",
     "output_type": "stream",
     "text": [
      "[]\n"
     ]
    },
    {
     "data": {
      "text/html": [
       "<div class=\"entities\" style=\"line-height: 2.5\"></div>"
      ],
      "text/plain": [
       "<IPython.core.display.HTML object>"
      ]
     },
     "metadata": {},
     "output_type": "display_data"
    },
    {
     "name": "stdout",
     "output_type": "stream",
     "text": [
      "[('Slightly', 'RB', 'B-per'), ('less', 'JJR', 'O'), ('than', 'IN', 'O'), ('30', 'CD', 'O'), ('%', 'NN', 'O'), ('of', 'IN', 'O'), ('filers', 'NNS', 'O'), ('will', 'MD', 'O'), ('see', 'VB', 'O'), ('very', 'RB', 'O'), ('little', 'JJ', 'O'), ('change', 'NN', 'O'), ('in', 'IN', 'O'), ('their', 'PRP$', 'O'), ('tax', 'NN', 'O'), ('liability', 'NN', 'O'), ('and', 'CC', 'O'), ('a', 'DT', 'O'), ('small', 'JJ', 'O'), ('percentage', 'NN', 'O'), (',', ',', 'O'), ('about', 'RB', 'O'), ('6', 'CD', 'O'), ('%', 'NN', 'O'), (',', ',', 'O'), ('will', 'MD', 'O'), ('see', 'VB', 'O'), ('an', 'DT', 'O'), ('increase', 'NN', 'O'), ('.', '.', 'O'), ('These', 'DT', 'O'), ('tax', 'NN', 'O'), ('rate', 'NN', 'O'), ('cuts', 'NNS', 'O'), ('for', 'IN', 'O'), ('individual', 'JJ', 'O'), ('filers', 'NNS', 'O'), ('are', 'VBP', 'O'), ('not', 'RB', 'O'), ('permanent', 'JJ', 'O'), ('like', 'IN', 'O'), ('the', 'DT', 'O'), ('corporate', 'JJ', 'O'), ('tax', 'NN', 'O'), ('cuts', 'NNS', 'O'), (',', ',', 'O'), ('but', 'CC', 'O'), ('they', 'PRP', 'O'), (\"'\", \"''\", 'O'), ('ll', 'NN', 'O'), ('be', 'VB', 'O'), ('in', 'IN', 'O'), ('place', 'NN', 'O'), ('until', 'IN', 'O'), ('2025', 'CD', 'B-tim'), ('.', '.', 'O')]\n"
     ]
    },
    {
     "data": {
      "text/html": [
       "<div class=\"entities\" style=\"line-height: 2.5\">\n",
       "<mark class=\"entity\" style=\"background: #ddd; padding: 0.45em 0.6em; margin: 0 0.25em; line-height: 1; border-radius: 0.35em; box-decoration-break: clone; -webkit-box-decoration-break: clone\">\n",
       "    Slightly\n",
       "    <span style=\"font-size: 0.8em; font-weight: bold; line-height: 1; border-radius: 0.35em; text-transform: uppercase; vertical-align: middle; margin-left: 0.5rem\">PER</span>\n",
       "</mark>\n",
       " less than 30 % of filers will see very little change in their tax liability and a small percentage , about 6 % , will see an increase . These tax rate cuts for individual filers are not permanent like the corporate tax cuts , but they ' ll be in place until \n",
       "<mark class=\"entity\" style=\"background: #ddd; padding: 0.45em 0.6em; margin: 0 0.25em; line-height: 1; border-radius: 0.35em; box-decoration-break: clone; -webkit-box-decoration-break: clone\">\n",
       "    2025\n",
       "    <span style=\"font-size: 0.8em; font-weight: bold; line-height: 1; border-radius: 0.35em; text-transform: uppercase; vertical-align: middle; margin-left: 0.5rem\">TIM</span>\n",
       "</mark>\n",
       " . </div>"
      ],
      "text/plain": [
       "<IPython.core.display.HTML object>"
      ]
     },
     "metadata": {},
     "output_type": "display_data"
    },
    {
     "name": "stdout",
     "output_type": "stream",
     "text": [
      "[]\n"
     ]
    },
    {
     "data": {
      "text/html": [
       "<div class=\"entities\" style=\"line-height: 2.5\"></div>"
      ],
      "text/plain": [
       "<IPython.core.display.HTML object>"
      ]
     },
     "metadata": {},
     "output_type": "display_data"
    },
    {
     "name": "stdout",
     "output_type": "stream",
     "text": [
      "[('But', 'CC', 'O'), ('while', 'IN', 'O'), ('most', 'JJS', 'O'), ('Americans', 'NNPS', 'B-gpe'), ('got', 'VBD', 'O'), ('a', 'DT', 'O'), ('tax', 'NN', 'O'), ('cut', 'NN', 'O'), (',', ',', 'O'), ('most', 'JJS', 'O'), ('people', 'NNS', 'O'), ('don', 'VBP', 'O'), (\"'\", \"''\", 'B-art'), ('t', 'NN', 'B-eve'), ('seem', 'VBP', 'B-tim'), ('to', 'TO', 'O'), ('understand', 'VB', 'O'), ('they', 'PRP', 'O'), ('got', 'VBD', 'O'), ('one', 'CD', 'O'), ('.', '.', 'O'), ('According', 'VBG', 'O'), ('to', 'TO', 'O'), ('an', 'DT', 'O'), ('NBC', 'NNP', 'B-org'), ('News/Wall', 'NNP', 'I-org'), ('Street', 'NNP', 'I-org'), ('Journal', 'NNP', 'I-org'), ('poll', 'NN', 'O'), ('out', 'RP', 'O'), ('this', 'DT', 'O'), ('week', 'NN', 'O'), (',', ',', 'O'), ('only', 'RB', 'O'), ('17', 'CD', 'O'), ('%', 'NN', 'O'), ('of', 'IN', 'O'), ('Americans', 'NNPS', 'B-geo'), ('think', 'VBP', 'O'), ('they', 'PRP', 'O'), (\"'\", \"''\", 'O'), ('re', 'VBP', 'O'), ('getting', 'VBG', 'O'), ('a', 'DT', 'O'), ('tax', 'NN', 'O'), ('cut', 'NN', 'O'), ('while', 'IN', 'O'), ('28', 'CD', 'O'), ('%', 'NN', 'O'), ('said', 'VBD', 'O'), ('they', 'PRP', 'O'), ('will', 'MD', 'O'), ('pay', 'VB', 'O'), ('more', 'RBR', 'O'), ('.', '.', 'O')]\n"
     ]
    },
    {
     "data": {
      "text/html": [
       "<div class=\"entities\" style=\"line-height: 2.5\">But while most \n",
       "<mark class=\"entity\" style=\"background: #feca74; padding: 0.45em 0.6em; margin: 0 0.25em; line-height: 1; border-radius: 0.35em; box-decoration-break: clone; -webkit-box-decoration-break: clone\">\n",
       "    Americans\n",
       "    <span style=\"font-size: 0.8em; font-weight: bold; line-height: 1; border-radius: 0.35em; text-transform: uppercase; vertical-align: middle; margin-left: 0.5rem\">GPE</span>\n",
       "</mark>\n",
       " got a tax cut , most people don ' t \n",
       "<mark class=\"entity\" style=\"background: #ddd; padding: 0.45em 0.6em; margin: 0 0.25em; line-height: 1; border-radius: 0.35em; box-decoration-break: clone; -webkit-box-decoration-break: clone\">\n",
       "    seem\n",
       "    <span style=\"font-size: 0.8em; font-weight: bold; line-height: 1; border-radius: 0.35em; text-transform: uppercase; vertical-align: middle; margin-left: 0.5rem\">TIM</span>\n",
       "</mark>\n",
       " to understand they got one . According to an \n",
       "<mark class=\"entity\" style=\"background: #7aecec; padding: 0.45em 0.6em; margin: 0 0.25em; line-height: 1; border-radius: 0.35em; box-decoration-break: clone; -webkit-box-decoration-break: clone\">\n",
       "    NBC News/Wall Street Journal\n",
       "    <span style=\"font-size: 0.8em; font-weight: bold; line-height: 1; border-radius: 0.35em; text-transform: uppercase; vertical-align: middle; margin-left: 0.5rem\">ORG</span>\n",
       "</mark>\n",
       " poll out this week , only 17 % of \n",
       "<mark class=\"entity\" style=\"background: #ddd; padding: 0.45em 0.6em; margin: 0 0.25em; line-height: 1; border-radius: 0.35em; box-decoration-break: clone; -webkit-box-decoration-break: clone\">\n",
       "    Americans\n",
       "    <span style=\"font-size: 0.8em; font-weight: bold; line-height: 1; border-radius: 0.35em; text-transform: uppercase; vertical-align: middle; margin-left: 0.5rem\">GEO</span>\n",
       "</mark>\n",
       " think they ' re getting a tax cut while 28 % said they will pay more . </div>"
      ],
      "text/plain": [
       "<IPython.core.display.HTML object>"
      ]
     },
     "metadata": {},
     "output_type": "display_data"
    },
    {
     "name": "stdout",
     "output_type": "stream",
     "text": [
      "[]\n"
     ]
    },
    {
     "data": {
      "text/html": [
       "<div class=\"entities\" style=\"line-height: 2.5\"></div>"
      ],
      "text/plain": [
       "<IPython.core.display.HTML object>"
      ]
     },
     "metadata": {},
     "output_type": "display_data"
    },
    {
     "name": "stdout",
     "output_type": "stream",
     "text": [
      "[('Winning', 'VBG', 'B-per'), (':', ':', 'I-per'), ('Most', 'JJS', 'B-eve'), ('rich', 'JJ', 'O'), ('people', 'NNS', 'O')]\n"
     ]
    },
    {
     "data": {
      "text/html": [
       "<div class=\"entities\" style=\"line-height: 2.5\">Winning : \n",
       "<mark class=\"entity\" style=\"background: #ddd; padding: 0.45em 0.6em; margin: 0 0.25em; line-height: 1; border-radius: 0.35em; box-decoration-break: clone; -webkit-box-decoration-break: clone\">\n",
       "    Most\n",
       "    <span style=\"font-size: 0.8em; font-weight: bold; line-height: 1; border-radius: 0.35em; text-transform: uppercase; vertical-align: middle; margin-left: 0.5rem\">EVE</span>\n",
       "</mark>\n",
       " rich people</div>"
      ],
      "text/plain": [
       "<IPython.core.display.HTML object>"
      ]
     },
     "metadata": {},
     "output_type": "display_data"
    },
    {
     "name": "stdout",
     "output_type": "stream",
     "text": [
      "[]\n"
     ]
    },
    {
     "data": {
      "text/html": [
       "<div class=\"entities\" style=\"line-height: 2.5\"></div>"
      ],
      "text/plain": [
       "<IPython.core.display.HTML object>"
      ]
     },
     "metadata": {},
     "output_type": "display_data"
    },
    {
     "name": "stdout",
     "output_type": "stream",
     "text": [
      "[('The', 'DT', 'O'), ('new', 'JJ', 'O'), ('tax', 'NN', 'O'), ('law', 'NN', 'O'), (\"'\", \"''\", 'O'), ('s', 'JJ', 'O'), ('benefits', 'NNS', 'O'), ('are', 'VBP', 'O'), ('tilted', 'VBN', 'O'), ('toward', 'IN', 'O'), ('the', 'DT', 'O'), ('wealthy', 'NN', 'O'), (',', ',', 'O'), ('who', 'WP', 'O'), ('will', 'MD', 'O'), ('generally', 'RB', 'O'), ('see', 'VB', 'O'), ('greater', 'JJR', 'O'), ('benefits', 'NNS', 'O'), ('than', 'IN', 'O'), ('other', 'JJ', 'O'), ('Americans', 'NNPS', 'B-geo'), ('.', '.', 'O')]\n"
     ]
    },
    {
     "data": {
      "text/html": [
       "<div class=\"entities\" style=\"line-height: 2.5\">The new tax law ' s benefits are tilted toward the wealthy , who will generally see greater benefits than other \n",
       "<mark class=\"entity\" style=\"background: #ddd; padding: 0.45em 0.6em; margin: 0 0.25em; line-height: 1; border-radius: 0.35em; box-decoration-break: clone; -webkit-box-decoration-break: clone\">\n",
       "    Americans\n",
       "    <span style=\"font-size: 0.8em; font-weight: bold; line-height: 1; border-radius: 0.35em; text-transform: uppercase; vertical-align: middle; margin-left: 0.5rem\">GEO</span>\n",
       "</mark>\n",
       " . </div>"
      ],
      "text/plain": [
       "<IPython.core.display.HTML object>"
      ]
     },
     "metadata": {},
     "output_type": "display_data"
    },
    {
     "name": "stdout",
     "output_type": "stream",
     "text": [
      "[]\n"
     ]
    },
    {
     "data": {
      "text/html": [
       "<div class=\"entities\" style=\"line-height: 2.5\"></div>"
      ],
      "text/plain": [
       "<IPython.core.display.HTML object>"
      ]
     },
     "metadata": {},
     "output_type": "display_data"
    },
    {
     "name": "stdout",
     "output_type": "stream",
     "text": [
      "[('largest', 'JJS', 'O'), ('cuts', 'NNS', 'O'), ('will', 'MD', 'O'), ('go', 'VB', 'O'), ('to', 'TO', 'O'), ('the', 'DT', 'O'), ('people', 'NNS', 'O'), ('who', 'WP', 'O'), ('pay', 'VBP', 'O'), ('the', 'DT', 'O'), ('most', 'RBS', 'O'), ('in', 'IN', 'O'), ('tax', 'NN', 'O'), (',', ',', 'O'), ('according', 'VBG', 'O'), ('to', 'TO', 'O'), ('the', 'DT', 'O'), ('Thelargest', 'NNP', 'B-org'), ('cuts', 'NNS', 'I-org'), ('will', 'MD', 'O'), ('go', 'VB', 'O'), ('to', 'TO', 'O'), ('the', 'DT', 'O'), ('people', 'NNS', 'O'), ('who', 'WP', 'O'), ('pay', 'VBP', 'O'), ('the', 'DT', 'O'), ('most', 'RBS', 'O'), ('in', 'IN', 'O'), ('tax', 'NN', 'O'), (',', ',', 'O'), ('according', 'VBG', 'O'), ('to', 'TO', 'O'), ('the', 'DT', 'O'), ('Tax', 'NNP', 'B-org'), ('Policy', 'NNP', 'I-org'), ('Center', 'NNP', 'I-org'), (',', ',', 'O'), ('a', 'DT', 'O'), ('think', 'NN', 'O'), ('tank', 'NN', 'O'), (',', ',', 'O'), ('which', 'WDT', 'O'), ('suggested', 'VBD', 'O'), ('that', 'IN', 'O'), ('tax', 'NN', 'O'), ('filers', 'NNS', 'O'), ('in', 'IN', 'O'), ('the', 'DT', 'O'), ('95th', 'CD', 'B-tim'), ('to', 'TO', 'I-tim'), ('99th', 'CD', 'I-tim'), ('percentile', 'NN', 'I-tim'), ('of', 'IN', 'I-tim'), ('income', 'NN', 'O'), ('-', ':', 'O'), ('-', ':', 'I-tim'), ('roughly', 'RB', 'O'), ('between', 'IN', 'O'), ('$', '$', 'B-tim'), ('308', 'CD', 'I-tim'), (',', ',', 'I-tim'), ('000', 'CD', 'I-tim'), ('and', 'CC', 'O'), ('$', '$', 'O'), ('733', 'CD', 'B-tim'), (',', ',', 'I-tim'), ('000', 'CD', 'I-tim'), ('-', ':', 'I-tim'), ('-', ':', 'I-tim'), ('would', 'MD', 'O'), ('see', 'VB', 'O'), ('the', 'DT', 'O'), ('largest', 'JJS', 'O'), ('benefit', 'NN', 'O'), ('as', 'IN', 'O'), ('a', 'DT', 'O'), ('portion', 'NN', 'O'), ('of', 'IN', 'O'), ('after', 'IN', 'O'), ('-', ':', 'O'), ('tax', 'NN', 'O'), ('income', 'NN', 'O'), ('.', '.', 'O')]\n"
     ]
    },
    {
     "data": {
      "text/html": [
       "<div class=\"entities\" style=\"line-height: 2.5\">largest cuts will go to the people who pay the most in tax , according to the \n",
       "<mark class=\"entity\" style=\"background: #7aecec; padding: 0.45em 0.6em; margin: 0 0.25em; line-height: 1; border-radius: 0.35em; box-decoration-break: clone; -webkit-box-decoration-break: clone\">\n",
       "    Thelargest cuts\n",
       "    <span style=\"font-size: 0.8em; font-weight: bold; line-height: 1; border-radius: 0.35em; text-transform: uppercase; vertical-align: middle; margin-left: 0.5rem\">ORG</span>\n",
       "</mark>\n",
       " will go to the people who pay the most in tax , according to the \n",
       "<mark class=\"entity\" style=\"background: #7aecec; padding: 0.45em 0.6em; margin: 0 0.25em; line-height: 1; border-radius: 0.35em; box-decoration-break: clone; -webkit-box-decoration-break: clone\">\n",
       "    Tax Policy Center\n",
       "    <span style=\"font-size: 0.8em; font-weight: bold; line-height: 1; border-radius: 0.35em; text-transform: uppercase; vertical-align: middle; margin-left: 0.5rem\">ORG</span>\n",
       "</mark>\n",
       " , a think tank , which suggested that tax filers in the \n",
       "<mark class=\"entity\" style=\"background: #ddd; padding: 0.45em 0.6em; margin: 0 0.25em; line-height: 1; border-radius: 0.35em; box-decoration-break: clone; -webkit-box-decoration-break: clone\">\n",
       "    95th to 99th percentile of\n",
       "    <span style=\"font-size: 0.8em; font-weight: bold; line-height: 1; border-radius: 0.35em; text-transform: uppercase; vertical-align: middle; margin-left: 0.5rem\">TIM</span>\n",
       "</mark>\n",
       "\n",
       "<mark class=\"entity\" style=\"background: #ddd; padding: 0.45em 0.6em; margin: 0 0.25em; line-height: 1; border-radius: 0.35em; box-decoration-break: clone; -webkit-box-decoration-break: clone\">\n",
       "    9th percentile of income - -\n",
       "    <span style=\"font-size: 0.8em; font-weight: bold; line-height: 1; border-radius: 0.35em; text-transform: uppercase; vertical-align: middle; margin-left: 0.5rem\">TIM</span>\n",
       "</mark>\n",
       " roughly between \n",
       "<mark class=\"entity\" style=\"background: #ddd; padding: 0.45em 0.6em; margin: 0 0.25em; line-height: 1; border-radius: 0.35em; box-decoration-break: clone; -webkit-box-decoration-break: clone\">\n",
       "    $ 308 , 000\n",
       "    <span style=\"font-size: 0.8em; font-weight: bold; line-height: 1; border-radius: 0.35em; text-transform: uppercase; vertical-align: middle; margin-left: 0.5rem\">TIM</span>\n",
       "</mark>\n",
       " and $ \n",
       "<mark class=\"entity\" style=\"background: #ddd; padding: 0.45em 0.6em; margin: 0 0.25em; line-height: 1; border-radius: 0.35em; box-decoration-break: clone; -webkit-box-decoration-break: clone\">\n",
       "    733 , 000 - -\n",
       "    <span style=\"font-size: 0.8em; font-weight: bold; line-height: 1; border-radius: 0.35em; text-transform: uppercase; vertical-align: middle; margin-left: 0.5rem\">TIM</span>\n",
       "</mark>\n",
       " would see the largest benefit as a portion of after - tax income . </div>"
      ],
      "text/plain": [
       "<IPython.core.display.HTML object>"
      ]
     },
     "metadata": {},
     "output_type": "display_data"
    },
    {
     "name": "stdout",
     "output_type": "stream",
     "text": [
      "[]\n"
     ]
    },
    {
     "data": {
      "text/html": [
       "<div class=\"entities\" style=\"line-height: 2.5\"></div>"
      ],
      "text/plain": [
       "<IPython.core.display.HTML object>"
      ]
     },
     "metadata": {},
     "output_type": "display_data"
    },
    {
     "name": "stdout",
     "output_type": "stream",
     "text": [
      "[('Most', 'JJS', 'B-gpe'), ('people', 'NNS', 'O'), ('in', 'IN', 'O'), ('the', 'DT', 'O'), ('bottom', 'JJ', 'O'), ('20', 'CD', 'B-tim'), ('%', 'NN', 'I-tim'), ('income', 'NN', 'O'), ('-', ':', 'O'), ('wise', 'NN', 'O'), ('will', 'MD', 'O'), ('see', 'VB', 'O'), ('little', 'JJ', 'O'), ('or', 'CC', 'O'), ('no', 'DT', 'O'), ('change', 'NN', 'O'), ('in', 'IN', 'O'), ('their', 'PRP$', 'O'), ('tax', 'NN', 'O'), ('liability', 'NN', 'O'), (',', ',', 'O'), ('according', 'VBG', 'O'), ('to', 'TO', 'O'), ('that', 'DT', 'O'), ('report', 'NN', 'O'), ('.', '.', 'O')]\n"
     ]
    },
    {
     "data": {
      "text/html": [
       "<div class=\"entities\" style=\"line-height: 2.5\">\n",
       "<mark class=\"entity\" style=\"background: #feca74; padding: 0.45em 0.6em; margin: 0 0.25em; line-height: 1; border-radius: 0.35em; box-decoration-break: clone; -webkit-box-decoration-break: clone\">\n",
       "    Most\n",
       "    <span style=\"font-size: 0.8em; font-weight: bold; line-height: 1; border-radius: 0.35em; text-transform: uppercase; vertical-align: middle; margin-left: 0.5rem\">GPE</span>\n",
       "</mark>\n",
       " people in the bottom \n",
       "<mark class=\"entity\" style=\"background: #ddd; padding: 0.45em 0.6em; margin: 0 0.25em; line-height: 1; border-radius: 0.35em; box-decoration-break: clone; -webkit-box-decoration-break: clone\">\n",
       "    20 %\n",
       "    <span style=\"font-size: 0.8em; font-weight: bold; line-height: 1; border-radius: 0.35em; text-transform: uppercase; vertical-align: middle; margin-left: 0.5rem\">TIM</span>\n",
       "</mark>\n",
       " income - wise will see little or no change in their tax liability , according to that report . </div>"
      ],
      "text/plain": [
       "<IPython.core.display.HTML object>"
      ]
     },
     "metadata": {},
     "output_type": "display_data"
    },
    {
     "name": "stdout",
     "output_type": "stream",
     "text": [
      "[]\n"
     ]
    },
    {
     "data": {
      "text/html": [
       "<div class=\"entities\" style=\"line-height: 2.5\"></div>"
      ],
      "text/plain": [
       "<IPython.core.display.HTML object>"
      ]
     },
     "metadata": {},
     "output_type": "display_data"
    },
    {
     "name": "stdout",
     "output_type": "stream",
     "text": [
      "[('Losing', 'VBG', 'B-per'), (':', ':', 'I-per'), ('Some', 'DT', 'O'), ('rich', 'JJ', 'O'), ('people', 'NNS', 'O'), (',', ',', 'O'), ('probably', 'RB', 'O'), ('in', 'IN', 'O'), ('blue', 'JJ', 'B-geo'), ('states', 'NNS', 'O')]\n"
     ]
    },
    {
     "data": {
      "text/html": [
       "<div class=\"entities\" style=\"line-height: 2.5\">\n",
       "<mark class=\"entity\" style=\"background: #ddd; padding: 0.45em 0.6em; margin: 0 0.25em; line-height: 1; border-radius: 0.35em; box-decoration-break: clone; -webkit-box-decoration-break: clone\">\n",
       "    Losing :\n",
       "    <span style=\"font-size: 0.8em; font-weight: bold; line-height: 1; border-radius: 0.35em; text-transform: uppercase; vertical-align: middle; margin-left: 0.5rem\">PER</span>\n",
       "</mark>\n",
       " Some rich people , probably in \n",
       "<mark class=\"entity\" style=\"background: #ddd; padding: 0.45em 0.6em; margin: 0 0.25em; line-height: 1; border-radius: 0.35em; box-decoration-break: clone; -webkit-box-decoration-break: clone\">\n",
       "    blue\n",
       "    <span style=\"font-size: 0.8em; font-weight: bold; line-height: 1; border-radius: 0.35em; text-transform: uppercase; vertical-align: middle; margin-left: 0.5rem\">GEO</span>\n",
       "</mark>\n",
       " states</div>"
      ],
      "text/plain": [
       "<IPython.core.display.HTML object>"
      ]
     },
     "metadata": {},
     "output_type": "display_data"
    },
    {
     "name": "stdout",
     "output_type": "stream",
     "text": [
      "[]\n"
     ]
    },
    {
     "data": {
      "text/html": [
       "<div class=\"entities\" style=\"line-height: 2.5\"></div>"
      ],
      "text/plain": [
       "<IPython.core.display.HTML object>"
      ]
     },
     "metadata": {},
     "output_type": "display_data"
    },
    {
     "name": "stdout",
     "output_type": "stream",
     "text": [
      "[('About', 'RB', 'O'), ('14', 'CD', 'O'), ('%', 'NN', 'O'), ('of', 'IN', 'O'), ('rich', 'JJ', 'O'), ('people', 'NNS', 'O'), ('making', 'VBG', 'O'), ('more', 'JJR', 'O'), ('than', 'IN', 'O'), ('$', '$', 'O'), ('1', 'CD', 'O'), ('million', 'CD', 'O'), ('will', 'MD', 'O'), ('see', 'VB', 'O'), ('a', 'DT', 'O'), ('tax', 'NN', 'O'), ('increase', 'NN', 'O'), ('.', '.', 'O'), ('They', 'PRP', 'B-nat'), (\"'\", \"''\", 'I-nat'), ('re', 'VBP', 'O'), ('likely', 'JJ', 'O'), ('to', 'TO', 'O'), ('be', 'VB', 'O'), ('concentrated', 'VBN', 'O'), ('in', 'IN', 'O'), ('states', 'NNS', 'O'), ('with', 'IN', 'O'), ('high', 'JJ', 'O'), ('state', 'NN', 'O'), ('and', 'CC', 'O'), ('local', 'JJ', 'O'), ('taxes', 'NNS', 'O'), ('and', 'CC', 'O'), ('they', 'PRP', 'O'), ('possibly', 'RB', 'O'), ('have', 'VBP', 'O'), ('multiple', 'JJ', 'O'), ('homes', 'NNS', 'O'), ('.', '.', 'O'), ('They', 'PRP', 'O'), ('used', 'VBD', 'O'), ('to', 'TO', 'O'), ('be', 'VB', 'O'), ('able', 'JJ', 'O'), ('to', 'TO', 'O'), ('deduct', 'VB', 'O'), ('a', 'DT', 'O'), ('lot', 'NN', 'O'), ('more', 'JJR', 'O'), ('of', 'IN', 'O'), ('their', 'PRP$', 'O'), ('state', 'NN', 'O'), ('and', 'CC', 'O'), ('local', 'JJ', 'O'), ('income', 'NN', 'O'), ('taxes', 'NNS', 'O'), ('from', 'IN', 'O'), ('their', 'PRP$', 'O'), ('federal', 'JJ', 'O'), ('returns', 'NNS', 'O'), ('.', '.', 'O'), ('Now', 'RB', 'O'), ('those', 'DT', 'O'), ('deductions', 'NNS', 'O'), ('are', 'VBP', 'O'), ('capped', 'VBN', 'O'), ('at', 'IN', 'O'), ('$', '$', 'O'), ('10', 'CD', 'B-tim'), (',', ',', 'I-tim'), ('000', 'CD', 'I-tim'), ('.', '.', 'O')]\n"
     ]
    },
    {
     "data": {
      "text/html": [
       "<div class=\"entities\" style=\"line-height: 2.5\">About 14 % of rich people making more than $ 1 million will see a tax increase . \n",
       "<mark class=\"entity\" style=\"background: #ddd; padding: 0.45em 0.6em; margin: 0 0.25em; line-height: 1; border-radius: 0.35em; box-decoration-break: clone; -webkit-box-decoration-break: clone\">\n",
       "    They '\n",
       "    <span style=\"font-size: 0.8em; font-weight: bold; line-height: 1; border-radius: 0.35em; text-transform: uppercase; vertical-align: middle; margin-left: 0.5rem\">NAT</span>\n",
       "</mark>\n",
       " re likely to be concentrated in states with high state and local taxes and they possibly have multiple homes . They used to be able to deduct a lot more of their state and local income taxes from their federal returns . Now those deductions are capped at $ \n",
       "<mark class=\"entity\" style=\"background: #ddd; padding: 0.45em 0.6em; margin: 0 0.25em; line-height: 1; border-radius: 0.35em; box-decoration-break: clone; -webkit-box-decoration-break: clone\">\n",
       "    10 , 000\n",
       "    <span style=\"font-size: 0.8em; font-weight: bold; line-height: 1; border-radius: 0.35em; text-transform: uppercase; vertical-align: middle; margin-left: 0.5rem\">TIM</span>\n",
       "</mark>\n",
       " . </div>"
      ],
      "text/plain": [
       "<IPython.core.display.HTML object>"
      ]
     },
     "metadata": {},
     "output_type": "display_data"
    },
    {
     "name": "stdout",
     "output_type": "stream",
     "text": [
      "[]\n"
     ]
    },
    {
     "data": {
      "text/html": [
       "<div class=\"entities\" style=\"line-height: 2.5\"></div>"
      ],
      "text/plain": [
       "<IPython.core.display.HTML object>"
      ]
     },
     "metadata": {},
     "output_type": "display_data"
    },
    {
     "name": "stdout",
     "output_type": "stream",
     "text": [
      "[('Really', 'RB', 'B-per'), ('winning', 'VBG', 'I-per'), (':', ':', 'O'), ('Heirs', 'NN', 'O'), ('of', 'IN', 'O'), ('rich', 'JJ', 'O'), ('people', 'NNS', 'O')]\n"
     ]
    },
    {
     "data": {
      "text/html": [
       "<div class=\"entities\" style=\"line-height: 2.5\">\n",
       "<mark class=\"entity\" style=\"background: #ddd; padding: 0.45em 0.6em; margin: 0 0.25em; line-height: 1; border-radius: 0.35em; box-decoration-break: clone; -webkit-box-decoration-break: clone\">\n",
       "    Really winning\n",
       "    <span style=\"font-size: 0.8em; font-weight: bold; line-height: 1; border-radius: 0.35em; text-transform: uppercase; vertical-align: middle; margin-left: 0.5rem\">PER</span>\n",
       "</mark>\n",
       " : Heirs of rich people</div>"
      ],
      "text/plain": [
       "<IPython.core.display.HTML object>"
      ]
     },
     "metadata": {},
     "output_type": "display_data"
    },
    {
     "name": "stdout",
     "output_type": "stream",
     "text": [
      "[]\n"
     ]
    },
    {
     "data": {
      "text/html": [
       "<div class=\"entities\" style=\"line-height: 2.5\"></div>"
      ],
      "text/plain": [
       "<IPython.core.display.HTML object>"
      ]
     },
     "metadata": {},
     "output_type": "display_data"
    },
    {
     "name": "stdout",
     "output_type": "stream",
     "text": [
      "[('The', 'DT', 'O'), ('law', 'NN', 'O'), ('more', 'RBR', 'O'), ('than', 'IN', 'O'), ('doubled', 'VBD', 'O'), ('the', 'DT', 'O'), ('amount', 'NN', 'O'), ('that', 'WDT', 'O'), ('can', 'MD', 'O'), ('pass', 'VB', 'O'), ('to', 'TO', 'O'), ('family', 'NN', 'O'), ('members', 'NNS', 'O'), ('without', 'IN', 'O'), ('triggering', 'VBG', 'O'), ('the', 'DT', 'O'), ('estate', 'NN', 'O'), ('tax', 'NN', 'O'), (',', ',', 'O'), ('from', 'IN', 'O'), ('about', 'IN', 'O'), ('$', '$', 'O'), ('5', 'CD', 'O'), ('million', 'CD', 'O'), ('to', 'TO', 'O'), ('more', 'JJR', 'O'), ('than', 'IN', 'O'), ('$', '$', 'O'), ('11', 'CD', 'O'), ('million', 'CD', 'O'), ('for', 'IN', 'O'), ('individuals', 'NNS', 'O'), ('and', 'CC', 'O'), ('$', '$', 'O'), ('22', 'CD', 'O'), ('million', 'CD', 'O'), ('for', 'IN', 'O'), ('married', 'JJ', 'O'), ('couples', 'NNS', 'B-tim'), ('.', '.', 'O'), ('That', 'DT', 'O'), ('affects', 'VBZ', 'O'), ('a', 'DT', 'O'), ('relatively', 'RB', 'O'), ('small', 'JJ', 'O'), ('number', 'NN', 'O'), ('of', 'IN', 'O'), ('Americans', 'NNPS', 'B-geo'), (',', ',', 'O'), ('but', 'CC', 'O'), ('it', 'PRP', 'O'), ('means', 'VBZ', 'O'), ('they', 'PRP', 'O'), (\"'\", \"''\", 'O'), ('ll', 'NN', 'O'), ('be', 'VB', 'O'), ('able', 'JJ', 'O'), ('to', 'TO', 'O'), ('keep', 'VB', 'O'), ('more', 'JJR', 'O'), ('of', 'IN', 'O'), ('an', 'DT', 'O'), ('estate', 'NN', 'O'), ('.', '.', 'O')]\n"
     ]
    },
    {
     "data": {
      "text/html": [
       "<div class=\"entities\" style=\"line-height: 2.5\">The law more than doubled the amount that can pass to family members without triggering the estate tax , from about $ 5 million to more than $ 11 million for individuals and $ 22 million for married \n",
       "<mark class=\"entity\" style=\"background: #ddd; padding: 0.45em 0.6em; margin: 0 0.25em; line-height: 1; border-radius: 0.35em; box-decoration-break: clone; -webkit-box-decoration-break: clone\">\n",
       "    couples\n",
       "    <span style=\"font-size: 0.8em; font-weight: bold; line-height: 1; border-radius: 0.35em; text-transform: uppercase; vertical-align: middle; margin-left: 0.5rem\">TIM</span>\n",
       "</mark>\n",
       " . That affects a relatively small number of \n",
       "<mark class=\"entity\" style=\"background: #ddd; padding: 0.45em 0.6em; margin: 0 0.25em; line-height: 1; border-radius: 0.35em; box-decoration-break: clone; -webkit-box-decoration-break: clone\">\n",
       "    Americans\n",
       "    <span style=\"font-size: 0.8em; font-weight: bold; line-height: 1; border-radius: 0.35em; text-transform: uppercase; vertical-align: middle; margin-left: 0.5rem\">GEO</span>\n",
       "</mark>\n",
       " , but it means they ' ll be able to keep more of an estate . </div>"
      ],
      "text/plain": [
       "<IPython.core.display.HTML object>"
      ]
     },
     "metadata": {},
     "output_type": "display_data"
    },
    {
     "name": "stdout",
     "output_type": "stream",
     "text": [
      "[]\n"
     ]
    },
    {
     "data": {
      "text/html": [
       "<div class=\"entities\" style=\"line-height: 2.5\"></div>"
      ],
      "text/plain": [
       "<IPython.core.display.HTML object>"
      ]
     },
     "metadata": {},
     "output_type": "display_data"
    },
    {
     "name": "stdout",
     "output_type": "stream",
     "text": [
      "[('Still', 'RB', 'B-per'), ('winning', 'VBG', 'O'), (':', ':', 'B-tim'), ('Investors', 'NNS', 'O')]\n"
     ]
    },
    {
     "data": {
      "text/html": [
       "<div class=\"entities\" style=\"line-height: 2.5\">\n",
       "<mark class=\"entity\" style=\"background: #ddd; padding: 0.45em 0.6em; margin: 0 0.25em; line-height: 1; border-radius: 0.35em; box-decoration-break: clone; -webkit-box-decoration-break: clone\">\n",
       "    Still\n",
       "    <span style=\"font-size: 0.8em; font-weight: bold; line-height: 1; border-radius: 0.35em; text-transform: uppercase; vertical-align: middle; margin-left: 0.5rem\">PER</span>\n",
       "</mark>\n",
       " winning \n",
       "<mark class=\"entity\" style=\"background: #ddd; padding: 0.45em 0.6em; margin: 0 0.25em; line-height: 1; border-radius: 0.35em; box-decoration-break: clone; -webkit-box-decoration-break: clone\">\n",
       "    :\n",
       "    <span style=\"font-size: 0.8em; font-weight: bold; line-height: 1; border-radius: 0.35em; text-transform: uppercase; vertical-align: middle; margin-left: 0.5rem\">TIM</span>\n",
       "</mark>\n",
       " Investors</div>"
      ],
      "text/plain": [
       "<IPython.core.display.HTML object>"
      ]
     },
     "metadata": {},
     "output_type": "display_data"
    },
    {
     "name": "stdout",
     "output_type": "stream",
     "text": [
      "[]\n"
     ]
    },
    {
     "data": {
      "text/html": [
       "<div class=\"entities\" style=\"line-height: 2.5\"></div>"
      ],
      "text/plain": [
       "<IPython.core.display.HTML object>"
      ]
     },
     "metadata": {},
     "output_type": "display_data"
    },
    {
     "name": "stdout",
     "output_type": "stream",
     "text": [
      "[('The', 'DT', 'O'), ('rates', 'NNS', 'O'), ('for', 'IN', 'O'), ('capital', 'NN', 'O'), ('gains', 'NNS', 'O'), ('taxes', 'NNS', 'O'), ('did', 'VBD', 'O'), ('not', 'RB', 'O'), ('change', 'VB', 'O'), ('in', 'IN', 'O'), ('the', 'DT', 'O'), ('tax', 'NN', 'O'), ('law', 'NN', 'O'), ('and', 'CC', 'O'), ('remain', 'VBP', 'O'), ('lower', 'JJR', 'O'), ('than', 'IN', 'O'), ('the', 'DT', 'O'), ('rates', 'NNS', 'O'), ('for', 'IN', 'O'), ('wage', 'NN', 'O'), ('income', 'NN', 'O'), ('.', '.', 'O'), ('So', 'RB', 'O'), ('people', 'NNS', 'O'), ('making', 'VBG', 'O'), ('money', 'NN', 'O'), ('primarily', 'RB', 'O'), ('off', 'IN', 'O'), ('investments', 'NNS', 'O'), ('will', 'MD', 'O'), ('continue', 'VB', 'O'), ('to', 'TO', 'O'), ('pay', 'VB', 'O'), ('less', 'RBR', 'O'), ('in', 'IN', 'O'), ('taxes', 'NNS', 'O'), ('than', 'IN', 'O'), ('people', 'NNS', 'O'), ('who', 'WP', 'O'), ('depend', 'VBP', 'O'), ('mostly', 'RB', 'O'), ('on', 'IN', 'O'), ('salary', 'JJ', 'B-tim'), ('income', 'NN', 'I-tim'), ('.', '.', 'O')]\n"
     ]
    },
    {
     "data": {
      "text/html": [
       "<div class=\"entities\" style=\"line-height: 2.5\">The rates for capital gains taxes did not change in the tax law and remain lower than the rates for wage income . So people making money primarily off investments will continue to pay less in taxes than people who depend mostly on \n",
       "<mark class=\"entity\" style=\"background: #ddd; padding: 0.45em 0.6em; margin: 0 0.25em; line-height: 1; border-radius: 0.35em; box-decoration-break: clone; -webkit-box-decoration-break: clone\">\n",
       "    salary income\n",
       "    <span style=\"font-size: 0.8em; font-weight: bold; line-height: 1; border-radius: 0.35em; text-transform: uppercase; vertical-align: middle; margin-left: 0.5rem\">TIM</span>\n",
       "</mark>\n",
       " . </div>"
      ],
      "text/plain": [
       "<IPython.core.display.HTML object>"
      ]
     },
     "metadata": {},
     "output_type": "display_data"
    },
    {
     "name": "stdout",
     "output_type": "stream",
     "text": [
      "[]\n"
     ]
    },
    {
     "data": {
      "text/html": [
       "<div class=\"entities\" style=\"line-height: 2.5\"></div>"
      ],
      "text/plain": [
       "<IPython.core.display.HTML object>"
      ]
     },
     "metadata": {},
     "output_type": "display_data"
    },
    {
     "name": "stdout",
     "output_type": "stream",
     "text": [
      "[('Winning', 'VBG', 'B-gpe'), (':', ':', 'I-gpe'), ('Trump', 'NN', 'I-tim'), (',', ',', 'I-tim'), ('maybe', 'RB', 'I-tim'), (',', ',', 'O'), ('although', 'IN', 'O'), ('some', 'DT', 'O'), ('other', 'JJ', 'O'), ('business', 'NN', 'O'), ('owners', 'NNS', 'O'), ('won', 'VBD', 'O'), (\"'\", 'POS', 'O'), ('t', 'NN', 'O'), ('win', 'VBP', 'O'), ('as', 'IN', 'O'), ('much', 'JJ', 'O')]\n"
     ]
    },
    {
     "data": {
      "text/html": [
       "<div class=\"entities\" style=\"line-height: 2.5\">\n",
       "<mark class=\"entity\" style=\"background: #ddd; padding: 0.45em 0.6em; margin: 0 0.25em; line-height: 1; border-radius: 0.35em; box-decoration-break: clone; -webkit-box-decoration-break: clone\">\n",
       "    Winning : Trump , maybe\n",
       "    <span style=\"font-size: 0.8em; font-weight: bold; line-height: 1; border-radius: 0.35em; text-transform: uppercase; vertical-align: middle; margin-left: 0.5rem\">TIM</span>\n",
       "</mark>\n",
       " , although some other business owners won ' t win as much</div>"
      ],
      "text/plain": [
       "<IPython.core.display.HTML object>"
      ]
     },
     "metadata": {},
     "output_type": "display_data"
    },
    {
     "name": "stdout",
     "output_type": "stream",
     "text": [
      "[]\n"
     ]
    },
    {
     "data": {
      "text/html": [
       "<div class=\"entities\" style=\"line-height: 2.5\"></div>"
      ],
      "text/plain": [
       "<IPython.core.display.HTML object>"
      ]
     },
     "metadata": {},
     "output_type": "display_data"
    },
    {
     "name": "stdout",
     "output_type": "stream",
     "text": [
      "[('Most', 'JJS', 'B-gpe'), ('small', 'JJ', 'O'), ('business', 'NN', 'O'), ('owners', 'NNS', 'O'), ('(', '(', 'O'), ('and', 'CC', 'O'), ('a', 'DT', 'O'), ('lot', 'NN', 'O'), ('of', 'IN', 'O'), ('not', 'RB', 'O'), ('-', ':', 'O'), ('so', 'RB', 'O'), ('-', ':', 'O'), ('small', 'JJ', 'O'), ('business', 'NN', 'O'), ('owners', 'NNS', 'O'), (')', ')', 'O'), ('include', 'VBP', 'O'), ('their', 'PRP$', 'O'), ('profits', 'NNS', 'O'), ('on', 'IN', 'O'), ('personal', 'JJ', 'O'), ('income', 'NN', 'O'), ('tax', 'NN', 'O'), ('returns', 'NNS', 'O'), ('instead', 'RB', 'O'), ('of', 'IN', 'O'), ('paying', 'VBG', 'O'), ('as', 'IN', 'O'), ('corporations', 'NNS', 'O'), ('.', '.', 'O'), ('Trump', 'NNP', 'B-per'), ('is', 'VBZ', 'I-per'), ('presumably', 'RB', 'O'), ('among', 'IN', 'O'), ('these', 'DT', 'O'), (',', ',', 'O'), ('although', 'IN', 'O'), ('it', 'PRP', 'O'), (\"'\", \"''\", 'O'), ('s', 'RBR', 'B-eve'), ('impossible', 'JJ', 'B-tim'), ('to', 'TO', 'O'), ('know', 'VB', 'O'), ('since', 'IN', 'O'), ('he', 'PRP', 'O'), ('has', 'VBZ', 'O'), ('kept', 'VBN', 'O'), ('his', 'PRP$', 'O'), ('tax', 'NN', 'O'), ('returns', 'NNS', 'O'), ('from', 'IN', 'O'), ('public', 'JJ', 'O'), ('view', 'NN', 'O'), ('.', '.', 'O')]\n"
     ]
    },
    {
     "data": {
      "text/html": [
       "<div class=\"entities\" style=\"line-height: 2.5\">\n",
       "<mark class=\"entity\" style=\"background: #feca74; padding: 0.45em 0.6em; margin: 0 0.25em; line-height: 1; border-radius: 0.35em; box-decoration-break: clone; -webkit-box-decoration-break: clone\">\n",
       "    Most\n",
       "    <span style=\"font-size: 0.8em; font-weight: bold; line-height: 1; border-radius: 0.35em; text-transform: uppercase; vertical-align: middle; margin-left: 0.5rem\">GPE</span>\n",
       "</mark>\n",
       " small business owners ( and a lot of not - so - small business owners ) include their profits on personal income tax returns instead of paying as corporations . \n",
       "<mark class=\"entity\" style=\"background: #ddd; padding: 0.45em 0.6em; margin: 0 0.25em; line-height: 1; border-radius: 0.35em; box-decoration-break: clone; -webkit-box-decoration-break: clone\">\n",
       "    Trump is\n",
       "    <span style=\"font-size: 0.8em; font-weight: bold; line-height: 1; border-radius: 0.35em; text-transform: uppercase; vertical-align: middle; margin-left: 0.5rem\">PER</span>\n",
       "</mark>\n",
       " presumably among these , although it ' s \n",
       "<mark class=\"entity\" style=\"background: #ddd; padding: 0.45em 0.6em; margin: 0 0.25em; line-height: 1; border-radius: 0.35em; box-decoration-break: clone; -webkit-box-decoration-break: clone\">\n",
       "    impossible\n",
       "    <span style=\"font-size: 0.8em; font-weight: bold; line-height: 1; border-radius: 0.35em; text-transform: uppercase; vertical-align: middle; margin-left: 0.5rem\">TIM</span>\n",
       "</mark>\n",
       " to know since he has kept his tax returns from public view . </div>"
      ],
      "text/plain": [
       "<IPython.core.display.HTML object>"
      ]
     },
     "metadata": {},
     "output_type": "display_data"
    },
    {
     "name": "stdout",
     "output_type": "stream",
     "text": [
      "[]\n"
     ]
    },
    {
     "data": {
      "text/html": [
       "<div class=\"entities\" style=\"line-height: 2.5\"></div>"
      ],
      "text/plain": [
       "<IPython.core.display.HTML object>"
      ]
     },
     "metadata": {},
     "output_type": "display_data"
    },
    {
     "name": "stdout",
     "output_type": "stream",
     "text": [
      "[('Under', 'IN', 'O'), ('the', 'DT', 'O'), ('law', 'NN', 'O'), (',', ',', 'O'), ('which', 'WDT', 'O'), ('the', 'DT', 'O'), ('IRS', 'NNP', 'B-org'), ('clarified', 'VBD', 'O'), ('in', 'IN', 'O'), ('January', 'NNP', 'B-tim'), (',', ',', 'I-tim'), ('certain', 'JJ', 'O'), ('types', 'NNS', 'O'), ('of', 'IN', 'O'), ('business', 'NN', 'O'), ('owners', 'NNS', 'O'), ('get', 'VBP', 'O'), ('a', 'DT', 'O'), ('20', 'CD', 'O'), ('%', 'NN', 'O'), ('tax', 'NN', 'O'), ('deduction', 'NN', 'B-tim'), ('.', '.', 'O'), ('Doctors', 'NNS', 'B-gpe'), ('and', 'CC', 'O'), ('lawyers', 'NNS', 'O'), ('lost', 'VBD', 'O'), ('out', 'RP', 'O'), ('on', 'IN', 'O'), ('that', 'DT', 'O'), ('exemption', 'NN', 'O'), (',', ',', 'O'), ('however', 'RB', 'O'), (',', ',', 'O'), ('along', 'IN', 'O'), ('with', 'IN', 'O'), ('Major', 'NNP', 'B-org'), ('League', 'NNP', 'I-org'), ('Baseball', 'NNP', 'I-org'), ('team', 'NN', 'I-org'), ('owners', 'NNS', 'B-tim'), ('.', '.', 'O')]\n"
     ]
    },
    {
     "data": {
      "text/html": [
       "<div class=\"entities\" style=\"line-height: 2.5\">Under the law , which the \n",
       "<mark class=\"entity\" style=\"background: #7aecec; padding: 0.45em 0.6em; margin: 0 0.25em; line-height: 1; border-radius: 0.35em; box-decoration-break: clone; -webkit-box-decoration-break: clone\">\n",
       "    IRS\n",
       "    <span style=\"font-size: 0.8em; font-weight: bold; line-height: 1; border-radius: 0.35em; text-transform: uppercase; vertical-align: middle; margin-left: 0.5rem\">ORG</span>\n",
       "</mark>\n",
       " clarified in \n",
       "<mark class=\"entity\" style=\"background: #ddd; padding: 0.45em 0.6em; margin: 0 0.25em; line-height: 1; border-radius: 0.35em; box-decoration-break: clone; -webkit-box-decoration-break: clone\">\n",
       "    January ,\n",
       "    <span style=\"font-size: 0.8em; font-weight: bold; line-height: 1; border-radius: 0.35em; text-transform: uppercase; vertical-align: middle; margin-left: 0.5rem\">TIM</span>\n",
       "</mark>\n",
       " certain types of business owners get a 20 % tax \n",
       "<mark class=\"entity\" style=\"background: #ddd; padding: 0.45em 0.6em; margin: 0 0.25em; line-height: 1; border-radius: 0.35em; box-decoration-break: clone; -webkit-box-decoration-break: clone\">\n",
       "    deduction\n",
       "    <span style=\"font-size: 0.8em; font-weight: bold; line-height: 1; border-radius: 0.35em; text-transform: uppercase; vertical-align: middle; margin-left: 0.5rem\">TIM</span>\n",
       "</mark>\n",
       " . \n",
       "<mark class=\"entity\" style=\"background: #feca74; padding: 0.45em 0.6em; margin: 0 0.25em; line-height: 1; border-radius: 0.35em; box-decoration-break: clone; -webkit-box-decoration-break: clone\">\n",
       "    Doctors\n",
       "    <span style=\"font-size: 0.8em; font-weight: bold; line-height: 1; border-radius: 0.35em; text-transform: uppercase; vertical-align: middle; margin-left: 0.5rem\">GPE</span>\n",
       "</mark>\n",
       " and lawyers lost out on that exemption , however , along with Major League Baseball team \n",
       "<mark class=\"entity\" style=\"background: #ddd; padding: 0.45em 0.6em; margin: 0 0.25em; line-height: 1; border-radius: 0.35em; box-decoration-break: clone; -webkit-box-decoration-break: clone\">\n",
       "    owners\n",
       "    <span style=\"font-size: 0.8em; font-weight: bold; line-height: 1; border-radius: 0.35em; text-transform: uppercase; vertical-align: middle; margin-left: 0.5rem\">TIM</span>\n",
       "</mark>\n",
       " . </div>"
      ],
      "text/plain": [
       "<IPython.core.display.HTML object>"
      ]
     },
     "metadata": {},
     "output_type": "display_data"
    },
    {
     "name": "stdout",
     "output_type": "stream",
     "text": [
      "[]\n"
     ]
    },
    {
     "data": {
      "text/html": [
       "<div class=\"entities\" style=\"line-height: 2.5\"></div>"
      ],
      "text/plain": [
       "<IPython.core.display.HTML object>"
      ]
     },
     "metadata": {},
     "output_type": "display_data"
    },
    {
     "name": "stdout",
     "output_type": "stream",
     "text": [
      "[('Winning', 'VBG', 'B-per'), (':', ':', 'O'), ('Red', 'JJ', 'B-gpe'), ('state', 'NN', 'I-gpe'), ('filers', 'NNS', 'O'), ('who', 'WP', 'O'), ('depend', 'VBP', 'O'), ('on', 'IN', 'O'), ('refunds', 'NNS', 'O')]\n"
     ]
    },
    {
     "data": {
      "text/html": [
       "<div class=\"entities\" style=\"line-height: 2.5\">\n",
       "<mark class=\"entity\" style=\"background: #ddd; padding: 0.45em 0.6em; margin: 0 0.25em; line-height: 1; border-radius: 0.35em; box-decoration-break: clone; -webkit-box-decoration-break: clone\">\n",
       "    Winning\n",
       "    <span style=\"font-size: 0.8em; font-weight: bold; line-height: 1; border-radius: 0.35em; text-transform: uppercase; vertical-align: middle; margin-left: 0.5rem\">PER</span>\n",
       "</mark>\n",
       " : \n",
       "<mark class=\"entity\" style=\"background: #feca74; padding: 0.45em 0.6em; margin: 0 0.25em; line-height: 1; border-radius: 0.35em; box-decoration-break: clone; -webkit-box-decoration-break: clone\">\n",
       "    Red state\n",
       "    <span style=\"font-size: 0.8em; font-weight: bold; line-height: 1; border-radius: 0.35em; text-transform: uppercase; vertical-align: middle; margin-left: 0.5rem\">GPE</span>\n",
       "</mark>\n",
       " filers who depend on refunds</div>"
      ],
      "text/plain": [
       "<IPython.core.display.HTML object>"
      ]
     },
     "metadata": {},
     "output_type": "display_data"
    },
    {
     "name": "stdout",
     "output_type": "stream",
     "text": [
      "[]\n"
     ]
    },
    {
     "data": {
      "text/html": [
       "<div class=\"entities\" style=\"line-height: 2.5\"></div>"
      ],
      "text/plain": [
       "<IPython.core.display.HTML object>"
      ]
     },
     "metadata": {},
     "output_type": "display_data"
    },
    {
     "name": "stdout",
     "output_type": "stream",
     "text": [
      "[('According', 'VBG', 'O'), ('to', 'TO', 'O'), ('preliminary', 'JJ', 'O'), ('data', 'NNS', 'O'), ('from', 'IN', 'O'), ('H', 'NNP', 'B-geo'), ('&', 'CC', 'I-geo'), ('R', 'NNP', 'B-per'), ('Block', 'NNP', 'I-per'), (',', ',', 'O'), ('it', 'PRP', 'O'), ('is', 'VBZ', 'O'), ('mostly', 'RB', 'O'), ('red', 'JJ', 'O'), ('states', 'NNS', 'O'), (',', ',', 'O'), ('those', 'DT', 'O'), ('that', 'WDT', 'O'), ('voted', 'VBD', 'O'), ('for', 'IN', 'O'), ('Trump', 'NNP', 'B-tim'), ('in', 'IN', 'I-tim'), ('2016', 'CD', 'B-tim'), (',', ',', 'O'), ('who', 'WP', 'O'), ('are', 'VBP', 'O'), ('getting', 'VBG', 'O'), ('the', 'DT', 'O'), ('largest', 'JJS', 'O'), ('bump', 'NN', 'O'), ('in', 'IN', 'O'), ('tax', 'NN', 'O'), ('refunds', 'NNS', 'O'), ('.', '.', 'O')]\n"
     ]
    },
    {
     "data": {
      "text/html": [
       "<div class=\"entities\" style=\"line-height: 2.5\">According to preliminary data from H & \n",
       "<mark class=\"entity\" style=\"background: #ddd; padding: 0.45em 0.6em; margin: 0 0.25em; line-height: 1; border-radius: 0.35em; box-decoration-break: clone; -webkit-box-decoration-break: clone\">\n",
       "    R Block\n",
       "    <span style=\"font-size: 0.8em; font-weight: bold; line-height: 1; border-radius: 0.35em; text-transform: uppercase; vertical-align: middle; margin-left: 0.5rem\">PER</span>\n",
       "</mark>\n",
       " , it is mostly red states , those that voted for Trump in \n",
       "<mark class=\"entity\" style=\"background: #ddd; padding: 0.45em 0.6em; margin: 0 0.25em; line-height: 1; border-radius: 0.35em; box-decoration-break: clone; -webkit-box-decoration-break: clone\">\n",
       "    2016\n",
       "    <span style=\"font-size: 0.8em; font-weight: bold; line-height: 1; border-radius: 0.35em; text-transform: uppercase; vertical-align: middle; margin-left: 0.5rem\">TIM</span>\n",
       "</mark>\n",
       " , who are getting the largest bump in tax refunds . </div>"
      ],
      "text/plain": [
       "<IPython.core.display.HTML object>"
      ]
     },
     "metadata": {},
     "output_type": "display_data"
    },
    {
     "name": "stdout",
     "output_type": "stream",
     "text": [
      "[]\n"
     ]
    },
    {
     "data": {
      "text/html": [
       "<div class=\"entities\" style=\"line-height: 2.5\"></div>"
      ],
      "text/plain": [
       "<IPython.core.display.HTML object>"
      ]
     },
     "metadata": {},
     "output_type": "display_data"
    },
    {
     "name": "stdout",
     "output_type": "stream",
     "text": [
      "[('Losing', 'VBG', 'B-per'), (':', ':', 'I-per'), ('Blue', 'NNP', 'B-gpe'), ('state', 'NN', 'I-gpe'), ('filers', 'NNS', 'O'), ('who', 'WP', 'O'), ('depend', 'VBP', 'O'), ('on', 'IN', 'O'), ('refunds', 'NNS', 'O')]\n"
     ]
    },
    {
     "data": {
      "text/html": [
       "<div class=\"entities\" style=\"line-height: 2.5\">Losing : \n",
       "<mark class=\"entity\" style=\"background: #feca74; padding: 0.45em 0.6em; margin: 0 0.25em; line-height: 1; border-radius: 0.35em; box-decoration-break: clone; -webkit-box-decoration-break: clone\">\n",
       "    Blue state\n",
       "    <span style=\"font-size: 0.8em; font-weight: bold; line-height: 1; border-radius: 0.35em; text-transform: uppercase; vertical-align: middle; margin-left: 0.5rem\">GPE</span>\n",
       "</mark>\n",
       " filers who depend on refunds</div>"
      ],
      "text/plain": [
       "<IPython.core.display.HTML object>"
      ]
     },
     "metadata": {},
     "output_type": "display_data"
    },
    {
     "name": "stdout",
     "output_type": "stream",
     "text": [
      "[]\n"
     ]
    },
    {
     "data": {
      "text/html": [
       "<div class=\"entities\" style=\"line-height: 2.5\"></div>"
      ],
      "text/plain": [
       "<IPython.core.display.HTML object>"
      ]
     },
     "metadata": {},
     "output_type": "display_data"
    },
    {
     "name": "stdout",
     "output_type": "stream",
     "text": [
      "[('That', 'DT', 'B-per'), ('H', 'NNP', 'I-per'), ('&', 'CC', 'I-org'), ('R', 'NNP', 'I-org'), ('Block', 'NNP', 'I-org'), ('preliminary', 'JJ', 'I-org'), ('data', 'NN', 'O'), ('shows', 'NNS', 'O'), ('that', 'WDT', 'O'), ('every', 'DT', 'O'), ('one', 'CD', 'O'), ('of', 'IN', 'O'), ('the', 'DT', 'O'), ('states', 'NNS', 'O'), ('where', 'WRB', 'O'), ('refunds', 'NNS', 'O'), ('are', 'VBP', 'O'), ('shrinking', 'VBG', 'O'), ('is', 'VBZ', 'O'), ('blue', 'JJ', 'O'), ('.', '.', 'O'), ('Of', 'IN', 'O'), ('course', 'NN', 'I-tim'), (',', ',', 'O'), ('experts', 'NNS', 'O'), ('say', 'VBP', 'O'), ('you', 'PRP', 'O'), ('should', 'MD', 'O'), ('aim', 'VB', 'O'), ('to', 'TO', 'O'), ('have', 'VB', 'O'), ('no', 'DT', 'O'), ('refund', 'NN', 'O'), ('and', 'CC', 'O'), ('no', 'DT', 'O'), ('tax', 'NN', 'O'), ('bill', 'NN', 'O'), ('on', 'IN', 'O'), ('tax', 'NN', 'O'), ('day', 'NN', 'O'), ('.', '.', 'O'), ('But', 'CC', 'O'), ('a', 'DT', 'O'), ('lot', 'NN', 'O'), ('of', 'IN', 'O'), ('Americans', 'NNPS', 'B-gpe'), ('rely', 'VBP', 'O'), ('on', 'IN', 'O'), ('the', 'DT', 'O'), ('refunds', 'NNS', 'O'), ('as', 'IN', 'O'), ('a', 'DT', 'O'), ('sort', 'NN', 'O'), ('of', 'IN', 'O'), ('forced', 'VBN', 'O'), ('savings', 'NNS', 'O'), ('plan', 'NN', 'O'), ('.', '.', 'O')]\n"
     ]
    },
    {
     "data": {
      "text/html": [
       "<div class=\"entities\" style=\"line-height: 2.5\">\n",
       "<mark class=\"entity\" style=\"background: #7aecec; padding: 0.45em 0.6em; margin: 0 0.25em; line-height: 1; border-radius: 0.35em; box-decoration-break: clone; -webkit-box-decoration-break: clone\">\n",
       "    That H & R Block preliminary\n",
       "    <span style=\"font-size: 0.8em; font-weight: bold; line-height: 1; border-radius: 0.35em; text-transform: uppercase; vertical-align: middle; margin-left: 0.5rem\">ORG</span>\n",
       "</mark>\n",
       " data shows that every one of the states where refund\n",
       "<mark class=\"entity\" style=\"background: #ddd; padding: 0.45em 0.6em; margin: 0 0.25em; line-height: 1; border-radius: 0.35em; box-decoration-break: clone; -webkit-box-decoration-break: clone\">\n",
       "    s are shrinking is blue . Of course\n",
       "    <span style=\"font-size: 0.8em; font-weight: bold; line-height: 1; border-radius: 0.35em; text-transform: uppercase; vertical-align: middle; margin-left: 0.5rem\">TIM</span>\n",
       "</mark>\n",
       " , experts say you should aim to have no refund and no tax bill on tax day . But a lot of \n",
       "<mark class=\"entity\" style=\"background: #feca74; padding: 0.45em 0.6em; margin: 0 0.25em; line-height: 1; border-radius: 0.35em; box-decoration-break: clone; -webkit-box-decoration-break: clone\">\n",
       "    Americans\n",
       "    <span style=\"font-size: 0.8em; font-weight: bold; line-height: 1; border-radius: 0.35em; text-transform: uppercase; vertical-align: middle; margin-left: 0.5rem\">GPE</span>\n",
       "</mark>\n",
       " rely on the refunds as a sort of forced savings plan . </div>"
      ],
      "text/plain": [
       "<IPython.core.display.HTML object>"
      ]
     },
     "metadata": {},
     "output_type": "display_data"
    },
    {
     "name": "stdout",
     "output_type": "stream",
     "text": [
      "[]\n"
     ]
    },
    {
     "data": {
      "text/html": [
       "<div class=\"entities\" style=\"line-height: 2.5\"></div>"
      ],
      "text/plain": [
       "<IPython.core.display.HTML object>"
      ]
     },
     "metadata": {},
     "output_type": "display_data"
    },
    {
     "name": "stdout",
     "output_type": "stream",
     "text": [
      "[('In', 'IN', 'O'), ('the', 'DT', 'O'), ('preliminary', 'JJ', 'B-org'), ('H', 'NNP', 'B-tim'), ('&', 'CC', 'I-tim'), ('R', 'NNP', 'I-tim'), ('Block', 'NNP', 'I-org'), ('data', 'NNS', 'I-org'), (',', ',', 'O'), ('some', 'DT', 'O'), ('of', 'IN', 'O'), ('the', 'DT', 'O'), ('states', 'NNS', 'O'), ('with', 'IN', 'O'), ('the', 'DT', 'O'), ('largest', 'JJS', 'O'), ('decreases', 'NNS', 'O'), ('in', 'IN', 'O'), ('tax', 'NN', 'O'), ('liability', 'NN', 'O'), ('are', 'VBP', 'O'), ('blue', 'JJ', 'O'), ('states', 'NNS', 'O'), ('with', 'IN', 'O'), ('high', 'JJ', 'O'), ('state', 'NN', 'O'), ('and', 'CC', 'O'), ('local', 'JJ', 'O'), ('taxes', 'NNS', 'O'), (',', ',', 'O'), ('like', 'IN', 'O'), ('New', 'NNP', 'B-geo'), ('Jersey', 'NNP', 'I-geo'), (',', ',', 'I-org'), ('California', 'NNP', 'B-geo'), ('and', 'CC', 'O'), ('Massachusetts', 'NNP', 'B-geo'), ('.', '.', 'O'), ('Filers', 'NNS', 'B-tim'), ('in', 'IN', 'O'), ('these', 'DT', 'O'), ('high', 'JJ', 'O'), ('tax', 'NN', 'O'), ('states', 'NNS', 'O'), ('averaged', 'VBD', 'O'), ('some', 'DT', 'O'), ('of', 'IN', 'O'), ('the', 'DT', 'O'), ('largest', 'JJS', 'O'), ('tax', 'NN', 'O'), ('cuts', 'NNS', 'O'), ('.', '.', 'O'), ('They', 'PRP', 'O'), ('also', 'RB', 'O'), ('saw', 'VBD', 'O'), ('some', 'DT', 'O'), ('of', 'IN', 'O'), ('the', 'DT', 'O'), ('largest', 'JJS', 'O'), ('average', 'JJ', 'O'), ('decreases', 'NNS', 'O'), ('in', 'IN', 'O'), ('refunds', 'NNS', 'B-tim'), ('.', '.', 'O')]\n"
     ]
    },
    {
     "data": {
      "text/html": [
       "<div class=\"entities\" style=\"line-height: 2.5\">In the preliminary \n",
       "<mark class=\"entity\" style=\"background: #7aecec; padding: 0.45em 0.6em; margin: 0 0.25em; line-height: 1; border-radius: 0.35em; box-decoration-break: clone; -webkit-box-decoration-break: clone\">\n",
       "    H & R Block data\n",
       "    <span style=\"font-size: 0.8em; font-weight: bold; line-height: 1; border-radius: 0.35em; text-transform: uppercase; vertical-align: middle; margin-left: 0.5rem\">ORG</span>\n",
       "</mark>\n",
       " , some of the states with the largest decreases in tax liability are blue states with high state and local taxes , like New Jersey , \n",
       "<mark class=\"entity\" style=\"background: #ddd; padding: 0.45em 0.6em; margin: 0 0.25em; line-height: 1; border-radius: 0.35em; box-decoration-break: clone; -webkit-box-decoration-break: clone\">\n",
       "    California\n",
       "    <span style=\"font-size: 0.8em; font-weight: bold; line-height: 1; border-radius: 0.35em; text-transform: uppercase; vertical-align: middle; margin-left: 0.5rem\">GEO</span>\n",
       "</mark>\n",
       " and \n",
       "<mark class=\"entity\" style=\"background: #ddd; padding: 0.45em 0.6em; margin: 0 0.25em; line-height: 1; border-radius: 0.35em; box-decoration-break: clone; -webkit-box-decoration-break: clone\">\n",
       "    Massachusetts\n",
       "    <span style=\"font-size: 0.8em; font-weight: bold; line-height: 1; border-radius: 0.35em; text-transform: uppercase; vertical-align: middle; margin-left: 0.5rem\">GEO</span>\n",
       "</mark>\n",
       " . \n",
       "<mark class=\"entity\" style=\"background: #ddd; padding: 0.45em 0.6em; margin: 0 0.25em; line-height: 1; border-radius: 0.35em; box-decoration-break: clone; -webkit-box-decoration-break: clone\">\n",
       "    Filers\n",
       "    <span style=\"font-size: 0.8em; font-weight: bold; line-height: 1; border-radius: 0.35em; text-transform: uppercase; vertical-align: middle; margin-left: 0.5rem\">TIM</span>\n",
       "</mark>\n",
       " in these high tax states averaged some of the largest tax cuts . They also saw some of the largest average decreases in \n",
       "<mark class=\"entity\" style=\"background: #ddd; padding: 0.45em 0.6em; margin: 0 0.25em; line-height: 1; border-radius: 0.35em; box-decoration-break: clone; -webkit-box-decoration-break: clone\">\n",
       "    refunds\n",
       "    <span style=\"font-size: 0.8em; font-weight: bold; line-height: 1; border-radius: 0.35em; text-transform: uppercase; vertical-align: middle; margin-left: 0.5rem\">TIM</span>\n",
       "</mark>\n",
       " . </div>"
      ],
      "text/plain": [
       "<IPython.core.display.HTML object>"
      ]
     },
     "metadata": {},
     "output_type": "display_data"
    },
    {
     "name": "stdout",
     "output_type": "stream",
     "text": [
      "[]\n"
     ]
    },
    {
     "data": {
      "text/html": [
       "<div class=\"entities\" style=\"line-height: 2.5\"></div>"
      ],
      "text/plain": [
       "<IPython.core.display.HTML object>"
      ]
     },
     "metadata": {},
     "output_type": "display_data"
    },
    {
     "name": "stdout",
     "output_type": "stream",
     "text": [
      "[('Losing', 'VBG', 'B-gpe'), (':', ':', 'I-gpe'), ('People', 'NNS', 'B-nat'), ('who', 'WP', 'O'), ('thought', 'VBD', 'O'), ('a', 'DT', 'O'), ('tax', 'NN', 'O'), ('cut', 'NN', 'O'), ('would', 'MD', 'O'), ('mean', 'VB', 'O'), ('a', 'DT', 'O'), ('bigger', 'JJR', 'O'), ('refund', 'NN', 'O')]\n"
     ]
    },
    {
     "data": {
      "text/html": [
       "<div class=\"entities\" style=\"line-height: 2.5\">Losing : \n",
       "<mark class=\"entity\" style=\"background: #ddd; padding: 0.45em 0.6em; margin: 0 0.25em; line-height: 1; border-radius: 0.35em; box-decoration-break: clone; -webkit-box-decoration-break: clone\">\n",
       "    People\n",
       "    <span style=\"font-size: 0.8em; font-weight: bold; line-height: 1; border-radius: 0.35em; text-transform: uppercase; vertical-align: middle; margin-left: 0.5rem\">NAT</span>\n",
       "</mark>\n",
       " who thought a tax cut would mean a bigger refund</div>"
      ],
      "text/plain": [
       "<IPython.core.display.HTML object>"
      ]
     },
     "metadata": {},
     "output_type": "display_data"
    },
    {
     "name": "stdout",
     "output_type": "stream",
     "text": [
      "[]\n"
     ]
    },
    {
     "data": {
      "text/html": [
       "<div class=\"entities\" style=\"line-height: 2.5\"></div>"
      ],
      "text/plain": [
       "<IPython.core.display.HTML object>"
      ]
     },
     "metadata": {},
     "output_type": "display_data"
    },
    {
     "name": "stdout",
     "output_type": "stream",
     "text": [
      "[('According', 'VBG', 'O'), ('to', 'TO', 'O'), ('preliminary', 'JJ', 'O'), ('2018', 'CD', 'B-tim'), ('tax', 'NN', 'I-tim'), ('filing', 'NN', 'O'), ('season', 'NN', 'O'), ('data', 'NNS', 'O'), ('from', 'IN', 'O'), ('H', 'NNP', 'B-geo'), ('&', 'CC', 'I-geo'), ('R', 'NNP', 'B-per'), ('Block', 'NNP', 'I-per'), (',', ',', 'O'), ('one', 'CD', 'O'), ('of', 'IN', 'O'), ('the', 'DT', 'O'), ('nation', 'NN', 'O'), (\"'\", 'POS', 'O'), ('s', 'NN', 'O'), ('largest', 'JJS', 'O'), ('tax', 'NN', 'O'), ('preparers', 'NNS', 'O'), (',', ',', 'O'), ('the', 'DT', 'O'), ('average', 'JJ', 'O'), ('tax', 'NN', 'O'), ('filing', 'NN', 'O'), ('they', 'PRP', 'O'), (\"'\", \"''\", 'B-art'), ('ve', 'NNS', 'B-eve'), ('processed', 'VBD', 'O'), ('so', 'RB', 'O'), ('far', 'RB', 'O'), ('shows', 'VBZ', 'O'), ('a', 'DT', 'O'), ('24', 'CD', 'B-tim'), ('.', '.', 'O'), ('9', 'CD', 'I-tim'), ('%', 'NN', 'I-tim'), ('drop', 'NN', 'O'), ('in', 'IN', 'O'), ('tax', 'NN', 'O'), ('liability', 'NN', 'O'), ('.', '.', 'O'), ('But', 'CC', 'O'), ('because', 'IN', 'O'), ('of', 'IN', 'O'), ('the', 'DT', 'O'), ('way', 'NN', 'O'), ('the', 'DT', 'O'), ('IRS', 'NNP', 'B-org'), ('changed', 'VBD', 'O'), ('its', 'PRP$', 'O'), ('paycheck', 'NN', 'O'), ('withholding', 'NN', 'O'), (',', ',', 'O'), ('that', 'IN', 'O'), ('cut', 'NN', 'O'), ('was', 'VBD', 'O'), ('spread', 'VBN', 'O'), ('over', 'IN', 'O'), ('the', 'DT', 'O'), ('course', 'NN', 'O'), ('of', 'IN', 'O'), ('the', 'DT', 'O'), ('year', 'NN', 'O'), ('and', 'CC', 'O'), ('refunds', 'NNS', 'O'), (',', ',', 'O'), ('on', 'IN', 'O'), ('average', 'NN', 'O'), (',', ',', 'O'), ('have', 'VBP', 'O'), ('barely', 'RB', 'O'), ('moved', 'VBN', 'O'), ('.', '.', 'O')]\n"
     ]
    },
    {
     "data": {
      "text/html": [
       "<div class=\"entities\" style=\"line-height: 2.5\">According to preliminary \n",
       "<mark class=\"entity\" style=\"background: #ddd; padding: 0.45em 0.6em; margin: 0 0.25em; line-height: 1; border-radius: 0.35em; box-decoration-break: clone; -webkit-box-decoration-break: clone\">\n",
       "    2018 tax\n",
       "    <span style=\"font-size: 0.8em; font-weight: bold; line-height: 1; border-radius: 0.35em; text-transform: uppercase; vertical-align: middle; margin-left: 0.5rem\">TIM</span>\n",
       "</mark>\n",
       " filing season data from H & \n",
       "<mark class=\"entity\" style=\"background: #ddd; padding: 0.45em 0.6em; margin: 0 0.25em; line-height: 1; border-radius: 0.35em; box-decoration-break: clone; -webkit-box-decoration-break: clone\">\n",
       "    R Block\n",
       "    <span style=\"font-size: 0.8em; font-weight: bold; line-height: 1; border-radius: 0.35em; text-transform: uppercase; vertical-align: middle; margin-left: 0.5rem\">PER</span>\n",
       "</mark>\n",
       " , one of the nation ' s largest tax preparers , the average tax filing they ' \n",
       "<mark class=\"entity\" style=\"background: #ddd; padding: 0.45em 0.6em; margin: 0 0.25em; line-height: 1; border-radius: 0.35em; box-decoration-break: clone; -webkit-box-decoration-break: clone\">\n",
       "    ve\n",
       "    <span style=\"font-size: 0.8em; font-weight: bold; line-height: 1; border-radius: 0.35em; text-transform: uppercase; vertical-align: middle; margin-left: 0.5rem\">EVE</span>\n",
       "</mark>\n",
       " processed so far shows a \n",
       "<mark class=\"entity\" style=\"background: #ddd; padding: 0.45em 0.6em; margin: 0 0.25em; line-height: 1; border-radius: 0.35em; box-decoration-break: clone; -webkit-box-decoration-break: clone\">\n",
       "    24\n",
       "    <span style=\"font-size: 0.8em; font-weight: bold; line-height: 1; border-radius: 0.35em; text-transform: uppercase; vertical-align: middle; margin-left: 0.5rem\">TIM</span>\n",
       "</mark>\n",
       "\n",
       "<mark class=\"entity\" style=\"background: #ddd; padding: 0.45em 0.6em; margin: 0 0.25em; line-height: 1; border-radius: 0.35em; box-decoration-break: clone; -webkit-box-decoration-break: clone\">\n",
       "     . 9 %\n",
       "    <span style=\"font-size: 0.8em; font-weight: bold; line-height: 1; border-radius: 0.35em; text-transform: uppercase; vertical-align: middle; margin-left: 0.5rem\">TIM</span>\n",
       "</mark>\n",
       " drop in tax liability . But because of the way the \n",
       "<mark class=\"entity\" style=\"background: #7aecec; padding: 0.45em 0.6em; margin: 0 0.25em; line-height: 1; border-radius: 0.35em; box-decoration-break: clone; -webkit-box-decoration-break: clone\">\n",
       "    IRS\n",
       "    <span style=\"font-size: 0.8em; font-weight: bold; line-height: 1; border-radius: 0.35em; text-transform: uppercase; vertical-align: middle; margin-left: 0.5rem\">ORG</span>\n",
       "</mark>\n",
       " changed its paycheck withholding , that cut was spread over the course of the year and refunds , on average , have barely moved . </div>"
      ],
      "text/plain": [
       "<IPython.core.display.HTML object>"
      ]
     },
     "metadata": {},
     "output_type": "display_data"
    },
    {
     "name": "stdout",
     "output_type": "stream",
     "text": [
      "[]\n"
     ]
    },
    {
     "data": {
      "text/html": [
       "<div class=\"entities\" style=\"line-height: 2.5\"></div>"
      ],
      "text/plain": [
       "<IPython.core.display.HTML object>"
      ]
     },
     "metadata": {},
     "output_type": "display_data"
    },
    {
     "name": "stdout",
     "output_type": "stream",
     "text": [
      "[('The', 'DT', 'O'), ('government', 'NN', 'O'), ('paid', 'VBD', 'O'), ('$', '$', 'O'), ('6', 'CD', 'B-tim'), ('billion', 'CD', 'O'), ('less', 'RBR', 'O'), ('in', 'IN', 'O'), ('refunds', 'NNS', 'O'), ('through', 'IN', 'O'), ('March', 'NNP', 'B-tim'), ('29', 'CD', 'I-tim'), (',', ',', 'O'), ('according', 'VBG', 'O'), ('to', 'TO', 'O'), ('the', 'DT', 'O'), ('IRS', 'NNP', 'B-org'), (',', ',', 'O'), ('although', 'IN', 'O'), ('the', 'DT', 'O'), ('average', 'JJ', 'O'), ('refund', 'NN', 'O'), (',', ',', 'O'), ('according', 'VBG', 'O'), ('to', 'TO', 'O'), ('its', 'PRP$', 'O'), ('data', 'NNS', 'O'), (',', ',', 'O'), ('is', 'VBZ', 'O'), ('$', '$', 'O'), ('2', 'CD', 'B-tim'), (',', ',', 'I-tim'), ('873', 'CD', 'I-tim'), ('and', 'CC', 'O'), ('has', 'VBZ', 'O'), ('shrunk', 'NN', 'O'), ('less', 'JJR', 'O'), ('than', 'IN', 'O'), ('1', 'CD', 'O'), ('%', 'NN', 'O'), ('compared', 'VBN', 'O'), ('with', 'IN', 'O'), ('last', 'JJ', 'O'), ('year', 'NN', 'O'), ('.', '.', 'O')]\n"
     ]
    },
    {
     "data": {
      "text/html": [
       "<div class=\"entities\" style=\"line-height: 2.5\">The government paid $ \n",
       "<mark class=\"entity\" style=\"background: #ddd; padding: 0.45em 0.6em; margin: 0 0.25em; line-height: 1; border-radius: 0.35em; box-decoration-break: clone; -webkit-box-decoration-break: clone\">\n",
       "    6\n",
       "    <span style=\"font-size: 0.8em; font-weight: bold; line-height: 1; border-radius: 0.35em; text-transform: uppercase; vertical-align: middle; margin-left: 0.5rem\">TIM</span>\n",
       "</mark>\n",
       " billion less in refunds through \n",
       "<mark class=\"entity\" style=\"background: #ddd; padding: 0.45em 0.6em; margin: 0 0.25em; line-height: 1; border-radius: 0.35em; box-decoration-break: clone; -webkit-box-decoration-break: clone\">\n",
       "    March 29\n",
       "    <span style=\"font-size: 0.8em; font-weight: bold; line-height: 1; border-radius: 0.35em; text-transform: uppercase; vertical-align: middle; margin-left: 0.5rem\">TIM</span>\n",
       "</mark>\n",
       " , according to the \n",
       "<mark class=\"entity\" style=\"background: #7aecec; padding: 0.45em 0.6em; margin: 0 0.25em; line-height: 1; border-radius: 0.35em; box-decoration-break: clone; -webkit-box-decoration-break: clone\">\n",
       "    IRS\n",
       "    <span style=\"font-size: 0.8em; font-weight: bold; line-height: 1; border-radius: 0.35em; text-transform: uppercase; vertical-align: middle; margin-left: 0.5rem\">ORG</span>\n",
       "</mark>\n",
       " , although the average refund , according to its data , is $ \n",
       "<mark class=\"entity\" style=\"background: #ddd; padding: 0.45em 0.6em; margin: 0 0.25em; line-height: 1; border-radius: 0.35em; box-decoration-break: clone; -webkit-box-decoration-break: clone\">\n",
       "    2 , 873\n",
       "    <span style=\"font-size: 0.8em; font-weight: bold; line-height: 1; border-radius: 0.35em; text-transform: uppercase; vertical-align: middle; margin-left: 0.5rem\">TIM</span>\n",
       "</mark>\n",
       " and has shrunk less than 1 % compared with last year . </div>"
      ],
      "text/plain": [
       "<IPython.core.display.HTML object>"
      ]
     },
     "metadata": {},
     "output_type": "display_data"
    },
    {
     "name": "stdout",
     "output_type": "stream",
     "text": [
      "[]\n"
     ]
    },
    {
     "data": {
      "text/html": [
       "<div class=\"entities\" style=\"line-height: 2.5\"></div>"
      ],
      "text/plain": [
       "<IPython.core.display.HTML object>"
      ]
     },
     "metadata": {},
     "output_type": "display_data"
    },
    {
     "name": "stdout",
     "output_type": "stream",
     "text": [
      "[('Losing', 'VBG', 'B-gpe'), (':', ':', 'I-gpe'), ('People', 'NNS', 'B-nat'), ('who', 'WP', 'I-nat'), ('aren', 'VBP', 'B-nat'), (\"'\", \"''\", 'B-art'), ('t', 'NN', 'I-tim'), ('getting', 'VBG', 'O'), ('a', 'DT', 'O'), ('refund', 'NN', 'O'), ('but', 'CC', 'O'), ('maybe', 'RB', 'O'), ('thought', 'VBD', 'O'), ('they', 'PRP', 'O'), ('would', 'MD', 'O')]\n"
     ]
    },
    {
     "data": {
      "text/html": [
       "<div class=\"entities\" style=\"line-height: 2.5\">Losing : People who aren \n",
       "<mark class=\"entity\" style=\"background: #ddd; padding: 0.45em 0.6em; margin: 0 0.25em; line-height: 1; border-radius: 0.35em; box-decoration-break: clone; -webkit-box-decoration-break: clone\">\n",
       "    ' t\n",
       "    <span style=\"font-size: 0.8em; font-weight: bold; line-height: 1; border-radius: 0.35em; text-transform: uppercase; vertical-align: middle; margin-left: 0.5rem\">TIM</span>\n",
       "</mark>\n",
       " getting a refund but maybe thought they would</div>"
      ],
      "text/plain": [
       "<IPython.core.display.HTML object>"
      ]
     },
     "metadata": {},
     "output_type": "display_data"
    },
    {
     "name": "stdout",
     "output_type": "stream",
     "text": [
      "[]\n"
     ]
    },
    {
     "data": {
      "text/html": [
       "<div class=\"entities\" style=\"line-height: 2.5\"></div>"
      ],
      "text/plain": [
       "<IPython.core.display.HTML object>"
      ]
     },
     "metadata": {},
     "output_type": "display_data"
    },
    {
     "name": "stdout",
     "output_type": "stream",
     "text": [
      "[('The', 'DT', 'O'), ('government', 'NN', 'O'), ('is', 'VBZ', 'O'), ('paying', 'VBG', 'O'), ('out', 'RP', 'O'), ('fewer', 'JJR', 'B-tim'), ('refunds', 'NNS', 'O'), ('this', 'DT', 'O'), ('year', 'NN', 'O'), ('under', 'IN', 'O'), ('the', 'DT', 'O'), ('new', 'JJ', 'O'), ('tax', 'NN', 'O'), ('law', 'NN', 'O'), (',', ',', 'O'), ('according', 'VBG', 'O'), ('to', 'TO', 'O'), ('preliminary', 'JJ', 'O'), ('IRS', 'NNP', 'B-org'), ('data', 'NN', 'O'), ('on', 'IN', 'O'), ('filings', 'NNS', 'O'), ('through', 'IN', 'O'), ('March', 'NNP', 'B-tim'), ('29', 'CD', 'I-tim'), ('.', '.', 'O'), ('There', 'EX', 'O'), ('have', 'VBP', 'O'), ('been', 'VBN', 'O'), ('2', 'CD', 'O'), ('.', '.', 'O'), ('2', 'CD', 'I-tim'), ('%', 'NN', 'I-tim'), ('fewer', 'JJR', 'I-tim'), ('refunds', 'NNS', 'I-tim'), ('than', 'IN', 'O'), ('last', 'JJ', 'O'), ('year', 'NN', 'O'), (',', ',', 'O'), ('according', 'VBG', 'O'), ('to', 'TO', 'O'), ('the', 'DT', 'O'), ('IRS', 'NNP', 'B-geo'), (',', ',', 'O'), ('but', 'CC', 'O'), ('only', 'RB', 'O'), ('1', 'CD', 'O'), ('.', '.', 'O'), ('4', 'CD', 'I-tim'), ('%', 'NN', 'I-tim'), ('fewer', 'JJR', 'I-tim'), ('returns', 'NNS', 'I-tim'), ('processed', 'VBD', 'O'), ('.', '.', 'O')]\n"
     ]
    },
    {
     "data": {
      "text/html": [
       "<div class=\"entities\" style=\"line-height: 2.5\">The government is paying out \n",
       "<mark class=\"entity\" style=\"background: #ddd; padding: 0.45em 0.6em; margin: 0 0.25em; line-height: 1; border-radius: 0.35em; box-decoration-break: clone; -webkit-box-decoration-break: clone\">\n",
       "    fewer\n",
       "    <span style=\"font-size: 0.8em; font-weight: bold; line-height: 1; border-radius: 0.35em; text-transform: uppercase; vertical-align: middle; margin-left: 0.5rem\">TIM</span>\n",
       "</mark>\n",
       " refunds this year under the new tax law , according to preliminary \n",
       "<mark class=\"entity\" style=\"background: #7aecec; padding: 0.45em 0.6em; margin: 0 0.25em; line-height: 1; border-radius: 0.35em; box-decoration-break: clone; -webkit-box-decoration-break: clone\">\n",
       "    IRS\n",
       "    <span style=\"font-size: 0.8em; font-weight: bold; line-height: 1; border-radius: 0.35em; text-transform: uppercase; vertical-align: middle; margin-left: 0.5rem\">ORG</span>\n",
       "</mark>\n",
       " data on filings through \n",
       "<mark class=\"entity\" style=\"background: #ddd; padding: 0.45em 0.6em; margin: 0 0.25em; line-height: 1; border-radius: 0.35em; box-decoration-break: clone; -webkit-box-decoration-break: clone\">\n",
       "    March 29\n",
       "    <span style=\"font-size: 0.8em; font-weight: bold; line-height: 1; border-radius: 0.35em; text-transform: uppercase; vertical-align: middle; margin-left: 0.5rem\">TIM</span>\n",
       "</mark>\n",
       " . There have \n",
       "<mark class=\"entity\" style=\"background: #ddd; padding: 0.45em 0.6em; margin: 0 0.25em; line-height: 1; border-radius: 0.35em; box-decoration-break: clone; -webkit-box-decoration-break: clone\">\n",
       "    been 2 . 2 % fewer refunds\n",
       "    <span style=\"font-size: 0.8em; font-weight: bold; line-height: 1; border-radius: 0.35em; text-transform: uppercase; vertical-align: middle; margin-left: 0.5rem\">TIM</span>\n",
       "</mark>\n",
       " than last year , according to the \n",
       "<mark class=\"entity\" style=\"background: #ddd; padding: 0.45em 0.6em; margin: 0 0.25em; line-height: 1; border-radius: 0.35em; box-decoration-break: clone; -webkit-box-decoration-break: clone\">\n",
       "    IRS\n",
       "    <span style=\"font-size: 0.8em; font-weight: bold; line-height: 1; border-radius: 0.35em; text-transform: uppercase; vertical-align: middle; margin-left: 0.5rem\">GEO</span>\n",
       "</mark>\n",
       " , but only \n",
       "<mark class=\"entity\" style=\"background: #ddd; padding: 0.45em 0.6em; margin: 0 0.25em; line-height: 1; border-radius: 0.35em; box-decoration-break: clone; -webkit-box-decoration-break: clone\">\n",
       "    1 . 4 % fewer returns\n",
       "    <span style=\"font-size: 0.8em; font-weight: bold; line-height: 1; border-radius: 0.35em; text-transform: uppercase; vertical-align: middle; margin-left: 0.5rem\">TIM</span>\n",
       "</mark>\n",
       " processed . </div>"
      ],
      "text/plain": [
       "<IPython.core.display.HTML object>"
      ]
     },
     "metadata": {},
     "output_type": "display_data"
    },
    {
     "name": "stdout",
     "output_type": "stream",
     "text": [
      "[]\n"
     ]
    },
    {
     "data": {
      "text/html": [
       "<div class=\"entities\" style=\"line-height: 2.5\"></div>"
      ],
      "text/plain": [
       "<IPython.core.display.HTML object>"
      ]
     },
     "metadata": {},
     "output_type": "display_data"
    },
    {
     "name": "stdout",
     "output_type": "stream",
     "text": [
      "[('Winning', 'VBG', 'B-gpe'), (':', ':', 'I-gpe'), ('People', 'NNS', 'B-nat'), ('doing', 'VBG', 'O'), ('their', 'PRP$', 'O'), ('own', 'JJ', 'O'), ('taxes', 'NNS', 'O')]\n"
     ]
    },
    {
     "data": {
      "text/html": [
       "<div class=\"entities\" style=\"line-height: 2.5\">Winning : \n",
       "<mark class=\"entity\" style=\"background: #ddd; padding: 0.45em 0.6em; margin: 0 0.25em; line-height: 1; border-radius: 0.35em; box-decoration-break: clone; -webkit-box-decoration-break: clone\">\n",
       "    People\n",
       "    <span style=\"font-size: 0.8em; font-weight: bold; line-height: 1; border-radius: 0.35em; text-transform: uppercase; vertical-align: middle; margin-left: 0.5rem\">NAT</span>\n",
       "</mark>\n",
       " doing their own taxes</div>"
      ],
      "text/plain": [
       "<IPython.core.display.HTML object>"
      ]
     },
     "metadata": {},
     "output_type": "display_data"
    },
    {
     "name": "stdout",
     "output_type": "stream",
     "text": [
      "[]\n"
     ]
    },
    {
     "data": {
      "text/html": [
       "<div class=\"entities\" style=\"line-height: 2.5\"></div>"
      ],
      "text/plain": [
       "<IPython.core.display.HTML object>"
      ]
     },
     "metadata": {},
     "output_type": "display_data"
    },
    {
     "name": "stdout",
     "output_type": "stream",
     "text": [
      "[('There', 'EX', 'O'), ('was', 'VBD', 'O'), ('a', 'DT', 'O'), ('2', 'CD', 'B-tim'), ('.', '.', 'O'), ('3', 'CD', 'B-tim'), ('%', 'NN', 'I-tim'), ('increase', 'NN', 'O'), ('in', 'IN', 'O'), ('the', 'DT', 'O'), ('number', 'NN', 'O'), ('of', 'IN', 'O'), ('e', 'JJ', 'O'), ('-', ':', 'O'), ('filed', 'VBN', 'O'), ('tax', 'NN', 'O'), ('returns', 'NNS', 'O'), ('self', 'PRP', 'B-tim'), ('-', ':', 'I-tim'), ('prepared', 'VBN', 'O'), ('by', 'IN', 'O'), ('the', 'DT', 'O'), ('filer', 'NN', 'O'), (',', ',', 'O'), ('according', 'VBG', 'O'), ('to', 'TO', 'O'), ('that', 'DT', 'O'), ('IRS', 'NNP', 'B-org'), ('data', 'NN', 'O'), ('from', 'IN', 'O'), ('March', 'NNP', 'B-tim'), ('29', 'CD', 'I-tim'), ('.', '.', 'O'), ('At', 'IN', 'O'), ('more', 'JJR', 'O'), ('than', 'IN', 'O'), ('358', 'CD', 'B-tim'), ('million', 'CD', 'I-tim'), (',', ',', 'O'), ('visits', 'NNS', 'O'), ('to', 'TO', 'O'), ('IRS', 'NNP', 'B-geo'), ('.', '.', 'O'), ('gov', 'NN', 'O'), ('are', 'VBP', 'O'), ('up', 'RB', 'O'), ('more', 'JJR', 'O'), ('than', 'IN', 'O'), ('10', 'CD', 'O'), ('%', 'NN', 'O'), ('this', 'DT', 'O'), ('year', 'NN', 'O'), ('.', '.', 'O'), ('That', 'DT', 'O'), ('said', 'VBD', 'O'), (',', ',', 'O'), ('the', 'DT', 'O'), ('new', 'JJ', 'O'), ('tax', 'NN', 'O'), ('law', 'NN', 'O'), ('preserves', 'VBZ', 'O'), ('the', 'DT', 'O'), ('deduction', 'NN', 'O'), ('people', 'NNS', 'O'), ('can', 'MD', 'O'), ('take', 'VB', 'O'), ('for', 'IN', 'O'), ('hiring', 'VBG', 'O'), ('an', 'DT', 'O'), ('accountant', 'NN', 'O'), ('(', '(', 'O'), ('assuming', 'VBG', 'O'), ('they', 'PRP', 'O'), ('are', 'VBP', 'O'), ('not', 'RB', 'O'), ('taking', 'VBG', 'O'), ('the', 'DT', 'O'), ('standard', 'JJ', 'B-org'), ('deduction', 'NN', 'I-tim'), (')', ')', 'I-tim'), ('.', '.', 'O')]\n"
     ]
    },
    {
     "data": {
      "text/html": [
       "<div class=\"entities\" style=\"line-height: 2.5\">There was a \n",
       "<mark class=\"entity\" style=\"background: #ddd; padding: 0.45em 0.6em; margin: 0 0.25em; line-height: 1; border-radius: 0.35em; box-decoration-break: clone; -webkit-box-decoration-break: clone\">\n",
       "    2\n",
       "    <span style=\"font-size: 0.8em; font-weight: bold; line-height: 1; border-radius: 0.35em; text-transform: uppercase; vertical-align: middle; margin-left: 0.5rem\">TIM</span>\n",
       "</mark>\n",
       " . \n",
       "<mark class=\"entity\" style=\"background: #ddd; padding: 0.45em 0.6em; margin: 0 0.25em; line-height: 1; border-radius: 0.35em; box-decoration-break: clone; -webkit-box-decoration-break: clone\">\n",
       "    3 %\n",
       "    <span style=\"font-size: 0.8em; font-weight: bold; line-height: 1; border-radius: 0.35em; text-transform: uppercase; vertical-align: middle; margin-left: 0.5rem\">TIM</span>\n",
       "</mark>\n",
       " increase in the number of e - filed tax returns \n",
       "<mark class=\"entity\" style=\"background: #ddd; padding: 0.45em 0.6em; margin: 0 0.25em; line-height: 1; border-radius: 0.35em; box-decoration-break: clone; -webkit-box-decoration-break: clone\">\n",
       "    self -\n",
       "    <span style=\"font-size: 0.8em; font-weight: bold; line-height: 1; border-radius: 0.35em; text-transform: uppercase; vertical-align: middle; margin-left: 0.5rem\">TIM</span>\n",
       "</mark>\n",
       " prepared by the filer , according to that \n",
       "<mark class=\"entity\" style=\"background: #7aecec; padding: 0.45em 0.6em; margin: 0 0.25em; line-height: 1; border-radius: 0.35em; box-decoration-break: clone; -webkit-box-decoration-break: clone\">\n",
       "    IRS\n",
       "    <span style=\"font-size: 0.8em; font-weight: bold; line-height: 1; border-radius: 0.35em; text-transform: uppercase; vertical-align: middle; margin-left: 0.5rem\">ORG</span>\n",
       "</mark>\n",
       " data from \n",
       "<mark class=\"entity\" style=\"background: #ddd; padding: 0.45em 0.6em; margin: 0 0.25em; line-height: 1; border-radius: 0.35em; box-decoration-break: clone; -webkit-box-decoration-break: clone\">\n",
       "    March 29\n",
       "    <span style=\"font-size: 0.8em; font-weight: bold; line-height: 1; border-radius: 0.35em; text-transform: uppercase; vertical-align: middle; margin-left: 0.5rem\">TIM</span>\n",
       "</mark>\n",
       " . At more than \n",
       "<mark class=\"entity\" style=\"background: #ddd; padding: 0.45em 0.6em; margin: 0 0.25em; line-height: 1; border-radius: 0.35em; box-decoration-break: clone; -webkit-box-decoration-break: clone\">\n",
       "    358 million\n",
       "    <span style=\"font-size: 0.8em; font-weight: bold; line-height: 1; border-radius: 0.35em; text-transform: uppercase; vertical-align: middle; margin-left: 0.5rem\">TIM</span>\n",
       "</mark>\n",
       " , visits to \n",
       "<mark class=\"entity\" style=\"background: #ddd; padding: 0.45em 0.6em; margin: 0 0.25em; line-height: 1; border-radius: 0.35em; box-decoration-break: clone; -webkit-box-decoration-break: clone\">\n",
       "    IRS\n",
       "    <span style=\"font-size: 0.8em; font-weight: bold; line-height: 1; border-radius: 0.35em; text-transform: uppercase; vertical-align: middle; margin-left: 0.5rem\">GEO</span>\n",
       "</mark>\n",
       " . gov are up more than 10 % this year . That said , the new tax law preserves the deduction people can take for hiring an accountant ( assuming they are not taking the \n",
       "<mark class=\"entity\" style=\"background: #ddd; padding: 0.45em 0.6em; margin: 0 0.25em; line-height: 1; border-radius: 0.35em; box-decoration-break: clone; -webkit-box-decoration-break: clone\">\n",
       "    standard deduction )\n",
       "    <span style=\"font-size: 0.8em; font-weight: bold; line-height: 1; border-radius: 0.35em; text-transform: uppercase; vertical-align: middle; margin-left: 0.5rem\">TIM</span>\n",
       "</mark>\n",
       " . </div>"
      ],
      "text/plain": [
       "<IPython.core.display.HTML object>"
      ]
     },
     "metadata": {},
     "output_type": "display_data"
    },
    {
     "name": "stdout",
     "output_type": "stream",
     "text": [
      "[]\n"
     ]
    },
    {
     "data": {
      "text/html": [
       "<div class=\"entities\" style=\"line-height: 2.5\"></div>"
      ],
      "text/plain": [
       "<IPython.core.display.HTML object>"
      ]
     },
     "metadata": {},
     "output_type": "display_data"
    },
    {
     "name": "stdout",
     "output_type": "stream",
     "text": [
      "[('Winning', 'VBG', 'B-gpe'), (':', ':', 'I-gpe'), ('People', 'NNS', 'O'), ('taking', 'VBG', 'O'), ('the', 'DT', 'O'), ('standard', 'JJ', 'O'), ('deduction', 'NN', 'O')]\n"
     ]
    },
    {
     "data": {
      "text/html": [
       "<div class=\"entities\" style=\"line-height: 2.5\">\n",
       "<mark class=\"entity\" style=\"background: #feca74; padding: 0.45em 0.6em; margin: 0 0.25em; line-height: 1; border-radius: 0.35em; box-decoration-break: clone; -webkit-box-decoration-break: clone\">\n",
       "    Winning :\n",
       "    <span style=\"font-size: 0.8em; font-weight: bold; line-height: 1; border-radius: 0.35em; text-transform: uppercase; vertical-align: middle; margin-left: 0.5rem\">GPE</span>\n",
       "</mark>\n",
       " People taking the standard deduction</div>"
      ],
      "text/plain": [
       "<IPython.core.display.HTML object>"
      ]
     },
     "metadata": {},
     "output_type": "display_data"
    },
    {
     "name": "stdout",
     "output_type": "stream",
     "text": [
      "[]\n"
     ]
    },
    {
     "data": {
      "text/html": [
       "<div class=\"entities\" style=\"line-height: 2.5\"></div>"
      ],
      "text/plain": [
       "<IPython.core.display.HTML object>"
      ]
     },
     "metadata": {},
     "output_type": "display_data"
    },
    {
     "name": "stdout",
     "output_type": "stream",
     "text": [
      "[('Taxes', 'NNS', 'B-gpe'), ('should', 'MD', 'O'), ('get', 'VB', 'O'), ('easier', 'JJR', 'O'), ('since', 'IN', 'O'), ('the', 'DT', 'O'), ('standard', 'JJ', 'O'), ('deduction', 'NN', 'O'), ('nearly', 'RB', 'O'), ('doubled', 'VBD', 'O'), ('to', 'TO', 'O'), ('$', '$', 'O'), ('12', 'CD', 'B-tim'), (',', ',', 'O'), ('200', 'CD', 'O'), ('for', 'IN', 'O'), ('individuals', 'NNS', 'O'), ('and', 'CC', 'O'), ('$', '$', 'O'), ('24', 'CD', 'B-tim'), (',', ',', 'I-tim'), ('400', 'CD', 'O'), ('for', 'IN', 'O'), ('married', 'JJ', 'B-tim'), ('couples', 'NNS', 'I-tim'), ('.', '.', 'O'), ('That', 'DT', 'O'), ('means', 'VBZ', 'O'), ('that', 'IN', 'O'), ('most', 'JJS', 'O'), ('Americans', 'NNPS', 'B-geo'), ('will', 'MD', 'O'), ('not', 'RB', 'O'), ('itemize', 'VB', 'O'), ('their', 'PRP$', 'O'), ('tax', 'NN', 'O'), ('returns', 'NNS', 'O'), ('and', 'CC', 'O'), ('that', 'DT', 'O'), ('caps', 'NNS', 'O'), ('on', 'IN', 'O'), ('state', 'NN', 'O'), ('and', 'CC', 'O'), ('local', 'JJ', 'O'), ('tax', 'NN', 'O'), ('deductions', 'NNS', 'O'), ('may', 'MD', 'O'), ('not', 'RB', 'O'), ('affect', 'VB', 'O'), ('as', 'IN', 'O'), ('many', 'JJ', 'O'), ('people', 'NNS', 'O'), ('as', 'IN', 'O'), ('feared', 'VBN', 'O'), ('.', '.', 'O')]\n"
     ]
    },
    {
     "data": {
      "text/html": [
       "<div class=\"entities\" style=\"line-height: 2.5\">\n",
       "<mark class=\"entity\" style=\"background: #feca74; padding: 0.45em 0.6em; margin: 0 0.25em; line-height: 1; border-radius: 0.35em; box-decoration-break: clone; -webkit-box-decoration-break: clone\">\n",
       "    Taxes\n",
       "    <span style=\"font-size: 0.8em; font-weight: bold; line-height: 1; border-radius: 0.35em; text-transform: uppercase; vertical-align: middle; margin-left: 0.5rem\">GPE</span>\n",
       "</mark>\n",
       " should get easier since the standard deduction nearly doubled to $ \n",
       "<mark class=\"entity\" style=\"background: #ddd; padding: 0.45em 0.6em; margin: 0 0.25em; line-height: 1; border-radius: 0.35em; box-decoration-break: clone; -webkit-box-decoration-break: clone\">\n",
       "    12\n",
       "    <span style=\"font-size: 0.8em; font-weight: bold; line-height: 1; border-radius: 0.35em; text-transform: uppercase; vertical-align: middle; margin-left: 0.5rem\">TIM</span>\n",
       "</mark>\n",
       " , 200 for individuals and $ \n",
       "<mark class=\"entity\" style=\"background: #ddd; padding: 0.45em 0.6em; margin: 0 0.25em; line-height: 1; border-radius: 0.35em; box-decoration-break: clone; -webkit-box-decoration-break: clone\">\n",
       "    24 ,\n",
       "    <span style=\"font-size: 0.8em; font-weight: bold; line-height: 1; border-radius: 0.35em; text-transform: uppercase; vertical-align: middle; margin-left: 0.5rem\">TIM</span>\n",
       "</mark>\n",
       " 400 for \n",
       "<mark class=\"entity\" style=\"background: #ddd; padding: 0.45em 0.6em; margin: 0 0.25em; line-height: 1; border-radius: 0.35em; box-decoration-break: clone; -webkit-box-decoration-break: clone\">\n",
       "    married couples\n",
       "    <span style=\"font-size: 0.8em; font-weight: bold; line-height: 1; border-radius: 0.35em; text-transform: uppercase; vertical-align: middle; margin-left: 0.5rem\">TIM</span>\n",
       "</mark>\n",
       " . That means that most \n",
       "<mark class=\"entity\" style=\"background: #ddd; padding: 0.45em 0.6em; margin: 0 0.25em; line-height: 1; border-radius: 0.35em; box-decoration-break: clone; -webkit-box-decoration-break: clone\">\n",
       "    Americans\n",
       "    <span style=\"font-size: 0.8em; font-weight: bold; line-height: 1; border-radius: 0.35em; text-transform: uppercase; vertical-align: middle; margin-left: 0.5rem\">GEO</span>\n",
       "</mark>\n",
       " will not itemize their tax returns and that caps on state and local tax deductions may not affect as many people as feared . </div>"
      ],
      "text/plain": [
       "<IPython.core.display.HTML object>"
      ]
     },
     "metadata": {},
     "output_type": "display_data"
    },
    {
     "name": "stdout",
     "output_type": "stream",
     "text": [
      "[]\n"
     ]
    },
    {
     "data": {
      "text/html": [
       "<div class=\"entities\" style=\"line-height: 2.5\"></div>"
      ],
      "text/plain": [
       "<IPython.core.display.HTML object>"
      ]
     },
     "metadata": {},
     "output_type": "display_data"
    },
    {
     "name": "stdout",
     "output_type": "stream",
     "text": [
      "[('Losing', 'VBG', 'B-per'), (':', ':', 'I-per'), ('Washington', 'NNP', 'B-geo'), (',', ',', 'O'), ('DC', 'NNP', 'B-geo'), (',', ',', 'O'), ('tax', 'NN', 'O'), ('filers', 'NNS', 'O')]\n"
     ]
    },
    {
     "data": {
      "text/html": [
       "<div class=\"entities\" style=\"line-height: 2.5\">Losing : \n",
       "<mark class=\"entity\" style=\"background: #ddd; padding: 0.45em 0.6em; margin: 0 0.25em; line-height: 1; border-radius: 0.35em; box-decoration-break: clone; -webkit-box-decoration-break: clone\">\n",
       "    Washington\n",
       "    <span style=\"font-size: 0.8em; font-weight: bold; line-height: 1; border-radius: 0.35em; text-transform: uppercase; vertical-align: middle; margin-left: 0.5rem\">GEO</span>\n",
       "</mark>\n",
       " , \n",
       "<mark class=\"entity\" style=\"background: #ddd; padding: 0.45em 0.6em; margin: 0 0.25em; line-height: 1; border-radius: 0.35em; box-decoration-break: clone; -webkit-box-decoration-break: clone\">\n",
       "    DC\n",
       "    <span style=\"font-size: 0.8em; font-weight: bold; line-height: 1; border-radius: 0.35em; text-transform: uppercase; vertical-align: middle; margin-left: 0.5rem\">GEO</span>\n",
       "</mark>\n",
       " , tax filers</div>"
      ],
      "text/plain": [
       "<IPython.core.display.HTML object>"
      ]
     },
     "metadata": {},
     "output_type": "display_data"
    },
    {
     "name": "stdout",
     "output_type": "stream",
     "text": [
      "[]\n"
     ]
    },
    {
     "data": {
      "text/html": [
       "<div class=\"entities\" style=\"line-height: 2.5\"></div>"
      ],
      "text/plain": [
       "<IPython.core.display.HTML object>"
      ]
     },
     "metadata": {},
     "output_type": "display_data"
    },
    {
     "name": "stdout",
     "output_type": "stream",
     "text": [
      "[('The', 'DT', 'O'), ('capital', 'NN', 'O'), ('is', 'VBZ', 'O'), ('seeing', 'VBG', 'O'), ('the', 'DT', 'O'), ('largest', 'JJS', 'O'), ('average', 'JJ', 'O'), ('refund', 'NN', 'O'), ('drop', 'NN', 'O'), (',', ',', 'O'), ('at', 'IN', 'O'), ('6', 'CD', 'O'), ('.', '.', 'O'), ('1', 'CD', 'O'), ('%', 'NN', 'O'), ('.', '.', 'O'), ('It', 'PRP', 'O'), ('is', 'VBZ', 'O'), ('also', 'RB', 'O'), ('seeing', 'VBG', 'O'), ('the', 'DT', 'O'), ('smallest', 'JJS', 'O'), ('decrease', 'NN', 'O'), ('in', 'IN', 'O'), ('average', 'JJ', 'O'), ('tax', 'NN', 'O'), ('liability', 'NN', 'O'), (',', ',', 'O'), ('18', 'CD', 'O'), ('%', 'NN', 'O'), ('-', ':', 'O'), ('-', ':', 'O'), ('which', 'WDT', 'O'), ('is', 'VBZ', 'O'), ('indeed', 'RB', 'O'), ('a', 'DT', 'O'), ('cut', 'NN', 'O'), (',', ',', 'O'), ('but', 'CC', 'O'), ('the', 'DT', 'O'), ('smallest', 'JJS', 'O'), (',', ',', 'O'), ('on', 'IN', 'O'), ('average', 'NN', 'O'), (',', ',', 'O'), ('in', 'IN', 'O'), ('the', 'DT', 'O'), ('country', 'NN', 'O'), ('.', '.', 'O')]\n"
     ]
    },
    {
     "data": {
      "text/html": [
       "<div class=\"entities\" style=\"line-height: 2.5\">The capital is seeing the largest average refund drop , at 6 . 1 % . It is also seeing the smallest decrease in average tax liability , 18 % - - which is indeed a cut , but the smallest , on average , in the country . </div>"
      ],
      "text/plain": [
       "<IPython.core.display.HTML object>"
      ]
     },
     "metadata": {},
     "output_type": "display_data"
    },
    {
     "name": "stdout",
     "output_type": "stream",
     "text": [
      "[]\n"
     ]
    },
    {
     "data": {
      "text/html": [
       "<div class=\"entities\" style=\"line-height: 2.5\"></div>"
      ],
      "text/plain": [
       "<IPython.core.display.HTML object>"
      ]
     },
     "metadata": {},
     "output_type": "display_data"
    },
    {
     "name": "stdout",
     "output_type": "stream",
     "text": [
      "[('Winning', 'VBG', 'B-gpe'), ('forever', 'NN', 'I-gpe'), (':', ':', 'I-tim'), ('Corporations', 'NNS', 'O')]\n"
     ]
    },
    {
     "data": {
      "text/html": [
       "<div class=\"entities\" style=\"line-height: 2.5\">\n",
       "<mark class=\"entity\" style=\"background: #ddd; padding: 0.45em 0.6em; margin: 0 0.25em; line-height: 1; border-radius: 0.35em; box-decoration-break: clone; -webkit-box-decoration-break: clone\">\n",
       "    Winning forever :\n",
       "    <span style=\"font-size: 0.8em; font-weight: bold; line-height: 1; border-radius: 0.35em; text-transform: uppercase; vertical-align: middle; margin-left: 0.5rem\">TIM</span>\n",
       "</mark>\n",
       " Corporations</div>"
      ],
      "text/plain": [
       "<IPython.core.display.HTML object>"
      ]
     },
     "metadata": {},
     "output_type": "display_data"
    },
    {
     "name": "stdout",
     "output_type": "stream",
     "text": [
      "[]\n"
     ]
    },
    {
     "data": {
      "text/html": [
       "<div class=\"entities\" style=\"line-height: 2.5\"></div>"
      ],
      "text/plain": [
       "<IPython.core.display.HTML object>"
      ]
     },
     "metadata": {},
     "output_type": "display_data"
    },
    {
     "name": "stdout",
     "output_type": "stream",
     "text": [
      "[('They', 'PRP', 'O'), ('got', 'VBD', 'O'), ('a', 'DT', 'O'), ('massive', 'JJ', 'O'), ('rate', 'NN', 'O'), ('cut', 'NN', 'O'), (',', ',', 'O'), ('from', 'IN', 'O'), ('35', 'CD', 'O'), ('%', 'NN', 'O'), ('to', 'TO', 'O'), ('21', 'CD', 'O'), ('%', 'NN', 'O'), (',', ',', 'O'), ('starting', 'VBG', 'O'), ('in', 'IN', 'O'), ('2018', 'CD', 'B-tim'), ('that', 'IN', 'I-tim'), (\"'\", \"''\", 'I-tim'), ('s', 'NNS', 'I-tim'), ('permanently', 'RB', 'I-tim'), ('enshrined', 'VBN', 'O'), ('in', 'IN', 'O'), ('the', 'DT', 'O'), ('new', 'JJ', 'O'), ('law', 'NN', 'O'), ('.', '.', 'O')]\n"
     ]
    },
    {
     "data": {
      "text/html": [
       "<div class=\"entities\" style=\"line-height: 2.5\">They got a massive rate cut , from 35 % to 21 % , starting in \n",
       "<mark class=\"entity\" style=\"background: #ddd; padding: 0.45em 0.6em; margin: 0 0.25em; line-height: 1; border-radius: 0.35em; box-decoration-break: clone; -webkit-box-decoration-break: clone\">\n",
       "    2018 that ' s permanently\n",
       "    <span style=\"font-size: 0.8em; font-weight: bold; line-height: 1; border-radius: 0.35em; text-transform: uppercase; vertical-align: middle; margin-left: 0.5rem\">TIM</span>\n",
       "</mark>\n",
       " enshrined in the new law . </div>"
      ],
      "text/plain": [
       "<IPython.core.display.HTML object>"
      ]
     },
     "metadata": {},
     "output_type": "display_data"
    },
    {
     "name": "stdout",
     "output_type": "stream",
     "text": [
      "[]\n"
     ]
    },
    {
     "data": {
      "text/html": [
       "<div class=\"entities\" style=\"line-height: 2.5\"></div>"
      ],
      "text/plain": [
       "<IPython.core.display.HTML object>"
      ]
     },
     "metadata": {},
     "output_type": "display_data"
    },
    {
     "name": "stdout",
     "output_type": "stream",
     "text": [
      "[('Losing', 'VBG', 'B-per'), (':', ':', 'I-per'), ('The', 'DT', 'O'), ('US', 'NNP', 'B-org'), ('Treasury', 'NNP', 'O')]\n"
     ]
    },
    {
     "data": {
      "text/html": [
       "<div class=\"entities\" style=\"line-height: 2.5\">\n",
       "<mark class=\"entity\" style=\"background: #ddd; padding: 0.45em 0.6em; margin: 0 0.25em; line-height: 1; border-radius: 0.35em; box-decoration-break: clone; -webkit-box-decoration-break: clone\">\n",
       "    Losing :\n",
       "    <span style=\"font-size: 0.8em; font-weight: bold; line-height: 1; border-radius: 0.35em; text-transform: uppercase; vertical-align: middle; margin-left: 0.5rem\">PER</span>\n",
       "</mark>\n",
       " The \n",
       "<mark class=\"entity\" style=\"background: #7aecec; padding: 0.45em 0.6em; margin: 0 0.25em; line-height: 1; border-radius: 0.35em; box-decoration-break: clone; -webkit-box-decoration-break: clone\">\n",
       "    US\n",
       "    <span style=\"font-size: 0.8em; font-weight: bold; line-height: 1; border-radius: 0.35em; text-transform: uppercase; vertical-align: middle; margin-left: 0.5rem\">ORG</span>\n",
       "</mark>\n",
       " Treasury</div>"
      ],
      "text/plain": [
       "<IPython.core.display.HTML object>"
      ]
     },
     "metadata": {},
     "output_type": "display_data"
    }
   ],
   "source": [
    "render_nltk_ner_with_iob(text)"
   ]
  },
  {
   "cell_type": "code",
   "execution_count": 8,
   "metadata": {},
   "outputs": [],
   "source": [
    "# limitation of these datasets is that they are biased towards certain genres such as \n",
    "# GEO, ORG, PER, GPE, TIM due to the unbalanced porportion, thus the NER classifiers \n",
    "# often perform poorly when trained on these dataset and then tested on a other types \n",
    "# of text genres such as ART, EVE, NAT.\n",
    "\n",
    "# As we can see from the output of the article above, it does not recognize the money, \n",
    "# and instead it recognizes as time since our dataset does not contain training label\n",
    "# for date, one potential solution besides from making a new Tag category is that \n",
    "# we can hard code to make it learn that any numeric number after $ (dollar sign) to \n",
    "# be recognized as money."
   ]
  },
  {
   "cell_type": "code",
   "execution_count": null,
   "metadata": {},
   "outputs": [],
   "source": []
  }
 ],
 "metadata": {
  "kernelspec": {
   "display_name": "Python 3",
   "language": "python",
   "name": "python3"
  },
  "language_info": {
   "codemirror_mode": {
    "name": "ipython",
    "version": 3
   },
   "file_extension": ".py",
   "mimetype": "text/x-python",
   "name": "python",
   "nbconvert_exporter": "python",
   "pygments_lexer": "ipython3",
   "version": "3.6.8"
  }
 },
 "nbformat": 4,
 "nbformat_minor": 2
}
